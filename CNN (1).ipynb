{
  "nbformat": 4,
  "nbformat_minor": 0,
  "metadata": {
    "colab": {
      "provenance": []
    },
    "kernelspec": {
      "name": "python3",
      "display_name": "Python 3"
    },
    "language_info": {
      "name": "python"
    }
  },
  "cells": [
    {
      "cell_type": "code",
      "source": [
        "import joblib\n",
        "import pickle\n",
        "import pandas as pd\n",
        "import numpy as np\n",
        "import math\n",
        "import tensorflow as tf\n",
        "import keras\n",
        "import time\n",
        "from keras.losses import categorical_crossentropy\n",
        "from keras.metrics import categorical_accuracy\n",
        "from keras.models import Sequential\n",
        "from keras.layers import Dense, Dropout, Flatten, Activation\n",
        "from keras.optimizers import Adam, SGD, RMSprop\n",
        "from keras.layers import Conv2D, MaxPool2D\n",
        "from keras import backend as K\n",
        "from keras.layers import BatchNormalization\n",
        "from keras.initializers import glorot_uniform\n",
        "from keras.callbacks import ReduceLROnPlateau\n",
        "from keras.models import load_model\n",
        "# from scikeras.wrappers import KerasClassifier\n",
        "from keras import metrics\n",
        "from keras.callbacks import ModelCheckpoint, EarlyStopping\n",
        "from sklearn.model_selection import train_test_split\n",
        "from sklearn.model_selection import GridSearchCV, PredefinedSplit\n",
        "from sklearn.preprocessing import LabelEncoder\n",
        "from sklearn.preprocessing import StandardScaler\n",
        "from sklearn.preprocessing import MinMaxScaler\n",
        "from IPython import display\n",
        "import matplotlib.pyplot as plt\n",
        "%matplotlib inline\n",
        "from keras.regularizers import l2\n",
        "from keras.initializers import HeNormal\n",
        "from tensorflow.keras.utils import to_categorical"
      ],
      "metadata": {
        "id": "rVq8J5suwnp6"
      },
      "execution_count": null,
      "outputs": []
    },
    {
      "cell_type": "code",
      "source": [
        "df = pd.read_pickle('/content/drive/MyDrive/Colab Notebooks/FingerClassification/Data/data_final1.pkl')"
      ],
      "metadata": {
        "id": "M-TasYoUwpq0"
      },
      "execution_count": null,
      "outputs": []
    },
    {
      "cell_type": "code",
      "source": [
        "df.head()"
      ],
      "metadata": {
        "colab": {
          "base_uri": "https://localhost:8080/",
          "height": 921
        },
        "id": "NvED4scCwyjj",
        "outputId": "1fe534f2-f9ff-4d2f-ea50-a3b065423350"
      },
      "execution_count": null,
      "outputs": [
        {
          "output_type": "execute_result",
          "data": {
            "text/plain": [
              "    Participant Handedness Finger  Task  \\\n",
              "24            1       left  thumb  DRAG   \n",
              "23            1       left  thumb  DRAG   \n",
              "25            1       left  thumb  DRAG   \n",
              "27            1       left  thumb  DRAG   \n",
              "26            1       left  thumb  DRAG   \n",
              "\n",
              "                                               Matrix      Timestamp  \\\n",
              "24  [[0, 1, 1, 1, 1, 1, 0, -1, 2, 157, 3, 3, 2, 1,...  1508231878417   \n",
              "23  [[0, 1, 1, 1, 1, 1, 0, -1, 2, 157, 3, 3, 2, 1,...  1508231878417   \n",
              "25  [[0, 1, 1, 1, 1, 1, 0, -1, 2, 157, 3, 3, 2, 1,...  1508231878487   \n",
              "27  [[0, 1, 1, 1, 1, 1, 0, -1, 2, 157, 3, 3, 2, 1,...  1508231878557   \n",
              "26  [[0, 1, 1, 1, 1, 1, 0, -1, 2, 157, 3, 3, 2, 1,...  1508231878557   \n",
              "\n",
              "          BlobCoords  BlobCount  \\\n",
              "24  [(3, 8, 16, 21)]          1   \n",
              "23  [(3, 8, 16, 21)]          1   \n",
              "25  [(3, 8, 16, 21)]          1   \n",
              "27  [(3, 8, 16, 21)]          1   \n",
              "26  [(3, 8, 16, 21)]          1   \n",
              "\n",
              "                                                Blobs  \\\n",
              "24  [[1, 4, 7, 7, 4], [1, 13, 62, 67, 13], [5, 71,...   \n",
              "23  [[1, 4, 7, 7, 4], [1, 13, 62, 67, 13], [5, 71,...   \n",
              "25  [[0, 4, 5, 5, 0], [1, 16, 67, 80, 15], [2, 75,...   \n",
              "27  [[0, 4, 9, 7, 2], [2, 16, 71, 83, 15], [1, 80,...   \n",
              "26  [[0, 4, 9, 7, 2], [2, 16, 71, 83, 15], [1, 80,...   \n",
              "\n",
              "                                 Resized_Blobs_OpenCV  \\\n",
              "24  [[1.0, 1.0, 1.5833333333333335, 2.416666666666...   \n",
              "23  [[1.0, 1.0, 1.5833333333333335, 2.416666666666...   \n",
              "25  [[-2.0, -2.0, -0.8333333333333331, 0.833333333...   \n",
              "27  [[0.0, 0.0, 0.7777777777777779, 1.888888888888...   \n",
              "26  [[0.0, 0.0, 0.7777777777777779, 1.888888888888...   \n",
              "\n",
              "                                            BlobImage  \\\n",
              "24  [[1, 4, 7, 7, 4, 0, 0, 0, 0, 0, 0, 0, 0, 0, 0]...   \n",
              "23  [[1, 4, 7, 7, 4, 0, 0, 0, 0, 0, 0, 0, 0, 0, 0]...   \n",
              "25  [[0, 4, 5, 5, 0, 0, 0, 0, 0, 0, 0, 0, 0, 0, 0]...   \n",
              "27  [[0, 4, 9, 7, 2, 0, 0, 0, 0, 0, 0, 0, 0, 0, 0]...   \n",
              "26  [[0, 4, 9, 7, 2, 0, 0, 0, 0, 0, 0, 0, 0, 0, 0]...   \n",
              "\n",
              "                                     BlobImgFlattened  \\\n",
              "24  [1, 4, 7, 7, 4, 0, 0, 0, 0, 0, 0, 0, 0, 0, 0, ...   \n",
              "23  [1, 4, 7, 7, 4, 0, 0, 0, 0, 0, 0, 0, 0, 0, 0, ...   \n",
              "25  [0, 4, 5, 5, 0, 0, 0, 0, 0, 0, 0, 0, 0, 0, 0, ...   \n",
              "27  [0, 4, 9, 7, 2, 0, 0, 0, 0, 0, 0, 0, 0, 0, 0, ...   \n",
              "26  [0, 4, 9, 7, 2, 0, 0, 0, 0, 0, 0, 0, 0, 0, 0, ...   \n",
              "\n",
              "                                        Resized_Blobs  \\\n",
              "24  [[1.0, 2.3125, 4.1875, 6.0625, 7.0, 7.0, 5.312...   \n",
              "23  [[1.0, 2.3125, 4.1875, 6.0625, 7.0, 7.0, 5.312...   \n",
              "25  [[0.0, 1.75, 4.0625, 4.6875, 5.0, 5.0, 2.1875,...   \n",
              "27  [[0.0, 1.75, 4.3125, 7.4375, 8.375, 7.125, 4.1...   \n",
              "26  [[0.0, 1.75, 4.3125, 7.4375, 8.375, 7.125, 4.1...   \n",
              "\n",
              "                                         Scaled_Blobs  Major_Axis  Minor_Axis  \\\n",
              "24  [[1, 1, 1, 1, 3, 3, 4, 5, 6, 6, 5, 5, 4, 3, 4,...   11.249028   15.156587   \n",
              "23  [[1, 1, 1, 1, 3, 3, 4, 5, 6, 6, 5, 5, 4, 3, 4,...   10.452435   13.830733   \n",
              "25  [[0, 0, 0, 1, 1, 3, 4, 5, 5, 4, 3, 2, 1, 0, 0,...    9.565728   11.702647   \n",
              "27  [[0, 0, 0, 0, 1, 3, 4, 5, 5, 6, 6, 5, 4, 3, 2,...   10.345570   12.890965   \n",
              "26  [[0, 0, 0, 0, 1, 3, 4, 5, 5, 6, 6, 5, 4, 3, 2,...    9.804294   14.024021   \n",
              "\n",
              "          Area       Angle  \n",
              "24  133.907929   92.469559  \n",
              "23  113.540955  111.972496  \n",
              "25   87.920881   45.661560  \n",
              "27  104.744140   47.160843  \n",
              "26  107.988808   42.690639  "
            ],
            "text/html": [
              "\n",
              "  <div id=\"df-588b3eb8-96c1-4005-bd4a-a6f1aa0bee89\" class=\"colab-df-container\">\n",
              "    <div>\n",
              "<style scoped>\n",
              "    .dataframe tbody tr th:only-of-type {\n",
              "        vertical-align: middle;\n",
              "    }\n",
              "\n",
              "    .dataframe tbody tr th {\n",
              "        vertical-align: top;\n",
              "    }\n",
              "\n",
              "    .dataframe thead th {\n",
              "        text-align: right;\n",
              "    }\n",
              "</style>\n",
              "<table border=\"1\" class=\"dataframe\">\n",
              "  <thead>\n",
              "    <tr style=\"text-align: right;\">\n",
              "      <th></th>\n",
              "      <th>Participant</th>\n",
              "      <th>Handedness</th>\n",
              "      <th>Finger</th>\n",
              "      <th>Task</th>\n",
              "      <th>Matrix</th>\n",
              "      <th>Timestamp</th>\n",
              "      <th>BlobCoords</th>\n",
              "      <th>BlobCount</th>\n",
              "      <th>Blobs</th>\n",
              "      <th>Resized_Blobs_OpenCV</th>\n",
              "      <th>BlobImage</th>\n",
              "      <th>BlobImgFlattened</th>\n",
              "      <th>Resized_Blobs</th>\n",
              "      <th>Scaled_Blobs</th>\n",
              "      <th>Major_Axis</th>\n",
              "      <th>Minor_Axis</th>\n",
              "      <th>Area</th>\n",
              "      <th>Angle</th>\n",
              "    </tr>\n",
              "  </thead>\n",
              "  <tbody>\n",
              "    <tr>\n",
              "      <th>24</th>\n",
              "      <td>1</td>\n",
              "      <td>left</td>\n",
              "      <td>thumb</td>\n",
              "      <td>DRAG</td>\n",
              "      <td>[[0, 1, 1, 1, 1, 1, 0, -1, 2, 157, 3, 3, 2, 1,...</td>\n",
              "      <td>1508231878417</td>\n",
              "      <td>[(3, 8, 16, 21)]</td>\n",
              "      <td>1</td>\n",
              "      <td>[[1, 4, 7, 7, 4], [1, 13, 62, 67, 13], [5, 71,...</td>\n",
              "      <td>[[1.0, 1.0, 1.5833333333333335, 2.416666666666...</td>\n",
              "      <td>[[1, 4, 7, 7, 4, 0, 0, 0, 0, 0, 0, 0, 0, 0, 0]...</td>\n",
              "      <td>[1, 4, 7, 7, 4, 0, 0, 0, 0, 0, 0, 0, 0, 0, 0, ...</td>\n",
              "      <td>[[1.0, 2.3125, 4.1875, 6.0625, 7.0, 7.0, 5.312...</td>\n",
              "      <td>[[1, 1, 1, 1, 3, 3, 4, 5, 6, 6, 5, 5, 4, 3, 4,...</td>\n",
              "      <td>11.249028</td>\n",
              "      <td>15.156587</td>\n",
              "      <td>133.907929</td>\n",
              "      <td>92.469559</td>\n",
              "    </tr>\n",
              "    <tr>\n",
              "      <th>23</th>\n",
              "      <td>1</td>\n",
              "      <td>left</td>\n",
              "      <td>thumb</td>\n",
              "      <td>DRAG</td>\n",
              "      <td>[[0, 1, 1, 1, 1, 1, 0, -1, 2, 157, 3, 3, 2, 1,...</td>\n",
              "      <td>1508231878417</td>\n",
              "      <td>[(3, 8, 16, 21)]</td>\n",
              "      <td>1</td>\n",
              "      <td>[[1, 4, 7, 7, 4], [1, 13, 62, 67, 13], [5, 71,...</td>\n",
              "      <td>[[1.0, 1.0, 1.5833333333333335, 2.416666666666...</td>\n",
              "      <td>[[1, 4, 7, 7, 4, 0, 0, 0, 0, 0, 0, 0, 0, 0, 0]...</td>\n",
              "      <td>[1, 4, 7, 7, 4, 0, 0, 0, 0, 0, 0, 0, 0, 0, 0, ...</td>\n",
              "      <td>[[1.0, 2.3125, 4.1875, 6.0625, 7.0, 7.0, 5.312...</td>\n",
              "      <td>[[1, 1, 1, 1, 3, 3, 4, 5, 6, 6, 5, 5, 4, 3, 4,...</td>\n",
              "      <td>10.452435</td>\n",
              "      <td>13.830733</td>\n",
              "      <td>113.540955</td>\n",
              "      <td>111.972496</td>\n",
              "    </tr>\n",
              "    <tr>\n",
              "      <th>25</th>\n",
              "      <td>1</td>\n",
              "      <td>left</td>\n",
              "      <td>thumb</td>\n",
              "      <td>DRAG</td>\n",
              "      <td>[[0, 1, 1, 1, 1, 1, 0, -1, 2, 157, 3, 3, 2, 1,...</td>\n",
              "      <td>1508231878487</td>\n",
              "      <td>[(3, 8, 16, 21)]</td>\n",
              "      <td>1</td>\n",
              "      <td>[[0, 4, 5, 5, 0], [1, 16, 67, 80, 15], [2, 75,...</td>\n",
              "      <td>[[-2.0, -2.0, -0.8333333333333331, 0.833333333...</td>\n",
              "      <td>[[0, 4, 5, 5, 0, 0, 0, 0, 0, 0, 0, 0, 0, 0, 0]...</td>\n",
              "      <td>[0, 4, 5, 5, 0, 0, 0, 0, 0, 0, 0, 0, 0, 0, 0, ...</td>\n",
              "      <td>[[0.0, 1.75, 4.0625, 4.6875, 5.0, 5.0, 2.1875,...</td>\n",
              "      <td>[[0, 0, 0, 1, 1, 3, 4, 5, 5, 4, 3, 2, 1, 0, 0,...</td>\n",
              "      <td>9.565728</td>\n",
              "      <td>11.702647</td>\n",
              "      <td>87.920881</td>\n",
              "      <td>45.661560</td>\n",
              "    </tr>\n",
              "    <tr>\n",
              "      <th>27</th>\n",
              "      <td>1</td>\n",
              "      <td>left</td>\n",
              "      <td>thumb</td>\n",
              "      <td>DRAG</td>\n",
              "      <td>[[0, 1, 1, 1, 1, 1, 0, -1, 2, 157, 3, 3, 2, 1,...</td>\n",
              "      <td>1508231878557</td>\n",
              "      <td>[(3, 8, 16, 21)]</td>\n",
              "      <td>1</td>\n",
              "      <td>[[0, 4, 9, 7, 2], [2, 16, 71, 83, 15], [1, 80,...</td>\n",
              "      <td>[[0.0, 0.0, 0.7777777777777779, 1.888888888888...</td>\n",
              "      <td>[[0, 4, 9, 7, 2, 0, 0, 0, 0, 0, 0, 0, 0, 0, 0]...</td>\n",
              "      <td>[0, 4, 9, 7, 2, 0, 0, 0, 0, 0, 0, 0, 0, 0, 0, ...</td>\n",
              "      <td>[[0.0, 1.75, 4.3125, 7.4375, 8.375, 7.125, 4.1...</td>\n",
              "      <td>[[0, 0, 0, 0, 1, 3, 4, 5, 5, 6, 6, 5, 4, 3, 2,...</td>\n",
              "      <td>10.345570</td>\n",
              "      <td>12.890965</td>\n",
              "      <td>104.744140</td>\n",
              "      <td>47.160843</td>\n",
              "    </tr>\n",
              "    <tr>\n",
              "      <th>26</th>\n",
              "      <td>1</td>\n",
              "      <td>left</td>\n",
              "      <td>thumb</td>\n",
              "      <td>DRAG</td>\n",
              "      <td>[[0, 1, 1, 1, 1, 1, 0, -1, 2, 157, 3, 3, 2, 1,...</td>\n",
              "      <td>1508231878557</td>\n",
              "      <td>[(3, 8, 16, 21)]</td>\n",
              "      <td>1</td>\n",
              "      <td>[[0, 4, 9, 7, 2], [2, 16, 71, 83, 15], [1, 80,...</td>\n",
              "      <td>[[0.0, 0.0, 0.7777777777777779, 1.888888888888...</td>\n",
              "      <td>[[0, 4, 9, 7, 2, 0, 0, 0, 0, 0, 0, 0, 0, 0, 0]...</td>\n",
              "      <td>[0, 4, 9, 7, 2, 0, 0, 0, 0, 0, 0, 0, 0, 0, 0, ...</td>\n",
              "      <td>[[0.0, 1.75, 4.3125, 7.4375, 8.375, 7.125, 4.1...</td>\n",
              "      <td>[[0, 0, 0, 0, 1, 3, 4, 5, 5, 6, 6, 5, 4, 3, 2,...</td>\n",
              "      <td>9.804294</td>\n",
              "      <td>14.024021</td>\n",
              "      <td>107.988808</td>\n",
              "      <td>42.690639</td>\n",
              "    </tr>\n",
              "  </tbody>\n",
              "</table>\n",
              "</div>\n",
              "    <div class=\"colab-df-buttons\">\n",
              "\n",
              "  <div class=\"colab-df-container\">\n",
              "    <button class=\"colab-df-convert\" onclick=\"convertToInteractive('df-588b3eb8-96c1-4005-bd4a-a6f1aa0bee89')\"\n",
              "            title=\"Convert this dataframe to an interactive table.\"\n",
              "            style=\"display:none;\">\n",
              "\n",
              "  <svg xmlns=\"http://www.w3.org/2000/svg\" height=\"24px\" viewBox=\"0 -960 960 960\">\n",
              "    <path d=\"M120-120v-720h720v720H120Zm60-500h600v-160H180v160Zm220 220h160v-160H400v160Zm0 220h160v-160H400v160ZM180-400h160v-160H180v160Zm440 0h160v-160H620v160ZM180-180h160v-160H180v160Zm440 0h160v-160H620v160Z\"/>\n",
              "  </svg>\n",
              "    </button>\n",
              "\n",
              "  <style>\n",
              "    .colab-df-container {\n",
              "      display:flex;\n",
              "      gap: 12px;\n",
              "    }\n",
              "\n",
              "    .colab-df-convert {\n",
              "      background-color: #E8F0FE;\n",
              "      border: none;\n",
              "      border-radius: 50%;\n",
              "      cursor: pointer;\n",
              "      display: none;\n",
              "      fill: #1967D2;\n",
              "      height: 32px;\n",
              "      padding: 0 0 0 0;\n",
              "      width: 32px;\n",
              "    }\n",
              "\n",
              "    .colab-df-convert:hover {\n",
              "      background-color: #E2EBFA;\n",
              "      box-shadow: 0px 1px 2px rgba(60, 64, 67, 0.3), 0px 1px 3px 1px rgba(60, 64, 67, 0.15);\n",
              "      fill: #174EA6;\n",
              "    }\n",
              "\n",
              "    .colab-df-buttons div {\n",
              "      margin-bottom: 4px;\n",
              "    }\n",
              "\n",
              "    [theme=dark] .colab-df-convert {\n",
              "      background-color: #3B4455;\n",
              "      fill: #D2E3FC;\n",
              "    }\n",
              "\n",
              "    [theme=dark] .colab-df-convert:hover {\n",
              "      background-color: #434B5C;\n",
              "      box-shadow: 0px 1px 3px 1px rgba(0, 0, 0, 0.15);\n",
              "      filter: drop-shadow(0px 1px 2px rgba(0, 0, 0, 0.3));\n",
              "      fill: #FFFFFF;\n",
              "    }\n",
              "  </style>\n",
              "\n",
              "    <script>\n",
              "      const buttonEl =\n",
              "        document.querySelector('#df-588b3eb8-96c1-4005-bd4a-a6f1aa0bee89 button.colab-df-convert');\n",
              "      buttonEl.style.display =\n",
              "        google.colab.kernel.accessAllowed ? 'block' : 'none';\n",
              "\n",
              "      async function convertToInteractive(key) {\n",
              "        const element = document.querySelector('#df-588b3eb8-96c1-4005-bd4a-a6f1aa0bee89');\n",
              "        const dataTable =\n",
              "          await google.colab.kernel.invokeFunction('convertToInteractive',\n",
              "                                                    [key], {});\n",
              "        if (!dataTable) return;\n",
              "\n",
              "        const docLinkHtml = 'Like what you see? Visit the ' +\n",
              "          '<a target=\"_blank\" href=https://colab.research.google.com/notebooks/data_table.ipynb>data table notebook</a>'\n",
              "          + ' to learn more about interactive tables.';\n",
              "        element.innerHTML = '';\n",
              "        dataTable['output_type'] = 'display_data';\n",
              "        await google.colab.output.renderOutput(dataTable, element);\n",
              "        const docLink = document.createElement('div');\n",
              "        docLink.innerHTML = docLinkHtml;\n",
              "        element.appendChild(docLink);\n",
              "      }\n",
              "    </script>\n",
              "  </div>\n",
              "\n",
              "\n",
              "<div id=\"df-f624259b-7402-4326-afd5-402df26b8155\">\n",
              "  <button class=\"colab-df-quickchart\" onclick=\"quickchart('df-f624259b-7402-4326-afd5-402df26b8155')\"\n",
              "            title=\"Suggest charts\"\n",
              "            style=\"display:none;\">\n",
              "\n",
              "<svg xmlns=\"http://www.w3.org/2000/svg\" height=\"24px\"viewBox=\"0 0 24 24\"\n",
              "     width=\"24px\">\n",
              "    <g>\n",
              "        <path d=\"M19 3H5c-1.1 0-2 .9-2 2v14c0 1.1.9 2 2 2h14c1.1 0 2-.9 2-2V5c0-1.1-.9-2-2-2zM9 17H7v-7h2v7zm4 0h-2V7h2v10zm4 0h-2v-4h2v4z\"/>\n",
              "    </g>\n",
              "</svg>\n",
              "  </button>\n",
              "\n",
              "<style>\n",
              "  .colab-df-quickchart {\n",
              "      --bg-color: #E8F0FE;\n",
              "      --fill-color: #1967D2;\n",
              "      --hover-bg-color: #E2EBFA;\n",
              "      --hover-fill-color: #174EA6;\n",
              "      --disabled-fill-color: #AAA;\n",
              "      --disabled-bg-color: #DDD;\n",
              "  }\n",
              "\n",
              "  [theme=dark] .colab-df-quickchart {\n",
              "      --bg-color: #3B4455;\n",
              "      --fill-color: #D2E3FC;\n",
              "      --hover-bg-color: #434B5C;\n",
              "      --hover-fill-color: #FFFFFF;\n",
              "      --disabled-bg-color: #3B4455;\n",
              "      --disabled-fill-color: #666;\n",
              "  }\n",
              "\n",
              "  .colab-df-quickchart {\n",
              "    background-color: var(--bg-color);\n",
              "    border: none;\n",
              "    border-radius: 50%;\n",
              "    cursor: pointer;\n",
              "    display: none;\n",
              "    fill: var(--fill-color);\n",
              "    height: 32px;\n",
              "    padding: 0;\n",
              "    width: 32px;\n",
              "  }\n",
              "\n",
              "  .colab-df-quickchart:hover {\n",
              "    background-color: var(--hover-bg-color);\n",
              "    box-shadow: 0 1px 2px rgba(60, 64, 67, 0.3), 0 1px 3px 1px rgba(60, 64, 67, 0.15);\n",
              "    fill: var(--button-hover-fill-color);\n",
              "  }\n",
              "\n",
              "  .colab-df-quickchart-complete:disabled,\n",
              "  .colab-df-quickchart-complete:disabled:hover {\n",
              "    background-color: var(--disabled-bg-color);\n",
              "    fill: var(--disabled-fill-color);\n",
              "    box-shadow: none;\n",
              "  }\n",
              "\n",
              "  .colab-df-spinner {\n",
              "    border: 2px solid var(--fill-color);\n",
              "    border-color: transparent;\n",
              "    border-bottom-color: var(--fill-color);\n",
              "    animation:\n",
              "      spin 1s steps(1) infinite;\n",
              "  }\n",
              "\n",
              "  @keyframes spin {\n",
              "    0% {\n",
              "      border-color: transparent;\n",
              "      border-bottom-color: var(--fill-color);\n",
              "      border-left-color: var(--fill-color);\n",
              "    }\n",
              "    20% {\n",
              "      border-color: transparent;\n",
              "      border-left-color: var(--fill-color);\n",
              "      border-top-color: var(--fill-color);\n",
              "    }\n",
              "    30% {\n",
              "      border-color: transparent;\n",
              "      border-left-color: var(--fill-color);\n",
              "      border-top-color: var(--fill-color);\n",
              "      border-right-color: var(--fill-color);\n",
              "    }\n",
              "    40% {\n",
              "      border-color: transparent;\n",
              "      border-right-color: var(--fill-color);\n",
              "      border-top-color: var(--fill-color);\n",
              "    }\n",
              "    60% {\n",
              "      border-color: transparent;\n",
              "      border-right-color: var(--fill-color);\n",
              "    }\n",
              "    80% {\n",
              "      border-color: transparent;\n",
              "      border-right-color: var(--fill-color);\n",
              "      border-bottom-color: var(--fill-color);\n",
              "    }\n",
              "    90% {\n",
              "      border-color: transparent;\n",
              "      border-bottom-color: var(--fill-color);\n",
              "    }\n",
              "  }\n",
              "</style>\n",
              "\n",
              "  <script>\n",
              "    async function quickchart(key) {\n",
              "      const quickchartButtonEl =\n",
              "        document.querySelector('#' + key + ' button');\n",
              "      quickchartButtonEl.disabled = true;  // To prevent multiple clicks.\n",
              "      quickchartButtonEl.classList.add('colab-df-spinner');\n",
              "      try {\n",
              "        const charts = await google.colab.kernel.invokeFunction(\n",
              "            'suggestCharts', [key], {});\n",
              "      } catch (error) {\n",
              "        console.error('Error during call to suggestCharts:', error);\n",
              "      }\n",
              "      quickchartButtonEl.classList.remove('colab-df-spinner');\n",
              "      quickchartButtonEl.classList.add('colab-df-quickchart-complete');\n",
              "    }\n",
              "    (() => {\n",
              "      let quickchartButtonEl =\n",
              "        document.querySelector('#df-f624259b-7402-4326-afd5-402df26b8155 button');\n",
              "      quickchartButtonEl.style.display =\n",
              "        google.colab.kernel.accessAllowed ? 'block' : 'none';\n",
              "    })();\n",
              "  </script>\n",
              "</div>\n",
              "\n",
              "    </div>\n",
              "  </div>\n"
            ],
            "application/vnd.google.colaboratory.intrinsic+json": {
              "type": "dataframe",
              "variable_name": "df",
              "summary": "{\n  \"name\": \"df\",\n  \"rows\": 95571,\n  \"fields\": [\n    {\n      \"column\": \"Participant\",\n      \"properties\": {\n        \"dtype\": \"number\",\n        \"std\": 5,\n        \"min\": 1,\n        \"max\": 20,\n        \"num_unique_values\": 20,\n        \"samples\": [\n          1,\n          18,\n          16\n        ],\n        \"semantic_type\": \"\",\n        \"description\": \"\"\n      }\n    },\n    {\n      \"column\": \"Handedness\",\n      \"properties\": {\n        \"dtype\": \"category\",\n        \"num_unique_values\": 2,\n        \"samples\": [\n          \"right\",\n          \"left\"\n        ],\n        \"semantic_type\": \"\",\n        \"description\": \"\"\n      }\n    },\n    {\n      \"column\": \"Finger\",\n      \"properties\": {\n        \"dtype\": \"category\",\n        \"num_unique_values\": 1,\n        \"samples\": [\n          \"thumb\"\n        ],\n        \"semantic_type\": \"\",\n        \"description\": \"\"\n      }\n    },\n    {\n      \"column\": \"Task\",\n      \"properties\": {\n        \"dtype\": \"category\",\n        \"num_unique_values\": 3,\n        \"samples\": [\n          \"DRAG\"\n        ],\n        \"semantic_type\": \"\",\n        \"description\": \"\"\n      }\n    },\n    {\n      \"column\": \"Matrix\",\n      \"properties\": {\n        \"dtype\": \"object\",\n        \"semantic_type\": \"\",\n        \"description\": \"\"\n      }\n    },\n    {\n      \"column\": \"Timestamp\",\n      \"properties\": {\n        \"dtype\": \"number\",\n        \"std\": 600318515,\n        \"min\": 1508231878417,\n        \"max\": 1510666283890,\n        \"num_unique_values\": 78346,\n        \"samples\": [\n          1509033487416\n        ],\n        \"semantic_type\": \"\",\n        \"description\": \"\"\n      }\n    },\n    {\n      \"column\": \"BlobCoords\",\n      \"properties\": {\n        \"dtype\": \"object\",\n        \"semantic_type\": \"\",\n        \"description\": \"\"\n      }\n    },\n    {\n      \"column\": \"BlobCount\",\n      \"properties\": {\n        \"dtype\": \"number\",\n        \"std\": 0,\n        \"min\": 1,\n        \"max\": 1,\n        \"num_unique_values\": 1,\n        \"samples\": [\n          1\n        ],\n        \"semantic_type\": \"\",\n        \"description\": \"\"\n      }\n    },\n    {\n      \"column\": \"Blobs\",\n      \"properties\": {\n        \"dtype\": \"object\",\n        \"semantic_type\": \"\",\n        \"description\": \"\"\n      }\n    },\n    {\n      \"column\": \"Resized_Blobs_OpenCV\",\n      \"properties\": {\n        \"dtype\": \"object\",\n        \"semantic_type\": \"\",\n        \"description\": \"\"\n      }\n    },\n    {\n      \"column\": \"BlobImage\",\n      \"properties\": {\n        \"dtype\": \"object\",\n        \"semantic_type\": \"\",\n        \"description\": \"\"\n      }\n    },\n    {\n      \"column\": \"BlobImgFlattened\",\n      \"properties\": {\n        \"dtype\": \"object\",\n        \"semantic_type\": \"\",\n        \"description\": \"\"\n      }\n    },\n    {\n      \"column\": \"Resized_Blobs\",\n      \"properties\": {\n        \"dtype\": \"object\",\n        \"semantic_type\": \"\",\n        \"description\": \"\"\n      }\n    },\n    {\n      \"column\": \"Scaled_Blobs\",\n      \"properties\": {\n        \"dtype\": \"object\",\n        \"semantic_type\": \"\",\n        \"description\": \"\"\n      }\n    },\n    {\n      \"column\": \"Major_Axis\",\n      \"properties\": {\n        \"dtype\": \"number\",\n        \"std\": 2.0405819933653064,\n        \"min\": 6.729835510253906,\n        \"max\": 19.022777557373047,\n        \"num_unique_values\": 6025,\n        \"samples\": [\n          10.434425354003906\n        ],\n        \"semantic_type\": \"\",\n        \"description\": \"\"\n      }\n    },\n    {\n      \"column\": \"Minor_Axis\",\n      \"properties\": {\n        \"dtype\": \"number\",\n        \"std\": 2.5737086859479192,\n        \"min\": 9.644000053405762,\n        \"max\": 28.78086280822754,\n        \"num_unique_values\": 6028,\n        \"samples\": [\n          20.407129287719727\n        ],\n        \"semantic_type\": \"\",\n        \"description\": \"\"\n      }\n    },\n    {\n      \"column\": \"Area\",\n      \"properties\": {\n        \"dtype\": \"number\",\n        \"std\": 44.08217052822218,\n        \"min\": 59.28176529951257,\n        \"max\": 389.287788397397,\n        \"num_unique_values\": 6028,\n        \"samples\": [\n          204.19502237591155\n        ],\n        \"semantic_type\": \"\",\n        \"description\": \"\"\n      }\n    },\n    {\n      \"column\": \"Angle\",\n      \"properties\": {\n        \"dtype\": \"number\",\n        \"std\": 46.62928831886733,\n        \"min\": 0.0,\n        \"max\": 179.89315795898438,\n        \"num_unique_values\": 6025,\n        \"samples\": [\n          84.98246002197266\n        ],\n        \"semantic_type\": \"\",\n        \"description\": \"\"\n      }\n    }\n  ]\n}"
            }
          },
          "metadata": {},
          "execution_count": 5
        }
      ]
    },
    {
      "cell_type": "code",
      "source": [
        "df = df.sort_values(by='Timestamp', ascending=True)"
      ],
      "metadata": {
        "id": "0Nxi9J3-w1k0"
      },
      "execution_count": null,
      "outputs": []
    },
    {
      "cell_type": "code",
      "source": [
        "le = LabelEncoder()\n",
        "# Đặt những người tham gia vào tập kiểm tra\n",
        "split_factor = 0.8\n",
        "ptcp_train = df.Participant.unique()[:math.floor(len(df.Participant.unique())*split_factor)]\n",
        "ptcp_test = df.Participant.unique()[math.floor(len(df.Participant.unique())*split_factor):]\n",
        "df_train = df[df.Participant.isin(ptcp_train)].copy(deep=True)\n",
        "df_test = df[df.Participant.isin(ptcp_test)].copy(deep=True)"
      ],
      "metadata": {
        "id": "MfdZ0gXExyhi"
      },
      "execution_count": null,
      "outputs": []
    },
    {
      "cell_type": "code",
      "source": [
        "max_value = np.max([np.max(x) for x in df['BlobImgFlattened'] if isinstance(x, (list, np.ndarray))])\n",
        "min_value = np.min([np.min(x) for x in df['BlobImgFlattened'] if isinstance(x, (list, np.ndarray))])\n",
        "print(max_value, min_value)"
      ],
      "metadata": {
        "colab": {
          "base_uri": "https://localhost:8080/"
        },
        "id": "dF0SBNItyDvE",
        "outputId": "92cf9e12-c563-4e99-9a59-c490099285c1"
      },
      "execution_count": null,
      "outputs": [
        {
          "output_type": "stream",
          "name": "stdout",
          "text": [
            "268 0\n"
          ]
        }
      ]
    },
    {
      "cell_type": "code",
      "source": [
        "df['BlobImgFlattened'] =df['BlobImgFlattened'] / 268"
      ],
      "metadata": {
        "id": "ReCHDsunz6OA"
      },
      "execution_count": null,
      "outputs": []
    },
    {
      "cell_type": "code",
      "source": [
        "max_value = np.max([np.max(x) for x in df['BlobImgFlattened'] if isinstance(x, (list, np.ndarray))])\n",
        "print(max_value, min_value)"
      ],
      "metadata": {
        "id": "PMnzHeWW0OHo"
      },
      "execution_count": null,
      "outputs": []
    },
    {
      "cell_type": "code",
      "source": [
        "df['BlobImgFlattened'].iloc[0].shape"
      ],
      "metadata": {
        "colab": {
          "base_uri": "https://localhost:8080/"
        },
        "id": "4Ih2NQvO0SSD",
        "outputId": "3407c3a0-c32b-4778-b26f-0b2424dae6d3"
      },
      "execution_count": null,
      "outputs": [
        {
          "output_type": "execute_result",
          "data": {
            "text/plain": [
              "(405,)"
            ]
          },
          "metadata": {},
          "execution_count": 16
        }
      ]
    },
    {
      "cell_type": "code",
      "source": [
        "df_test.Participant.unique()"
      ],
      "metadata": {
        "colab": {
          "base_uri": "https://localhost:8080/"
        },
        "id": "hEJbgsaJ0nLd",
        "outputId": "06eb00a8-a7e8-4bbc-88e5-62a3a35e247e"
      },
      "execution_count": null,
      "outputs": [
        {
          "output_type": "execute_result",
          "data": {
            "text/plain": [
              "array([17, 18, 19, 20])"
            ]
          },
          "metadata": {},
          "execution_count": 19
        }
      ]
    },
    {
      "cell_type": "code",
      "source": [
        "len(df)"
      ],
      "metadata": {
        "colab": {
          "base_uri": "https://localhost:8080/"
        },
        "id": "uX5tucFK0pYc",
        "outputId": "e822c550-1d2d-4445-d6ea-5755d2530012"
      },
      "execution_count": null,
      "outputs": [
        {
          "output_type": "execute_result",
          "data": {
            "text/plain": [
              "95571"
            ]
          },
          "metadata": {},
          "execution_count": 20
        }
      ]
    },
    {
      "cell_type": "code",
      "source": [
        "# Change the column to take as the feature (i.e., Finger, Handedness)\n",
        "feature_column = \"Handedness\""
      ],
      "metadata": {
        "id": "qGVuAeLI2SzR"
      },
      "execution_count": null,
      "outputs": []
    },
    {
      "cell_type": "code",
      "source": [
        "# Training set: Convert target names into numbers for classification\n",
        "X = \"\"\n",
        "y = \"\"\n",
        "target_names = df[feature_column].unique()\n",
        "for l in target_names:\n",
        "    df_temp = df_train[(df_train[feature_column] == l)]\n",
        "    X_temp = [df_temp.BlobImgFlattened.iloc[i] for i in range(len(df_temp))]\n",
        "    y_temp = np.ones(len(X_temp)) * np.where(target_names == l)[0][0]\n",
        "\n",
        "    if (type(X) is str):\n",
        "        X = X_temp\n",
        "        y = y_temp\n",
        "    else:\n",
        "        X.extend(X_temp)\n",
        "        y = np.append(y, y_temp)\n",
        "train_x = np.array(X)\n",
        "train_y = np.array(y)\n",
        "\n",
        "\n",
        "# Test set: Convert target names into numbers for classification\n",
        "X = \"\"\n",
        "y = \"\"\n",
        "for l in target_names:\n",
        "    df_temp = df_test[(df_test[feature_column] == l)]\n",
        "    X_temp = [df_temp.BlobImgFlattened.iloc[i] for i in range(len(df_temp))]\n",
        "    y_temp = np.ones(len(X_temp)) * np.where(target_names == l)[0][0]\n",
        "\n",
        "    if (type(X) is str):\n",
        "        X = X_temp\n",
        "        y = y_temp\n",
        "    else:\n",
        "        X.extend(X_temp)\n",
        "        y = np.append(y, y_temp)\n",
        "\n",
        "test_x = np.array(X)\n",
        "test_y = np.array(y)"
      ],
      "metadata": {
        "id": "BcSV31P72Qpw"
      },
      "execution_count": null,
      "outputs": []
    },
    {
      "cell_type": "code",
      "source": [
        "img_rows, img_cols = 27, 15"
      ],
      "metadata": {
        "id": "2ZaVyZSc1-YC"
      },
      "execution_count": null,
      "outputs": []
    },
    {
      "cell_type": "code",
      "source": [
        "len(df_train[feature_column].unique())"
      ],
      "metadata": {
        "colab": {
          "base_uri": "https://localhost:8080/"
        },
        "id": "eqNnB_GN3QGu",
        "outputId": "ce156820-481c-4626-f67c-f5a80bce45b2"
      },
      "execution_count": null,
      "outputs": [
        {
          "output_type": "execute_result",
          "data": {
            "text/plain": [
              "2"
            ]
          },
          "metadata": {},
          "execution_count": 35
        }
      ]
    },
    {
      "cell_type": "code",
      "source": [
        "(x_train, y_train), (x_test, y_test) = (train_x, train_y), (test_x, test_y)"
      ],
      "metadata": {
        "id": "CHhxHaCc2bVE"
      },
      "execution_count": null,
      "outputs": []
    },
    {
      "cell_type": "code",
      "source": [
        "if K.image_data_format() == 'channels_first':\n",
        "    x_train = x_train.reshape(x_train.shape[0], 1, img_rows, img_cols)\n",
        "    x_test = x_test.reshape(x_test.shape[0], 1, img_rows, img_cols)\n",
        "    input_shape = (1, img_rows, img_cols)\n",
        "else:\n",
        "    x_train = x_train.reshape(x_train.shape[0], img_rows, img_cols, 1)\n",
        "    x_test = x_test.reshape(x_test.shape[0], img_rows, img_cols, 1)\n",
        "    input_shape = (img_rows, img_cols, 1)"
      ],
      "metadata": {
        "id": "UPEqatls17uA"
      },
      "execution_count": null,
      "outputs": []
    },
    {
      "cell_type": "code",
      "source": [
        "\n",
        "model = Sequential([\n",
        "    Conv2D(64, kernel_size=(3, 3), padding='Same', activation='relu', input_shape=input_shape),\n",
        "    BatchNormalization(axis=-1),\n",
        "    Conv2D(64, kernel_size=(3, 3), padding='Same', activation='relu'),\n",
        "    BatchNormalization(axis=-1),\n",
        "    MaxPool2D(pool_size=(2, 2)),\n",
        "    Dropout(0.5),\n",
        "    Conv2D(128, kernel_size=(3, 3), padding='Same', activation='relu'),\n",
        "    BatchNormalization(axis=-1),\n",
        "    Conv2D(128, kernel_size=(3, 3), padding='Same', activation='relu'),\n",
        "    BatchNormalization(axis=-1),\n",
        "    MaxPool2D(pool_size=(2, 2), strides=(2, 2)),\n",
        "    Dropout(0.5),\n",
        "    Flatten(),\n",
        "    Dense(256, activation=\"relu\", kernel_initializer=glorot_uniform()),\n",
        "    BatchNormalization(axis=-1),\n",
        "    Dropout(0.5),\n",
        "    Dense(1, activation=\"sigmoid\")\n",
        "])\n",
        "\n",
        "optimizer = RMSprop(learning_rate=0.001, rho=0.9, epsilon=1e-08)\n",
        "\n",
        "model.compile(loss='binary_crossentropy',\n",
        "              optimizer=optimizer,\n",
        "              metrics=['accuracy'])\n",
        "\n",
        "model.summary()"
      ],
      "metadata": {
        "id": "R_8W-Y2N0qTF"
      },
      "execution_count": null,
      "outputs": []
    },
    {
      "cell_type": "code",
      "source": [
        "checkpoint = ModelCheckpoint('/content/drive/MyDrive/Colab Notebooks/FingerClassification/Model/Thumb/model_cnn1.h5', save_best_only=True, monitor='val_accuracy', mode='max')\n",
        "early_stopping = EarlyStopping(monitor='val_accuracy', patience = 5, verbose=0)\n",
        "\n",
        "history = model.fit(x_train, y_train,\n",
        "                    validation_data=(x_test, y_test),\n",
        "                    epochs=100, batch_size=50, callbacks=[checkpoint, early_stopping])\n"
      ],
      "metadata": {
        "id": "TsMtrTs_1bV3"
      },
      "execution_count": null,
      "outputs": []
    },
    {
      "cell_type": "code",
      "source": [
        "model.evaluate(x_test, y_test, verbose = 1)"
      ],
      "metadata": {
        "colab": {
          "base_uri": "https://localhost:8080/"
        },
        "id": "TGesdOMelLNc",
        "outputId": "2b0661c8-b2d9-4bcb-9923-0fd339fd5140"
      },
      "execution_count": null,
      "outputs": [
        {
          "output_type": "stream",
          "name": "stdout",
          "text": [
            "620/620 [==============================] - 38s 62ms/step - loss: 0.2188 - accuracy: 0.9095\n"
          ]
        },
        {
          "output_type": "execute_result",
          "data": {
            "text/plain": [
              "[0.21881484985351562, 0.9094668626785278]"
            ]
          },
          "metadata": {},
          "execution_count": 72
        }
      ]
    },
    {
      "cell_type": "code",
      "source": [
        "import numpy as np\n",
        "import time\n",
        "\n",
        "# Giả sử bạn đã tải mô hình và dữ liệu x_test vào\n",
        "\n",
        "# Đo thời gian suy luận cho 100 mẫu dữ liệu đầu tiên\n",
        "inference_times = []\n",
        "start_time1 = time.time()\n",
        "for i in range(100):\n",
        "    sample = np.expand_dims(x_test[i], axis=0)  # Đảm bảo mẫu có đúng số chiều\n",
        "    start_time = time.time()\n",
        "    _ = model.predict(sample)\n",
        "    end_time = time.time()\n",
        "    inference_times.append(end_time - start_time)\n",
        "end_time1 = time.time()\n",
        "inference_time1 = end_time1 - start_time1\n",
        "# Tính toán min, max, và trung bình của thời gian suy luận\n",
        "min_inference_time = np.min(inference_times)\n",
        "max_inference_time = np.max(inference_times)\n",
        "average_inference_time = np.mean(inference_times)\n",
        "\n",
        "min_inference_time, max_inference_time, average_inference_time, inference_time1"
      ],
      "metadata": {
        "colab": {
          "base_uri": "https://localhost:8080/"
        },
        "id": "KlSbZRP1lO4f",
        "outputId": "1fe9f0ca-182b-46a1-d6e7-1ade9c53944b",
        "collapsed": true
      },
      "execution_count": null,
      "outputs": [
        {
          "output_type": "stream",
          "name": "stdout",
          "text": [
            "1/1 [==============================] - 0s 34ms/step\n",
            "1/1 [==============================] - 0s 31ms/step\n",
            "1/1 [==============================] - 0s 33ms/step\n",
            "1/1 [==============================] - 0s 41ms/step\n",
            "1/1 [==============================] - 0s 34ms/step\n",
            "1/1 [==============================] - 0s 30ms/step\n",
            "1/1 [==============================] - 0s 30ms/step\n",
            "1/1 [==============================] - 0s 34ms/step\n",
            "1/1 [==============================] - 0s 34ms/step\n",
            "1/1 [==============================] - 0s 56ms/step\n",
            "1/1 [==============================] - 0s 33ms/step\n",
            "1/1 [==============================] - 0s 32ms/step\n",
            "1/1 [==============================] - 0s 36ms/step\n",
            "1/1 [==============================] - 0s 30ms/step\n",
            "1/1 [==============================] - 0s 31ms/step\n",
            "1/1 [==============================] - 0s 37ms/step\n",
            "1/1 [==============================] - 0s 32ms/step\n",
            "1/1 [==============================] - 0s 32ms/step\n",
            "1/1 [==============================] - 0s 34ms/step\n",
            "1/1 [==============================] - 0s 36ms/step\n",
            "1/1 [==============================] - 0s 37ms/step\n",
            "1/1 [==============================] - 0s 37ms/step\n",
            "1/1 [==============================] - 0s 31ms/step\n",
            "1/1 [==============================] - 0s 37ms/step\n",
            "1/1 [==============================] - 0s 32ms/step\n",
            "1/1 [==============================] - 0s 31ms/step\n",
            "1/1 [==============================] - 0s 32ms/step\n",
            "1/1 [==============================] - 0s 27ms/step\n",
            "1/1 [==============================] - 0s 26ms/step\n",
            "1/1 [==============================] - 0s 26ms/step\n",
            "1/1 [==============================] - 0s 25ms/step\n",
            "1/1 [==============================] - 0s 24ms/step\n",
            "1/1 [==============================] - 0s 24ms/step\n",
            "1/1 [==============================] - 0s 24ms/step\n",
            "1/1 [==============================] - 0s 36ms/step\n",
            "1/1 [==============================] - 0s 27ms/step\n",
            "1/1 [==============================] - 0s 24ms/step\n",
            "1/1 [==============================] - 0s 25ms/step\n",
            "1/1 [==============================] - 0s 24ms/step\n",
            "1/1 [==============================] - 0s 24ms/step\n",
            "1/1 [==============================] - 0s 25ms/step\n",
            "1/1 [==============================] - 0s 25ms/step\n",
            "1/1 [==============================] - 0s 25ms/step\n",
            "1/1 [==============================] - 0s 23ms/step\n",
            "1/1 [==============================] - 0s 24ms/step\n",
            "1/1 [==============================] - 0s 25ms/step\n",
            "1/1 [==============================] - 0s 32ms/step\n",
            "1/1 [==============================] - 0s 29ms/step\n",
            "1/1 [==============================] - 0s 24ms/step\n",
            "1/1 [==============================] - 0s 26ms/step\n",
            "1/1 [==============================] - 0s 24ms/step\n",
            "1/1 [==============================] - 0s 24ms/step\n",
            "1/1 [==============================] - 0s 32ms/step\n",
            "1/1 [==============================] - 0s 25ms/step\n",
            "1/1 [==============================] - 0s 24ms/step\n",
            "1/1 [==============================] - 0s 25ms/step\n",
            "1/1 [==============================] - 0s 25ms/step\n",
            "1/1 [==============================] - 0s 28ms/step\n",
            "1/1 [==============================] - 0s 27ms/step\n",
            "1/1 [==============================] - 0s 25ms/step\n",
            "1/1 [==============================] - 0s 27ms/step\n",
            "1/1 [==============================] - 0s 24ms/step\n",
            "1/1 [==============================] - 0s 23ms/step\n",
            "1/1 [==============================] - 0s 27ms/step\n",
            "1/1 [==============================] - 0s 24ms/step\n",
            "1/1 [==============================] - 0s 33ms/step\n",
            "1/1 [==============================] - 0s 37ms/step\n",
            "1/1 [==============================] - 0s 43ms/step\n",
            "1/1 [==============================] - 0s 37ms/step\n",
            "1/1 [==============================] - 0s 39ms/step\n",
            "1/1 [==============================] - 0s 36ms/step\n",
            "1/1 [==============================] - 0s 36ms/step\n",
            "1/1 [==============================] - 0s 34ms/step\n",
            "1/1 [==============================] - 0s 35ms/step\n",
            "1/1 [==============================] - 0s 45ms/step\n",
            "1/1 [==============================] - 0s 41ms/step\n",
            "1/1 [==============================] - 0s 39ms/step\n",
            "1/1 [==============================] - 0s 38ms/step\n",
            "1/1 [==============================] - 0s 35ms/step\n",
            "1/1 [==============================] - 0s 34ms/step\n",
            "1/1 [==============================] - 0s 35ms/step\n",
            "1/1 [==============================] - 0s 37ms/step\n",
            "1/1 [==============================] - 0s 38ms/step\n",
            "1/1 [==============================] - 0s 35ms/step\n",
            "1/1 [==============================] - 0s 37ms/step\n",
            "1/1 [==============================] - 0s 36ms/step\n",
            "1/1 [==============================] - 0s 43ms/step\n",
            "1/1 [==============================] - 0s 36ms/step\n",
            "1/1 [==============================] - 0s 39ms/step\n",
            "1/1 [==============================] - 0s 42ms/step\n",
            "1/1 [==============================] - 0s 39ms/step\n",
            "1/1 [==============================] - 0s 39ms/step\n",
            "1/1 [==============================] - 0s 40ms/step\n",
            "1/1 [==============================] - 0s 37ms/step\n",
            "1/1 [==============================] - 0s 33ms/step\n",
            "1/1 [==============================] - 0s 25ms/step\n",
            "1/1 [==============================] - 0s 27ms/step\n",
            "1/1 [==============================] - 0s 24ms/step\n",
            "1/1 [==============================] - 0s 24ms/step\n",
            "1/1 [==============================] - 0s 24ms/step\n"
          ]
        },
        {
          "output_type": "execute_result",
          "data": {
            "text/plain": [
              "(0.0759584903717041,\n",
              " 0.161393404006958,\n",
              " 0.10707566261291504,\n",
              " 10.715490818023682)"
            ]
          },
          "metadata": {},
          "execution_count": 73
        }
      ]
    }
  ]
}