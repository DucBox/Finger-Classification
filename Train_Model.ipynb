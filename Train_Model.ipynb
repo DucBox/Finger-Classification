{
  "cells": [
    {
      "cell_type": "markdown",
      "metadata": {
        "id": "view-in-github",
        "colab_type": "text"
      },
      "source": [
        "<a href=\"https://colab.research.google.com/github/DucBox/Finger-Classification/blob/main/Train_Model.ipynb\" target=\"_parent\"><img src=\"https://colab.research.google.com/assets/colab-badge.svg\" alt=\"Open In Colab\"/></a>"
      ]
    },
    {
      "cell_type": "code",
      "execution_count": null,
      "metadata": {
        "colab": {
          "base_uri": "https://localhost:8080/"
        },
        "id": "dhIyG0f249Zm",
        "outputId": "cfa0ae54-ede8-4254-b509-dbcc71c9d88f"
      },
      "outputs": [
        {
          "output_type": "stream",
          "name": "stdout",
          "text": [
            "Drive already mounted at /content/drive; to attempt to forcibly remount, call drive.mount(\"/content/drive\", force_remount=True).\n"
          ]
        }
      ],
      "source": [
        "from google.colab import drive\n",
        "drive.mount('/content/drive')"
      ]
    },
    {
      "cell_type": "code",
      "execution_count": null,
      "metadata": {
        "colab": {
          "base_uri": "https://localhost:8080/"
        },
        "id": "f_atSXIEQ3lw",
        "outputId": "016fc67e-357c-4fd0-fc60-5b85e4483698"
      },
      "outputs": [
        {
          "name": "stdout",
          "output_type": "stream",
          "text": [
            "Collecting scikeras\n",
            "  Downloading scikeras-0.12.0-py3-none-any.whl (27 kB)\n",
            "Requirement already satisfied: packaging>=0.21 in /usr/local/lib/python3.10/dist-packages (from scikeras) (23.2)\n",
            "Requirement already satisfied: scikit-learn>=1.0.0 in /usr/local/lib/python3.10/dist-packages (from scikeras) (1.2.2)\n",
            "Requirement already satisfied: numpy>=1.17.3 in /usr/local/lib/python3.10/dist-packages (from scikit-learn>=1.0.0->scikeras) (1.25.2)\n",
            "Requirement already satisfied: scipy>=1.3.2 in /usr/local/lib/python3.10/dist-packages (from scikit-learn>=1.0.0->scikeras) (1.11.4)\n",
            "Requirement already satisfied: joblib>=1.1.1 in /usr/local/lib/python3.10/dist-packages (from scikit-learn>=1.0.0->scikeras) (1.3.2)\n",
            "Requirement already satisfied: threadpoolctl>=2.0.0 in /usr/local/lib/python3.10/dist-packages (from scikit-learn>=1.0.0->scikeras) (3.3.0)\n",
            "Installing collected packages: scikeras\n",
            "Successfully installed scikeras-0.12.0\n"
          ]
        }
      ],
      "source": [
        "!pip install scikeras"
      ]
    },
    {
      "cell_type": "code",
      "execution_count": 1,
      "metadata": {
        "id": "ENpeqTP55cVT"
      },
      "outputs": [],
      "source": [
        "import joblib\n",
        "import pickle\n",
        "import pandas as pd\n",
        "import numpy as np\n",
        "import math\n",
        "import tensorflow as tf\n",
        "import keras\n",
        "from keras.models import Sequential\n",
        "from keras.layers import Dense, Dropout, Flatten, Activation\n",
        "from keras.optimizers import Adam, SGD, RMSprop\n",
        "from keras.layers import Conv2D, MaxPool2D\n",
        "from keras import backend as K\n",
        "from keras.layers import BatchNormalization\n",
        "from keras.initializers import glorot_uniform\n",
        "from keras.callbacks import ReduceLROnPlateau\n",
        "from keras.models import load_model\n",
        "# from scikeras.wrappers import KerasClassifier\n",
        "from keras import metrics\n",
        "from keras.callbacks import ModelCheckpoint, EarlyStopping\n",
        "from sklearn.model_selection import train_test_split\n",
        "from sklearn.model_selection import GridSearchCV, PredefinedSplit\n",
        "from sklearn.preprocessing import LabelEncoder\n",
        "from sklearn.preprocessing import StandardScaler\n",
        "from sklearn.preprocessing import MinMaxScaler\n",
        "from IPython import display\n",
        "import matplotlib.pyplot as plt\n",
        "%matplotlib inline\n",
        "from keras.regularizers import l2\n",
        "from keras.initializers import HeNormal\n",
        "from tensorflow.keras.utils import to_categorical"
      ]
    },
    {
      "cell_type": "code",
      "execution_count": 2,
      "metadata": {
        "id": "y7JbQs-W5O5B"
      },
      "outputs": [],
      "source": [
        "df = pd.read_pickle(\"/content/drive/MyDrive/FingerClassification/Model/Hand Left-Right/data.pkl\")"
      ]
    },
    {
      "cell_type": "code",
      "execution_count": null,
      "metadata": {
        "id": "Wg4wdwQW5a7O"
      },
      "outputs": [],
      "source": [
        "#Resize with OpenCV dùng bilinear interpolation\n",
        "import cv2\n",
        "import numpy as np\n",
        "\n",
        "def resize_blob_with_opencv(blob):\n",
        "    # Chuyển đổi blob thành mảng NumPy nếu chưa phải\n",
        "    blob_array = blob\n",
        "\n",
        "    blob_array = blob_array.astype(np.float64)\n",
        "\n",
        "    # Sử dụng cv2.resize để thay đổi kích thước mảng về 8x8 với bilinear interpolation\n",
        "    resized_blob = cv2.resize(blob_array, (8, 8), interpolation=cv2.INTER_LINEAR)\n",
        "\n",
        "    return resized_blob\n",
        "\n",
        "df['Resized_Blobs'] = df['Blobs'].apply(resize_blob_with_opencv)\n"
      ]
    },
    {
      "cell_type": "code",
      "source": [
        "# Khởi tạo MinMaxScaler\n",
        "scaler = MinMaxScaler()\n",
        "\n",
        "# Lựa chọn các cột bạn muốn chuẩn hóa\n",
        "columns_to_scale = ['Area', 'Angle', 'Major_Axis', 'Minor_Axis']\n",
        "\n",
        "# Áp dụng Min-Max scaling cho các cột đã chọn\n",
        "df[columns_to_scale] = scaler.fit_transform(df[columns_to_scale])"
      ],
      "metadata": {
        "id": "M0hM09GuGZfy"
      },
      "execution_count": 3,
      "outputs": []
    },
    {
      "cell_type": "code",
      "execution_count": null,
      "metadata": {
        "colab": {
          "base_uri": "https://localhost:8080/"
        },
        "id": "JVAZ44neS3uC",
        "outputId": "6f31dfdd-4e98-4366-a87c-f89790b25fad"
      },
      "outputs": [
        {
          "output_type": "execute_result",
          "data": {
            "text/plain": [
              "95571"
            ]
          },
          "metadata": {},
          "execution_count": 4
        }
      ],
      "source": [
        "len(df)"
      ]
    },
    {
      "cell_type": "code",
      "source": [
        "df_test.Participant.unique()"
      ],
      "metadata": {
        "colab": {
          "base_uri": "https://localhost:8080/"
        },
        "id": "E0qZTL6bvpLZ",
        "outputId": "5e99df82-fc52-4ce3-8bc0-f3d8f1fc10e9"
      },
      "execution_count": 7,
      "outputs": [
        {
          "output_type": "execute_result",
          "data": {
            "text/plain": [
              "array([17, 18, 19, 20])"
            ]
          },
          "metadata": {},
          "execution_count": 7
        }
      ]
    },
    {
      "cell_type": "code",
      "source": [
        "len(df_test)"
      ],
      "metadata": {
        "colab": {
          "base_uri": "https://localhost:8080/"
        },
        "id": "HLKMzBedxQDX",
        "outputId": "bf319557-04d1-4f67-d592-267745bb9f43"
      },
      "execution_count": null,
      "outputs": [
        {
          "output_type": "execute_result",
          "data": {
            "text/plain": [
              "85858"
            ]
          },
          "metadata": {},
          "execution_count": 9
        }
      ]
    },
    {
      "cell_type": "code",
      "execution_count": 6,
      "metadata": {
        "id": "XnrZVhgFuIX7"
      },
      "outputs": [],
      "source": [
        "# Mã hóa nhãn từ 'Right' và 'Left' sang 0 và 1\n",
        "# le = LabelEncoder()\n",
        "# df['Finger_Category'] = le.fit_transform(df['Finger_Category'])  # Right=1, Left=0\n",
        "# df['Finger_Category'] = df['Finger'].apply(lambda x: 'Thumb' if x == 0 else 'Others')\n",
        "\n",
        "# Tạo một cột mới dựa trên cột 'Finger'\n",
        "df['Finger_Categorys'] = df['Finger'].replace({'little': 'Others', 'ring': 'Others', 'index': 'Others', 'middle': 'Others', 'thumb': 'Thumb'})\n",
        "\n",
        "# Tiếp tục với việc mã hóa nhãn\n",
        "le = LabelEncoder()\n",
        "df['Finger_Category'] = le.fit_transform(df['Finger_Categorys'])\n",
        "\n",
        "# Phân chia người tham gia\n",
        "# Đặt những người tham gia vào tập kiểm tra\n",
        "split_factor = 0.8\n",
        "ptcp_train = df.Participant.unique()[:math.floor(len(df.Participant.unique())*split_factor)]\n",
        "ptcp_test = df.Participant.unique()[math.floor(len(df.Participant.unique())*split_factor):]\n",
        "df_train = df[df.Participant.isin(ptcp_train)].copy(deep=True)\n",
        "df_test = df[df.Participant.isin(ptcp_test)].copy(deep=True)\n",
        "\n",
        "X_train = np.stack(df_train[['New', 'Area']].values)\n",
        "X_test = np.stack(df_test[['New', 'Area']].values)\n",
        "\n",
        "X_train_features = np.array([sample[0] for sample in X_train])\n",
        "X_train_area = np.array([sample[1] for sample in X_train])\n",
        "# X_train_angle = np.array([sample[2] for sample in X_train])\n",
        "# X_train_minor = np.array([sample[3] for sample in X_train])\n",
        "# X_train_major = np.array([sample[4] for sample in X_train])\n",
        "\n",
        "X_test_features = np.array([sample[0] for sample in X_test])\n",
        "X_test_area = np.array([sample[1] for sample in X_test])\n",
        "# X_test_angle = np.array([sample[2] for sample in X_test])\n",
        "# X_test_minor = np.array([sample[3] for sample in X_test])\n",
        "# X_test_major = np.array([sample[4] for sample in X_test])\n",
        "\n",
        "y_train = df_train['Finger_Category'].values\n",
        "y_test = df_test['Finger_Category'].values\n",
        "# Chuyển đổi y_train và y_test sang giá trị số nguyên\n",
        "y_train_encoded = le.fit_transform(y_train)\n",
        "y_test_encoded = le.transform(y_test)\n",
        "\n",
        "# Chuyển đổi nhãn sang one-hot encoding\n",
        "y_train_one_hot = to_categorical(y_train_encoded)\n",
        "y_test_one_hot = to_categorical(y_test_encoded)"
      ]
    },
    {
      "cell_type": "code",
      "source": [
        "df_test.Participant.unique()"
      ],
      "metadata": {
        "colab": {
          "base_uri": "https://localhost:8080/"
        },
        "id": "RiixKArM6f8U",
        "outputId": "1f7dafbf-5912-4901-d74f-673cadff0adf"
      },
      "execution_count": null,
      "outputs": [
        {
          "output_type": "execute_result",
          "data": {
            "text/plain": [
              "array([17, 18, 19, 20])"
            ]
          },
          "metadata": {},
          "execution_count": 13
        }
      ]
    },
    {
      "cell_type": "code",
      "source": [
        "len(df_test)"
      ],
      "metadata": {
        "colab": {
          "base_uri": "https://localhost:8080/"
        },
        "id": "b7cIDfRH9ZcS",
        "outputId": "125ef6e1-fc52-4a22-ccf2-af6c4c758da6"
      },
      "execution_count": null,
      "outputs": [
        {
          "output_type": "execute_result",
          "data": {
            "text/plain": [
              "85858"
            ]
          },
          "metadata": {},
          "execution_count": 14
        }
      ]
    },
    {
      "cell_type": "code",
      "source": [
        "df_test.head()"
      ],
      "metadata": {
        "id": "9ccAvFFqIo5k"
      },
      "execution_count": null,
      "outputs": []
    },
    {
      "cell_type": "code",
      "execution_count": 4,
      "metadata": {
        "id": "-uS-A95XuXZY"
      },
      "outputs": [],
      "source": [
        "df = df.sort_values(by='Timestamp', ascending=True)"
      ]
    },
    {
      "cell_type": "code",
      "execution_count": null,
      "metadata": {
        "colab": {
          "base_uri": "https://localhost:8080/"
        },
        "id": "IqxfI4a15300",
        "outputId": "7f37de7b-8849-416d-e611-6853c0b6988f"
      },
      "outputs": [
        {
          "output_type": "stream",
          "name": "stdout",
          "text": [
            "HOG_Vector 0: shape = (8, 8), dtype = float64\n",
            "HOG_Vector 1: shape = (8, 8), dtype = float64\n",
            "HOG_Vector 2: shape = (8, 8), dtype = float64\n",
            "HOG_Vector 3: shape = (8, 8), dtype = float64\n",
            "HOG_Vector 4: shape = (8, 8), dtype = float64\n"
          ]
        }
      ],
      "source": [
        "# In ra kích thước và kiểu dữ liệu của 5 blobs đầu tiên\n",
        "for i, blob in enumerate(df['Resized_Blobs'][:5]):\n",
        "    blob_array = np.array(blob)\n",
        "    print(f\"HOG_Vector {i}: shape = {blob_array.shape}, dtype = {blob_array.dtype}\")\n"
      ]
    },
    {
      "cell_type": "code",
      "execution_count": null,
      "metadata": {
        "id": "BkNuSw0qrGBb"
      },
      "outputs": [],
      "source": [
        "df.head()"
      ]
    },
    {
      "cell_type": "code",
      "execution_count": null,
      "metadata": {
        "colab": {
          "base_uri": "https://localhost:8080/"
        },
        "id": "ph3AOOS3O98y",
        "outputId": "70fbc497-88eb-440b-b2d4-f5fb599f4ddf"
      },
      "outputs": [
        {
          "data": {
            "text/plain": [
              "OrderedDict([((12, 12), 95565),\n",
              "             ((13, 14), 1),\n",
              "             ((16, 15), 1),\n",
              "             ((17, 15), 2),\n",
              "             ((18, 15), 1),\n",
              "             ((21, 15), 1)])"
            ]
          },
          "execution_count": 10,
          "metadata": {},
          "output_type": "execute_result"
        }
      ],
      "source": [
        "# Thống kê kích thước và số lượng tương ứng\n",
        "from collections import OrderedDict\n",
        "\n",
        "size_counts = {}\n",
        "\n",
        "for blob in df['BlobImage']:\n",
        "    size = blob.shape  # Lấy kích thước của mảng\n",
        "    if size in size_counts:\n",
        "        size_counts[size] += 1\n",
        "    else:\n",
        "        size_counts[size] = 1\n",
        "\n",
        "size_counts\n",
        "\n",
        "sorted_size_counts = OrderedDict(sorted(size_counts.items(), key=lambda x: x[0]))\n",
        "\n",
        "sorted_size_counts"
      ]
    },
    {
      "cell_type": "code",
      "execution_count": null,
      "metadata": {
        "id": "kuh6OJtLtm11"
      },
      "outputs": [],
      "source": [
        "# Tạo một mảng 2 chiều từ list các vectors HOG\n",
        "X = np.stack(df['Resized_Blobs'].values)\n",
        "\n",
        "# Khởi tạo\n",
        "min_max_scaler = MinMaxScaler()\n",
        "\n",
        "# Fit và transform\n",
        "X_min_max_scaled = min_max_scaler.fit_transform(X)\n",
        "\n",
        "# Thêm dữ liệu đã được chuẩn hóa vào DataFrame dưới dạng một cột mới\n",
        "df['New'] = list(X_min_max_scaled)"
      ]
    },
    {
      "cell_type": "code",
      "execution_count": 5,
      "metadata": {
        "id": "Zg0eD84KjthW"
      },
      "outputs": [],
      "source": [
        "# Bước 1: Làm phẳng mỗi mảng 2 chiều và tạo mảng 2 chiều cho việc scale\n",
        "X_flattened = np.array([blob.flatten() for blob in df['Resized_Blobs'].values])\n",
        "# Khởi tạo MinMaxScaler\n",
        "min_max_scaler = MinMaxScaler()\n",
        "# Bước 2: Fit và transform dữ liệu\n",
        "X_min_max_scaled = min_max_scaler.fit_transform(X_flattened)\n",
        "\n",
        "# Bước 3: Thêm dữ liệu đã được chuẩn hóa vào DataFrame\n",
        "df['New'] = list(X_min_max_scaled)"
      ]
    },
    {
      "cell_type": "code",
      "execution_count": null,
      "metadata": {
        "id": "hHB0Sykdtuzh"
      },
      "outputs": [],
      "source": [
        "df.head()"
      ]
    },
    {
      "cell_type": "code",
      "execution_count": null,
      "metadata": {
        "colab": {
          "base_uri": "https://localhost:8080/"
        },
        "id": "YD38P4C66Coz",
        "outputId": "d2126db6-226b-40fd-8a8f-47d141d56e0e"
      },
      "outputs": [
        {
          "name": "stdout",
          "output_type": "stream",
          "text": [
            "Nhãn gốc '0' được mã hóa thành: 0\n",
            "Nhãn gốc '1' được mã hóa thành: 1\n"
          ]
        }
      ],
      "source": [
        "# Mã hóa nhãn từ 'Right' và 'Left' sang 0 và 1\n",
        "le = LabelEncoder()\n",
        "df['Handedness'] = le.fit_transform(df['Handedness'])  # Right=1, Left=0\n",
        "# In mối tương quan giữa nhãn gốc và nhãn số nguyên\n",
        "for label in zip(le.classes_, range(len(le.classes_))):\n",
        "    print(f\"Nhãn gốc '{label[0]}' được mã hóa thành: {label[1]}\")"
      ]
    },
    {
      "cell_type": "code",
      "execution_count": null,
      "metadata": {
        "colab": {
          "base_uri": "https://localhost:8080/"
        },
        "id": "iaPY_PBuQetv",
        "outputId": "e59121a0-396d-4aa1-97e3-6fe9ba03e893"
      },
      "outputs": [
        {
          "data": {
            "text/plain": [
              "((95571, 64), (95571,))"
            ]
          },
          "execution_count": 8,
          "metadata": {},
          "output_type": "execute_result"
        }
      ],
      "source": [
        "X.shape, y.shape"
      ]
    },
    {
      "cell_type": "code",
      "execution_count": null,
      "metadata": {
        "id": "BFhmFqL1XdDk"
      },
      "outputs": [],
      "source": [
        "# Phân chia người tham gia\n",
        "split_factor = 0.8\n",
        "ptcp_train = df.Participant.unique()[:math.floor(len(df.Participant.unique())*split_factor)]\n",
        "ptcp_test = df.Participant.unique()[math.floor(len(df.Participant.unique())*split_factor):]\n",
        "df_train = df[df.Participant.isin(ptcp_train)].copy(deep=True)\n",
        "df_test = df[df.Participant.isin(ptcp_test)].copy(deep=True)\n",
        "\n",
        "# Tạo dữ liệu huấn luyện từ DataFrame\n",
        "X_train_new = np.stack(df_train['New'].values)\n",
        "X_train_area = np.stack(df_train['Area'].values)\n",
        "y_train = df_train['Handedness'].values\n",
        "\n",
        "# Tạo dữ liệu kiểm tra từ DataFrame\n",
        "X_test_new = np.stack(df_test['New'].values)\n",
        "X_test_area = np.stack(df_test['Area'].values)\n",
        "y_test = df_test['Handedness'].values\n",
        "\n"
      ]
    },
    {
      "cell_type": "code",
      "execution_count": null,
      "metadata": {
        "colab": {
          "base_uri": "https://localhost:8080/"
        },
        "id": "KdueEhoZzKOj",
        "outputId": "341ae623-0a52-4163-ae44-9181cf0e4db8"
      },
      "outputs": [
        {
          "output_type": "execute_result",
          "data": {
            "text/plain": [
              "array([17, 18, 19, 20])"
            ]
          },
          "metadata": {},
          "execution_count": 11
        }
      ],
      "source": [
        "df_test['Participant'].unique()"
      ]
    },
    {
      "cell_type": "code",
      "execution_count": null,
      "metadata": {
        "colab": {
          "base_uri": "https://localhost:8080/"
        },
        "id": "Fb1qmnG2zgLx",
        "outputId": "7c4a3641-dc63-41f2-d456-09bb0a6bd9f9"
      },
      "outputs": [
        {
          "output_type": "execute_result",
          "data": {
            "text/plain": [
              "array([ 1,  2,  3,  4,  5,  6,  7,  8,  9, 10, 11, 12, 13, 14, 15, 16])"
            ]
          },
          "metadata": {},
          "execution_count": 22
        }
      ],
      "source": [
        "df_train['Participant'].unique()"
      ]
    },
    {
      "cell_type": "code",
      "execution_count": null,
      "metadata": {
        "id": "WFnvneB9x4gB"
      },
      "outputs": [],
      "source": [
        "X_train[X_train < 0] = 0\n",
        "X_test[X_test < 0] = 0"
      ]
    },
    {
      "cell_type": "code",
      "execution_count": null,
      "metadata": {
        "id": "gvovOAtTyCeu"
      },
      "outputs": [],
      "source": [
        "X_train = X_train.astype('float64') / 268\n",
        "X_test = X_test.astype('float64') / 268"
      ]
    },
    {
      "cell_type": "code",
      "execution_count": null,
      "metadata": {
        "colab": {
          "base_uri": "https://localhost:8080/"
        },
        "id": "tG2Yqas_tyh0",
        "outputId": "d68560a6-1584-4b75-9f0e-843311cfc35e"
      },
      "outputs": [
        {
          "name": "stdout",
          "output_type": "stream",
          "text": [
            "Kích thước của y_train sau khi chuyển đổi: (78268, 2)\n",
            "Kích thước của y_test sau khi chuyển đổi: (17295, 2)\n"
          ]
        }
      ],
      "source": [
        "# Chuyển đổi y_train và y_test sang giá trị số nguyên\n",
        "y_train_encoded = le.fit_transform(y_train)\n",
        "y_test_encoded = le.transform(y_test)\n",
        "\n",
        "# Chuyển đổi nhãn sang one-hot encoding\n",
        "y_train_one_hot = to_categorical(y_train_encoded)\n",
        "y_test_one_hot = to_categorical(y_test_encoded)\n",
        "\n",
        "# Kiểm tra kích thước của các tập sau khi chuyển đổi\n",
        "print(\"Kích thước của y_train sau khi chuyển đổi:\", y_train_one_hot.shape)\n",
        "print(\"Kích thước của y_test sau khi chuyển đổi:\", y_test_one_hot.shape)"
      ]
    },
    {
      "cell_type": "code",
      "execution_count": null,
      "metadata": {
        "colab": {
          "base_uri": "https://localhost:8080/"
        },
        "id": "rdarqy6LuCxM",
        "outputId": "940da18b-e5a5-425d-fab6-9312202f3a49"
      },
      "outputs": [
        {
          "output_type": "execute_result",
          "data": {
            "text/plain": [
              "((78268, 5), (78268, 2), (17295, 5), (17295, 2))"
            ]
          },
          "metadata": {},
          "execution_count": 28
        }
      ],
      "source": [
        "# Kiểm tra kích thước của các tập\n",
        "X_train.shape, y_train_one_hot.shape, X_test.shape, y_test_one_hot.shape"
      ]
    },
    {
      "cell_type": "code",
      "execution_count": null,
      "metadata": {
        "id": "W9ZLHXaOqdrU"
      },
      "outputs": [],
      "source": [
        "X_train = np.column_stack((X_train_new, X_train_area))\n",
        "X_test = np.column_stack((X_test_new, X_test_area))"
      ]
    },
    {
      "cell_type": "code",
      "execution_count": null,
      "metadata": {
        "id": "uRWyQqpjrNhy"
      },
      "outputs": [],
      "source": [
        "print(df[\"Handedness\"].unique)\n",
        "for label in zip(le.classes_, range(len(le.classes_))):\n",
        "    print(f\"Nhãn gốc '{label[0]}' được mã hóa thành: {label[1]}\")"
      ]
    },
    {
      "cell_type": "code",
      "execution_count": null,
      "metadata": {
        "id": "SzuICv3olWNI"
      },
      "outputs": [],
      "source": [
        "# Kiểm tra xem có giá trị NaN trong DataFrame không\n",
        "nan_values = df.isna().sum()\n",
        "print(nan_values)"
      ]
    },
    {
      "cell_type": "code",
      "execution_count": null,
      "metadata": {
        "colab": {
          "base_uri": "https://localhost:8080/"
        },
        "id": "Ozymg5Sz6Poc",
        "outputId": "229c63a8-e1ca-473a-abc4-e3174f3bb3be"
      },
      "outputs": [
        {
          "name": "stdout",
          "output_type": "stream",
          "text": [
            "95571\n",
            "2\n"
          ]
        }
      ],
      "source": [
        "print(len(df))\n",
        "feature_column = \"Handedness\"\n",
        "num_classes = len(df[feature_column].unique())\n",
        "print(num_classes)"
      ]
    },
    {
      "cell_type": "code",
      "execution_count": null,
      "metadata": {
        "id": "_ll_P7RXr5vY"
      },
      "outputs": [],
      "source": [
        "df.head()"
      ]
    },
    {
      "cell_type": "code",
      "execution_count": null,
      "metadata": {
        "id": "nVBOeI-akKkr"
      },
      "outputs": [],
      "source": [
        "\n",
        "model = Sequential([\n",
        "    Dense(128, input_shape=(65,)),\n",
        "    BatchNormalization(),\n",
        "    Activation('relu'),\n",
        "    Dense(64),\n",
        "    BatchNormalization(),\n",
        "    Activation('relu'),\n",
        "    Dense(32),\n",
        "    BatchNormalization(),\n",
        "    Activation('relu'),\n",
        "    Dense(16),\n",
        "    BatchNormalization(),\n",
        "    Activation('relu'),\n",
        "    Dense(2, activation='softmax')\n",
        "])\n",
        "\n",
        "model.compile(optimizer='adam', loss='binary_crossentropy', metrics=[metrics.BinaryAccuracy(name='accuracy')])\n",
        "model.summary()\n"
      ]
    },
    {
      "cell_type": "code",
      "execution_count": 11,
      "metadata": {
        "id": "XIrdGgNkwKXW",
        "colab": {
          "base_uri": "https://localhost:8080/"
        },
        "outputId": "6ad556e8-11d3-4ea8-c782-63748a845f4b"
      },
      "outputs": [
        {
          "output_type": "stream",
          "name": "stdout",
          "text": [
            "Model: \"model_2\"\n",
            "__________________________________________________________________________________________________\n",
            " Layer (type)                Output Shape                 Param #   Connected to                  \n",
            "==================================================================================================\n",
            " input_new (InputLayer)      [(None, 64)]                 0         []                            \n",
            "                                                                                                  \n",
            " input_area (InputLayer)     [(None, 1)]                  0         []                            \n",
            "                                                                                                  \n",
            " dense_12 (Dense)            (None, 128)                  8320      ['input_new[0][0]']           \n",
            "                                                                                                  \n",
            " dense_13 (Dense)            (None, 128)                  256       ['input_area[0][0]']          \n",
            "                                                                                                  \n",
            " batch_normalization_10 (Ba  (None, 128)                  512       ['dense_12[0][0]']            \n",
            " tchNormalization)                                                                                \n",
            "                                                                                                  \n",
            " batch_normalization_11 (Ba  (None, 128)                  512       ['dense_13[0][0]']            \n",
            " tchNormalization)                                                                                \n",
            "                                                                                                  \n",
            " activation_10 (Activation)  (None, 128)                  0         ['batch_normalization_10[0][0]\n",
            "                                                                    ']                            \n",
            "                                                                                                  \n",
            " activation_11 (Activation)  (None, 128)                  0         ['batch_normalization_11[0][0]\n",
            "                                                                    ']                            \n",
            "                                                                                                  \n",
            " concatenate_2 (Concatenate  (None, 256)                  0         ['activation_10[0][0]',       \n",
            " )                                                                   'activation_11[0][0]']       \n",
            "                                                                                                  \n",
            " dense_14 (Dense)            (None, 64)                   16448     ['concatenate_2[0][0]']       \n",
            "                                                                                                  \n",
            " batch_normalization_12 (Ba  (None, 64)                   256       ['dense_14[0][0]']            \n",
            " tchNormalization)                                                                                \n",
            "                                                                                                  \n",
            " activation_12 (Activation)  (None, 64)                   0         ['batch_normalization_12[0][0]\n",
            "                                                                    ']                            \n",
            "                                                                                                  \n",
            " dense_15 (Dense)            (None, 32)                   2080      ['activation_12[0][0]']       \n",
            "                                                                                                  \n",
            " batch_normalization_13 (Ba  (None, 32)                   128       ['dense_15[0][0]']            \n",
            " tchNormalization)                                                                                \n",
            "                                                                                                  \n",
            " activation_13 (Activation)  (None, 32)                   0         ['batch_normalization_13[0][0]\n",
            "                                                                    ']                            \n",
            "                                                                                                  \n",
            " dense_16 (Dense)            (None, 16)                   528       ['activation_13[0][0]']       \n",
            "                                                                                                  \n",
            " batch_normalization_14 (Ba  (None, 16)                   64        ['dense_16[0][0]']            \n",
            " tchNormalization)                                                                                \n",
            "                                                                                                  \n",
            " activation_14 (Activation)  (None, 16)                   0         ['batch_normalization_14[0][0]\n",
            "                                                                    ']                            \n",
            "                                                                                                  \n",
            " dense_17 (Dense)            (None, 2)                    34        ['activation_14[0][0]']       \n",
            "                                                                                                  \n",
            "==================================================================================================\n",
            "Total params: 29138 (113.82 KB)\n",
            "Trainable params: 28402 (110.95 KB)\n",
            "Non-trainable params: 736 (2.88 KB)\n",
            "__________________________________________________________________________________________________\n"
          ]
        }
      ],
      "source": [
        "from keras.layers import Input, Concatenate\n",
        "from keras.models import Model\n",
        "\n",
        "# Định nghĩa các kích thước của các đặc trưng\n",
        "input_shape_new = (64,)\n",
        "input_shape_area = (1,)\n",
        "# input_shape_angle = (1,)\n",
        "# input_shape_minor = (1,)\n",
        "# input_shape_major = (1,)\n",
        "\n",
        "# Tạo các lớp đầu vào cho mỗi đặc trưng\n",
        "input_new = Input(shape=input_shape_new, name='input_new')\n",
        "input_area = Input(shape=input_shape_area, name='input_area')\n",
        "# input_angle = Input(shape=input_shape_angle, name='input_angle')\n",
        "# input_minor = Input(shape=input_shape_minor, name='input_minor')\n",
        "# input_major = Input(shape=input_shape_major, name='input_major')\n",
        "\n",
        "# Xây dựng mạng nơ-ron cho đặc trưng 'New'\n",
        "x = Dense(128)(input_new)\n",
        "x = BatchNormalization()(x)\n",
        "x = Activation('relu')(x)\n",
        "\n",
        "# Xây dựng mạng nơ-ron cho diện tích và góc của elip\n",
        "y = Dense(128)(input_area)\n",
        "y = BatchNormalization()(y)\n",
        "y = Activation('relu')(y)\n",
        "\n",
        "# z = Dense(128)(input_angle)\n",
        "# z = BatchNormalization()(z)\n",
        "# z = Activation('relu')(z)\n",
        "\n",
        "# a = Dense(128)(input_minor)\n",
        "# a = BatchNormalization()(a)\n",
        "# a = Activation('relu')(a)\n",
        "\n",
        "# b = Dense(128)(input_major)\n",
        "# b = BatchNormalization()(b)\n",
        "# b = Activation('relu')(b)\n",
        "\n",
        "\n",
        "# Hợp nhất các đặc trưng\n",
        "merged = Concatenate()([x,y])\n",
        "\n",
        "# Tiếp tục xây dựng mạng nơ-ron\n",
        "merged = Dense(64)(merged)\n",
        "merged = BatchNormalization()(merged)\n",
        "merged = Activation('relu')(merged)\n",
        "\n",
        "merged = Dense(32)(merged)\n",
        "merged = BatchNormalization()(merged)\n",
        "merged = Activation('relu')(merged)\n",
        "\n",
        "merged = Dense(16)(merged)\n",
        "merged = BatchNormalization()(merged)\n",
        "merged = Activation('relu')(merged)\n",
        "# Lớp đầu ra\n",
        "output = Dense(2, activation='softmax')(merged)\n",
        "\n",
        "# Xây dựng mô hình với các lớp đầu vào và đầu ra\n",
        "model = Model(inputs=[input_new, input_area], outputs=output)\n",
        "\n",
        "# Biên dịch mô hình\n",
        "model.compile(optimizer='adam', loss='binary_crossentropy', metrics=[metrics.BinaryAccuracy(name='accuracy')])\n",
        "\n",
        "# Hiển thị cấu trúc của mô hình\n",
        "model.summary()\n"
      ]
    },
    {
      "cell_type": "code",
      "execution_count": 12,
      "metadata": {
        "colab": {
          "base_uri": "https://localhost:8080/"
        },
        "id": "6Iavpchdkvmn",
        "outputId": "19d7f7bb-789a-434e-d405-ff28ac432cd2"
      },
      "outputs": [
        {
          "output_type": "stream",
          "name": "stdout",
          "text": [
            "Epoch 1/50\n",
            "23116/23116 [==============================] - 86s 4ms/step - loss: 0.4032 - accuracy: 0.8274 - val_loss: 0.4369 - val_accuracy: 0.8136\n",
            "Epoch 2/50\n",
            "23116/23116 [==============================] - 81s 4ms/step - loss: 0.3649 - accuracy: 0.8468 - val_loss: 0.4309 - val_accuracy: 0.8336\n",
            "Epoch 3/50\n",
            "23116/23116 [==============================] - 80s 3ms/step - loss: 0.3477 - accuracy: 0.8549 - val_loss: 0.3752 - val_accuracy: 0.8451\n",
            "Epoch 4/50\n",
            "23116/23116 [==============================] - 82s 4ms/step - loss: 0.3379 - accuracy: 0.8600 - val_loss: 0.3902 - val_accuracy: 0.8370\n",
            "Epoch 5/50\n",
            "23116/23116 [==============================] - 81s 3ms/step - loss: 0.3310 - accuracy: 0.8628 - val_loss: 0.3939 - val_accuracy: 0.8321\n",
            "Epoch 6/50\n",
            "23116/23116 [==============================] - 83s 4ms/step - loss: 0.3247 - accuracy: 0.8660 - val_loss: 0.3719 - val_accuracy: 0.8461\n",
            "Epoch 7/50\n",
            "23116/23116 [==============================] - 83s 4ms/step - loss: 0.3207 - accuracy: 0.8679 - val_loss: 0.3679 - val_accuracy: 0.8501\n",
            "Epoch 8/50\n",
            "23116/23116 [==============================] - 82s 4ms/step - loss: 0.3156 - accuracy: 0.8699 - val_loss: 0.3635 - val_accuracy: 0.8559\n",
            "Epoch 9/50\n",
            "23116/23116 [==============================] - 81s 3ms/step - loss: 0.3130 - accuracy: 0.8713 - val_loss: 0.3714 - val_accuracy: 0.8494\n",
            "Epoch 10/50\n",
            "23116/23116 [==============================] - 81s 4ms/step - loss: 0.3100 - accuracy: 0.8732 - val_loss: 0.3745 - val_accuracy: 0.8518\n",
            "Epoch 11/50\n",
            "23116/23116 [==============================] - 88s 4ms/step - loss: 0.3086 - accuracy: 0.8737 - val_loss: 0.3566 - val_accuracy: 0.8608\n",
            "Epoch 12/50\n",
            "23116/23116 [==============================] - 82s 4ms/step - loss: 0.3048 - accuracy: 0.8753 - val_loss: 0.3544 - val_accuracy: 0.8655\n",
            "Epoch 13/50\n",
            "23116/23116 [==============================] - 83s 4ms/step - loss: 0.3036 - accuracy: 0.8760 - val_loss: 0.3578 - val_accuracy: 0.8638\n",
            "Epoch 14/50\n",
            "23116/23116 [==============================] - 83s 4ms/step - loss: 0.3026 - accuracy: 0.8759 - val_loss: 0.3768 - val_accuracy: 0.8513\n",
            "Epoch 15/50\n",
            "23116/23116 [==============================] - 83s 4ms/step - loss: 0.3006 - accuracy: 0.8774 - val_loss: 0.3783 - val_accuracy: 0.8504\n",
            "Epoch 16/50\n",
            "23116/23116 [==============================] - 81s 4ms/step - loss: 0.2981 - accuracy: 0.8787 - val_loss: 0.3685 - val_accuracy: 0.8582\n",
            "Epoch 17/50\n",
            "23116/23116 [==============================] - 83s 4ms/step - loss: 0.2974 - accuracy: 0.8789 - val_loss: 0.3643 - val_accuracy: 0.8553\n",
            "Epoch 18/50\n",
            "23116/23116 [==============================] - 83s 4ms/step - loss: 0.2971 - accuracy: 0.8791 - val_loss: 0.3816 - val_accuracy: 0.8503\n",
            "Epoch 19/50\n",
            "23116/23116 [==============================] - 84s 4ms/step - loss: 0.2956 - accuracy: 0.8798 - val_loss: 0.3868 - val_accuracy: 0.8486\n",
            "Epoch 20/50\n",
            "23116/23116 [==============================] - 83s 4ms/step - loss: 0.2939 - accuracy: 0.8804 - val_loss: 0.3799 - val_accuracy: 0.8517\n",
            "Epoch 21/50\n",
            "23116/23116 [==============================] - 81s 3ms/step - loss: 0.2924 - accuracy: 0.8815 - val_loss: 0.3927 - val_accuracy: 0.8598\n",
            "Epoch 22/50\n",
            "23116/23116 [==============================] - 83s 4ms/step - loss: 0.2909 - accuracy: 0.8814 - val_loss: 0.3849 - val_accuracy: 0.8536\n",
            "Epoch 23/50\n",
            "23116/23116 [==============================] - 83s 4ms/step - loss: 0.2900 - accuracy: 0.8822 - val_loss: 0.3747 - val_accuracy: 0.8537\n",
            "Epoch 24/50\n",
            "23116/23116 [==============================] - 83s 4ms/step - loss: 0.2890 - accuracy: 0.8824 - val_loss: 0.3745 - val_accuracy: 0.8530\n",
            "Epoch 25/50\n",
            "23116/23116 [==============================] - 83s 4ms/step - loss: 0.2883 - accuracy: 0.8832 - val_loss: 0.3702 - val_accuracy: 0.8557\n",
            "Epoch 26/50\n",
            "23116/23116 [==============================] - 81s 4ms/step - loss: 0.2879 - accuracy: 0.8832 - val_loss: 0.3568 - val_accuracy: 0.8641\n",
            "Epoch 27/50\n",
            "23116/23116 [==============================] - 84s 4ms/step - loss: 0.2867 - accuracy: 0.8841 - val_loss: 0.3785 - val_accuracy: 0.8500\n",
            "Epoch 28/50\n",
            "23116/23116 [==============================] - 83s 4ms/step - loss: 0.2857 - accuracy: 0.8843 - val_loss: 0.4098 - val_accuracy: 0.8506\n",
            "Epoch 29/50\n",
            "23116/23116 [==============================] - 83s 4ms/step - loss: 0.2852 - accuracy: 0.8842 - val_loss: 0.3544 - val_accuracy: 0.8634\n",
            "Epoch 30/50\n",
            "23116/23116 [==============================] - 83s 4ms/step - loss: 0.2847 - accuracy: 0.8851 - val_loss: 0.3711 - val_accuracy: 0.8569\n",
            "Epoch 31/50\n",
            "23116/23116 [==============================] - 82s 4ms/step - loss: 0.2840 - accuracy: 0.8849 - val_loss: 0.3767 - val_accuracy: 0.8570\n",
            "Epoch 32/50\n",
            "23116/23116 [==============================] - 83s 4ms/step - loss: 0.2830 - accuracy: 0.8860 - val_loss: 0.3703 - val_accuracy: 0.8571\n",
            "Epoch 33/50\n",
            "23116/23116 [==============================] - 83s 4ms/step - loss: 0.2828 - accuracy: 0.8862 - val_loss: 0.3647 - val_accuracy: 0.8579\n",
            "Epoch 34/50\n",
            "23116/23116 [==============================] - 84s 4ms/step - loss: 0.2816 - accuracy: 0.8863 - val_loss: 0.3676 - val_accuracy: 0.8589\n",
            "Epoch 35/50\n",
            "23116/23116 [==============================] - 81s 4ms/step - loss: 0.2815 - accuracy: 0.8872 - val_loss: 0.3776 - val_accuracy: 0.8549\n",
            "Epoch 36/50\n",
            "23116/23116 [==============================] - 83s 4ms/step - loss: 0.2811 - accuracy: 0.8866 - val_loss: 0.3529 - val_accuracy: 0.8628\n",
            "Epoch 37/50\n",
            "23116/23116 [==============================] - 83s 4ms/step - loss: 0.2808 - accuracy: 0.8865 - val_loss: 0.3675 - val_accuracy: 0.8554\n",
            "Epoch 38/50\n",
            "23116/23116 [==============================] - 83s 4ms/step - loss: 0.2799 - accuracy: 0.8872 - val_loss: 0.3785 - val_accuracy: 0.8595\n",
            "Epoch 39/50\n",
            "23116/23116 [==============================] - 83s 4ms/step - loss: 0.2799 - accuracy: 0.8871 - val_loss: 0.3766 - val_accuracy: 0.8592\n",
            "Epoch 40/50\n",
            "23116/23116 [==============================] - 81s 4ms/step - loss: 0.2789 - accuracy: 0.8875 - val_loss: 0.3627 - val_accuracy: 0.8579\n",
            "Epoch 41/50\n",
            "23116/23116 [==============================] - 83s 4ms/step - loss: 0.2779 - accuracy: 0.8886 - val_loss: 0.3868 - val_accuracy: 0.8558\n",
            "Epoch 42/50\n",
            "23116/23116 [==============================] - 84s 4ms/step - loss: 0.2778 - accuracy: 0.8879 - val_loss: 0.3734 - val_accuracy: 0.8576\n",
            "Epoch 43/50\n",
            "23116/23116 [==============================] - 83s 4ms/step - loss: 0.2773 - accuracy: 0.8885 - val_loss: 0.3909 - val_accuracy: 0.8530\n",
            "Epoch 44/50\n",
            "23116/23116 [==============================] - 83s 4ms/step - loss: 0.2766 - accuracy: 0.8892 - val_loss: 0.3592 - val_accuracy: 0.8596\n",
            "Epoch 45/50\n",
            "23116/23116 [==============================] - 83s 4ms/step - loss: 0.2765 - accuracy: 0.8881 - val_loss: 0.3715 - val_accuracy: 0.8601\n",
            "Epoch 46/50\n",
            "23116/23116 [==============================] - 84s 4ms/step - loss: 0.2763 - accuracy: 0.8884 - val_loss: 0.3728 - val_accuracy: 0.8577\n",
            "Epoch 47/50\n",
            "23116/23116 [==============================] - 83s 4ms/step - loss: 0.2750 - accuracy: 0.8888 - val_loss: 0.3660 - val_accuracy: 0.8579\n",
            "Epoch 48/50\n",
            "23116/23116 [==============================] - 81s 4ms/step - loss: 0.2746 - accuracy: 0.8889 - val_loss: 0.3936 - val_accuracy: 0.8559\n",
            "Epoch 49/50\n",
            "23116/23116 [==============================] - 81s 4ms/step - loss: 0.2749 - accuracy: 0.8892 - val_loss: 0.3627 - val_accuracy: 0.8602\n",
            "Epoch 50/50\n",
            "23116/23116 [==============================] - 84s 4ms/step - loss: 0.2760 - accuracy: 0.8891 - val_loss: 0.3624 - val_accuracy: 0.8623\n"
          ]
        }
      ],
      "source": [
        "checkpoint = ModelCheckpoint('/content/drive/MyDrive/FingerClassification/Model/Thumb others/model31.h5', save_best_only=True, monitor='val_accuracy', mode='max')\n",
        "early_stopping = EarlyStopping(monitor='val_accuracy', patience = 50, verbose=0)\n",
        "\n",
        "history = model.fit([X_train_features, X_train_area], y_train_one_hot,\n",
        "                    validation_data=([X_test_features,X_test_area], y_test_one_hot),\n",
        "                    epochs=50, batch_size=16, callbacks=[checkpoint, early_stopping])\n",
        "\n",
        "history_df = pd.DataFrame(history.history)\n",
        "history_df.to_csv('/content/drive/MyDrive/FingerClassification/Model/Thumb others/history31.csv', index=False)\n"
      ]
    },
    {
      "cell_type": "code",
      "source": [
        "# Tìm giá trị nhỏ nhất trong tất cả các ma trận trong cột 'BlobImage'\n",
        "min_value = df['Major_Axis'].min()\n",
        "min_value"
      ],
      "metadata": {
        "colab": {
          "base_uri": "https://localhost:8080/"
        },
        "id": "xQxHAUKUR9kJ",
        "outputId": "bf6396ab-8da1-4be0-8390-e6f91ad580cf"
      },
      "execution_count": null,
      "outputs": [
        {
          "output_type": "execute_result",
          "data": {
            "text/plain": [
              "0.0"
            ]
          },
          "metadata": {},
          "execution_count": 15
        }
      ]
    },
    {
      "cell_type": "code",
      "source": [
        "df.Task.unique()"
      ],
      "metadata": {
        "colab": {
          "base_uri": "https://localhost:8080/"
        },
        "id": "gAsVC8Zh1TY6",
        "outputId": "c939c216-cf98-4ff7-c98d-6305d6ea7b72"
      },
      "execution_count": null,
      "outputs": [
        {
          "output_type": "execute_result",
          "data": {
            "text/plain": [
              "array(['DRAG', 'SCROLL', 'TAP'], dtype=object)"
            ]
          },
          "metadata": {},
          "execution_count": 17
        }
      ]
    },
    {
      "cell_type": "code",
      "execution_count": null,
      "metadata": {
        "colab": {
          "base_uri": "https://localhost:8080/"
        },
        "id": "ZN2tDRYHwLpO",
        "outputId": "833d583f-8efc-4df3-e095-4deb679f5a1c"
      },
      "outputs": [
        {
          "output_type": "stream",
          "name": "stdout",
          "text": [
            "Best model test loss: 0.22615738213062286\n",
            "Best model test accuracy: 0.9098703861236572\n"
          ]
        }
      ],
      "source": [
        "#q  q q q q q qq  qq  qqqqqqqqqqqqqqqqqqqqqqqqqqqqqqqqqqqqqqqqqqqqqqqqqqqqqqqqqqqqqqqqqqqqqqqqqqqqqqqqqqqqqqqqqqqqqqqqqqqqqqqqqqqqqqqqqqqqqqqqqqqqqqqqqqqqqqqqqqqqqqqqqqqqqqqqqqqqqqqqqqqqqqqqqqqqqqqqqqqqqqqqqqqqqqqqqqqqqqqqqqqqqqqqqqqqqqqqqqqqqqqqqqqqqqqqqqqqqqqqqqqqqqqqqqqqqqqqqqqqqqqqqqqqqqqqqqqqqqqqqqqqqqqqqqqqqqqqqqqqqqqqqqqqqqqqqqqqqqqqqqqqqqqqqqqqqqqqqqqqqqqqqqqqqqqqqqqqqqqqqqqqqqqqqqqqqqqqqqqqqqqqqqqqqqqqqqqqqqqqqqqqqqqqqqqqqqqqqqqqqqqqqqqqqqqqqqqqqqqqqqqqqqqqqqqqqqqqqqqqqqqqqqqqqqqqqqqqqqqqqqqqqqqqqqqqqqqqqqqqqqqqqqqqqqqqqqqqqqqqqqqqqqqqqqqqqqqqqqqqqqqqqqqqqqqqqqqqqqqqqqqqqqqqqqqqqqqqqqqqqqqqqqqqqqqqqqqqqqqqqqqqqqqqqqqqqqqqqqqqqqqqqqqqqqqqqqqqqqqqqqqqqqqqqqqqqqqqqqqqqqqqqqqqqqqqqqqqqqqqqqqqqqqqqqqqqqqqqqqqqqqqqqqqqqqqqqqqqqqqqqqqqqqqqqqqqqqqqqqqqqqqqqqqqqqqqqqqqqqqqqqqqqqqqqqqqqqqqqqqqqqqqqqqqqqqqqqqqqqqqqqqqqqqqqqqqqqqqqqqqqqqqqqqqqqqqqqqqqqqqqqqqqqqqqqqqqqqqqqqqqqqqqqqqqqqqqqqqqqqqqqqqqqqqqqqqqqqqqqqqqqqqqqqqqqqqqqqqqqqqqqqqqqqqqqqqqqqqqqqqqqqqqqqqqqqqqqqqqqqqqqqqqqqqqqqqqqqqqqqqqqqqqqqqqqqqqqqqqqqqqqqqqqqqqqqqqqqqqqqqqqqqqqqqqqqqqqqqqqqqqqqqqqqqqqqqqqqqqqqqqqqqqqqqqqqqqqqqqqqqqqqqqqqqqqqqqqqqqqqqqqqqqqqqqqqqqqqqqqqqqqqqqqqqqqqqqqqqqqqqqqqqqqqqqqqqqqqqqqqqqqqqqqqqqqqqqqqqqqqqqqqqqqqqqqqqqqqqqqqqqqqqqqqqqqqqqqqqqqqqqqqqqqqqqqqqqqqqqqqqqqqqqqqqqqqqqqqqqqqqqqqqqqqqqqqqqqqqqqqqqqqqqqqqqqqqqqqqqqqqqqqqqqqqqqqqqqqqqqqqqqqqqqqqqqqqqqqqqqqqqqqqqqqqqqqqqqqqqqqqqqqqqqqqqqqqqqqqqqqqqqqqqqqqqqqqqqqqqqqqqqqqqqqqqqqqqqqqqqqqqqqqqqqqqqqqqqqqqqqqqqqqqqqqqqqqqqqqqqqqqqqqqqqqqqqqqqqqqqqqqqqqqqqqqqqqqqqqqqqqqqqqqqqqqqqqqqqqqqqqqqqqqqqqqqqqqqqqqqqqqqqqqqqqqqqqqqqqqqqqqqqqqqqqqqqqqqqqqqqqqqqqqqqqqqqqqqqqqqqqqqqqqqqqqqqqqqqqqqqqqqqqqqqqqqqqqqqqqqqqqqqqqqqqqqqqqqqqqqqqqqqqqqqqqqqqqqqqqqqqqqqqqqqqqqqqqqqqqqqqqqqqqqqqqqqqqqqqqqqqqqqqqqqqqqqqqqqqqqqqqqqqqqqqqqqqqqqqqqqqqqqqqqqqqqqqqqqqqqqqqqqqqqqqqqqqqqqqqqqqqqqqqqqqqqqqqqqqqqqqqqqqqqqqqqqqqqqqqqqqqqqqqqqqqqqqqqqqqqqqqqqqqqqqqqqqqqqqqqqqqqqqqqqqqqqqqqqqqqqqqqqqqqqqqqqqqqqqqqqqqqqqqqqqqqqqqqqqqqqqqqqqqqqqqqqqqqqqqqqqqqqqqqqqqqqqqqqqqqqqqqqqqqqqqqqqqqqqqqqqqqqqqqqqqqqqqqqqqqqqqqqqqqqqqqqqqqqqqqqqqqqqqqqqqqqqqqqqqqqqqqqqqqqqqqqqqqqqqqqqqqqqqqqqqqqqqqqqqqqqqqqqqqqqqqqqqqqqqqqqqqqqqqqqqqqqqqqqqqqqqqqqqqqqqqqqqqqqqqqqqqqqqqqqqqqqqqqqqqqqqqqqqqqqqqqqqqqqqqqqqqqqqqqqqqqqqqqqqqqqqqqqqqqqqqqqqqqqqqqqqqqqqqqqqqqqqqqqqqqqqqqqqqqqqqqqqqqqqqqqqqqqqqqqqqqqqqqqqqqqqqqqqqqqqqqqqqqqqqqqqqqqqqqqqqqqqqqqqqqqqqqqqqqqqqqqqqqqqqqqqqqqqqqqqqqqqqqqqqqqqqqqqqqqqqqqqqqqqqqqqqqqqqq    from keras.models import load_model\n",
        "\n",
        "# Tải mô hình tốt nhất đã lưu trước đó\n",
        "best_model = load_model('/content/drive/MyDrive/FingerClassification/Model/Thumn/model2.h5')\n",
        "\n",
        "# Đánh giá mô hình tốt nhất trên tập dữ liệu kiểm tra\n",
        "loss, accuracy = best_model.evaluate([X_test_features, X_test_area], y_test_one_hot, verbose=0)\n",
        "\n",
        "# In kết quả\n",
        "print(f\"Best model test loss: {loss}\")\n",
        "print(f\"Best model test accuracy: {accuracy}\")\n"
      ]
    },
    {
      "cell_type": "code",
      "execution_count": null,
      "metadata": {
        "colab": {
          "base_uri": "https://localhost:8080/",
          "height": 417
        },
        "id": "PKfky3EllM7D",
        "outputId": "4f517659-2969-42bf-f5e7-091f73dcf869"
      },
      "outputs": [
        {
          "output_type": "display_data",
          "data": {
            "text/plain": [
              "<Figure size 1200x500 with 2 Axes>"
            ],
            "image/png": "[encoded data removed]"
          },
          "metadata": {}
        }
      ],
      "source": [
        "\n",
        "# Tạo figure và axes với 1 hàng và 2 cột\n",
        "fig, ax = plt.subplots(1, 2, figsize=(12, 5)) # figsize có thể điều chỉnh cho phù hợp\n",
        "\n",
        "# Vẽ đồ thị loss trên trục thứ nhất\n",
        "ax[0].plot(history.history['loss'], label='Training loss')\n",
        "ax[0].plot(history.history['val_loss'], label='Validation loss')\n",
        "ax[0].set_title('Training and Validation Loss')\n",
        "ax[0].set_xlabel('Epochs')\n",
        "ax[0].set_ylabel('Loss')\n",
        "ax[0].legend()\n",
        "\n",
        "# Vẽ đồ thị accuracy trên trục thứ hai\n",
        "ax[1].plot(history.history['accuracy'], label='Training accuracy')\n",
        "ax[1].plot(history.history['val_accuracy'], label='Validation accuracy')\n",
        "ax[1].set_title('Training and Validation Accuracy')\n",
        "ax[1].set_xlabel('Epochs')\n",
        "ax[1].set_ylabel('Accuracy')\n",
        "ax[1].legend()\n",
        "\n",
        "# Hiển thị đồ thị\n",
        "plt.tight_layout() # Điều chỉnh layout để không bị chồng chéo\n",
        "plt.show()\n"
      ]
    },
    {
      "cell_type": "markdown",
      "metadata": {
        "id": "kPtsPYSwzxGw"
      },
      "source": [
        "GRID SEARCH"
      ]
    },
    {
      "cell_type": "code",
      "execution_count": null,
      "metadata": {
        "colab": {
          "base_uri": "https://localhost:8080/"
        },
        "id": "pd2dNe38IiUi",
        "outputId": "083baff8-3537-4b4a-d49f-a13a24c5fa8a"
      },
      "outputs": [
        {
          "name": "stdout",
          "output_type": "stream",
          "text": [
            "dict_keys(['model', 'build_fn', 'warm_start', 'random_state', 'optimizer', 'loss', 'metrics', 'batch_size', 'validation_batch_size', 'verbose', 'callbacks', 'validation_split', 'shuffle', 'run_eagerly', 'epochs', 'class_weight'])\n"
          ]
        }
      ],
      "source": [
        "print(model.get_params().keys())\n"
      ]
    },
    {
      "cell_type": "code",
      "execution_count": null,
      "metadata": {
        "id": "YiiB5SRO-ABp"
      },
      "outputs": [],
      "source": [
        "# Số lượng mẫu\n",
        "n_samples = 100\n",
        "\n",
        "# Tạo dữ liệu ngẫu nhiên\n",
        "# Giả sử mỗi mẫu đầu vào là một vector có kích thước (900,)\n",
        "X = np.random.randn(n_samples, 900)  # Dữ liệu đầu vào\n",
        "\n",
        "# Tạo nhãn mẫu giả định là bài toán phân loại nhị phân (0 hoặc 1)\n",
        "y = np.random.randint(0, 2, n_samples)  # Nhãn đầu ra"
      ]
    },
    {
      "cell_type": "code",
      "execution_count": null,
      "metadata": {
        "id": "tqsyBwHHfPAW"
      },
      "outputs": [],
      "source": [
        "# Định nghĩa lại hàm tạo model\n",
        "def create_model(layers, activation, optimizer='adam'):\n",
        "    model = Sequential()\n",
        "    for i, nodes in enumerate(layers):\n",
        "        if i == 0:\n",
        "            model.add(Dense(nodes, input_dim=900))\n",
        "            model.add(Activation(activation))\n",
        "        else:\n",
        "            model.add(Dense(nodes))\n",
        "            model.add(Activation(activation))\n",
        "    model.add(Dense(1, activation='sigmoid'))\n",
        "\n",
        "    if optimizer == 'adam':\n",
        "        opt = Adam()\n",
        "    elif optimizer == 'sgd':\n",
        "        opt = SGD()\n",
        "    model.compile(optimizer=opt, loss='binary_crossentropy', metrics=['accuracy'])\n",
        "    return model\n",
        "\n",
        "# Khởi tạo model\n",
        "model= KerasClassifier(model=create_model, verbose=0, activation='relu', layers=20)\n",
        "layers = [\n",
        "    [256],  # Một lớp với 256 node\n",
        "    [128, 64],  # Hai lớp với số node giảm dần\n",
        "    [256, 128, 64],  # Ba lớp với số node giảm dần\n",
        "    [256, 128, 64, 32],  # Bốn lớp với số node giảm dần\n",
        "    [512, 256, 128],  # Ba lớp với số node lớn hơn và giảm dần\n",
        "    [128, 128],  # Hai lớp với số node đồng nhất\n",
        "    [128, 128, 128],  # Ba lớp với số node đồng nhất\n",
        "    [256, 128, 32],  # Ba lớp với sự giảm số node đáng kể ở lớp cuối\n",
        "    [256, 256],  # Hai lớp với số node cao và đồng nhất\n",
        "    [512],  # Một lớp với số node cao\n",
        "    [256, 128, 128, 64],  # Bốn lớp, với hai lớp giữa có số node đồng nhất\n",
        "    [512, 256, 256, 128, 128]  # Năm lớp, xen kẽ giữa số node đồng nhất và giảm dần\n",
        "]\n",
        "\n",
        "activations = ['relu']\n",
        "# Tạo các phần của param_grid để thực hiện Grid Search từng phần một\n",
        "# Ví dụ: chia 'layers' thành nhiều phần nhỏ hơn\n",
        "layer_parts = [layers[:2], layers[2:4], layers[4:6], layers[6:8], layers[8:10], layers[10::12]]\n",
        "\n",
        "for index, part in enumerate(layer_parts):\n",
        "    param_grid_part = {\n",
        "        'layers': part,\n",
        "        'activation': activations,\n",
        "        'optimizer': ['adam', 'sgd'],\n",
        "        'batch_size': [32, 64],\n",
        "        'epochs': [200]  # Giảm số lượng epochs để thí nghiệm\n",
        "    }\n",
        "\n",
        "    grid = GridSearchCV(estimator=model, param_grid=param_grid_part, verbose=3)\n",
        "    grid_result = grid.fit(X, y)  # X và y cần được định nghĩa trước\n",
        "\n",
        "    # Lưu kết quả của từng phần\n",
        "    file_name = f'/content/drive/MyDrive/FingerClassification/grid/grid_search_result_part_{index}.pkl'\n",
        "    with open(file_name, 'wb') as file:\n",
        "        pickle.dump(grid_result, file)\n",
        "\n",
        "# Sau khi tất cả các phần hoàn thành, bạn có thể tải lại và tổng hợp kết quả\n",
        "all_results = []\n",
        "for i in range(len(layer_parts)):\n",
        "    file_name = f'/content/drive/MyDrive/FingerClassification/grid/grid_search_result_part_{i}.pkl'\n",
        "    with open(file_name, 'rb') as file:\n",
        "        grid_result_part = pickle.load(file)\n",
        "        all_results.append(grid_result_part)\n",
        "\n",
        "# Tổng hợp và tìm ra kết quả tốt nhất từ tất cả các phần\n",
        "best_score = -1\n",
        "best_params = None\n",
        "for result in all_results:\n",
        "    if result.best_score_ > best_score:\n",
        "        best_score = result.best_score_\n",
        "        best_params = result.best_params_\n",
        "\n",
        "print(f\"Best overall score: {best_score}, Best params: {best_params}\")"
      ]
    },
    {
      "cell_type": "code",
      "execution_count": null,
      "metadata": {
        "colab": {
          "base_uri": "https://localhost:8080/"
        },
        "id": "2UiPSRJ7kjDs",
        "outputId": "0cbc130e-2e2b-4fdf-cc0f-efce155a1c4a"
      },
      "outputs": [
        {
          "name": "stdout",
          "output_type": "stream",
          "text": [
            "Best score for part 0: 0.5000000000000001\n",
            "Best params for part 0: {'activation': 'relu', 'batch_size': 32, 'epochs': 10, 'layers': [128, 64], 'optimizer': 'sgd'}\n",
            "\n",
            "Best score for part 1: 0.56\n",
            "Best params for part 1: {'activation': 'relu', 'batch_size': 32, 'epochs': 10, 'layers': [256, 128, 64, 32], 'optimizer': 'sgd'}\n",
            "\n",
            "Best score for part 2: 0.5599999999999999\n",
            "Best params for part 2: {'activation': 'relu', 'batch_size': 64, 'epochs': 10, 'layers': [512, 256, 128], 'optimizer': 'adam'}\n",
            "\n"
          ]
        }
      ],
      "source": [
        "# Tải lại và in kết quả tốt nhất từ mỗi file\n",
        "for i in range(len(layer_parts)):\n",
        "    file_name = f'/content/drive/MyDrive/FingerClassification/grid/grid_search_result_part_{i}.pkl'\n",
        "    with open(file_name, 'rb') as file:\n",
        "        grid_result_part = pickle.load(file)\n",
        "        print(f\"Best score for part {i}: {grid_result_part.best_score_}\")\n",
        "        print(f\"Best params for part {i}: {grid_result_part.best_params_}\\n\")\n"
      ]
    },
    {
      "cell_type": "markdown",
      "metadata": {
        "id": "zoE9RFuRlGDl"
      },
      "source": [
        "USING CNN"
      ]
    },
    {
      "cell_type": "code",
      "execution_count": null,
      "metadata": {
        "id": "gNRE7MC5lO9f"
      },
      "outputs": [],
      "source": [
        "%reload_ext tensorboard\n",
        "%tensorboard --logdir '/content/drive/MyDrive/FingerClassification/test/train'\n"
      ]
    },
    {
      "cell_type": "code",
      "execution_count": null,
      "metadata": {
        "id": "QPDfOCm0mgkM"
      },
      "outputs": [],
      "source": []
    }
  ],
  "metadata": {
    "colab": {
      "gpuType": "T4",
      "provenance": [],
      "mount_file_id": "17r1mPKnI7FwR0BiZCOW_W4bJG3VVBF_p",
      "authorship_tag": "ABX9TyP/MW9bNRmgShGDWyucIMmF",
      "include_colab_link": true
    },
    "kernelspec": {
      "display_name": "Python 3",
      "name": "python3"
    },
    "language_info": {
      "name": "python"
    }
  },
  "nbformat": 4,
  "nbformat_minor": 0
}