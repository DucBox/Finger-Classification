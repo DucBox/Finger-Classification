{
  "cells": [
    {
      "cell_type": "markdown",
      "metadata": {
        "id": "view-in-github",
        "colab_type": "text"
      },
      "source": [
        "<a href=\"https://colab.research.google.com/github/DucBox/Finger-Classification/blob/main/Collect_and_Process_Data.ipynb\" target=\"_parent\"><img src=\"https://colab.research.google.com/assets/colab-badge.svg\" alt=\"Open In Colab\"/></a>"
      ]
    },
    {
      "cell_type": "code",
      "execution_count": null,
      "metadata": {
        "id": "hrnauNmJSEEh"
      },
      "outputs": [],
      "source": [
        "import pandas as pd\n",
        "import numpy as np\n",
        "import cv2\n",
        "import time\n",
        "import os\n",
        "import subprocess\n",
        "import io\n",
        "import math\n",
        "import matplotlib as mpl\n",
        "import matplotlib.pyplot as plt\n",
        "from multiprocessing import Pool\n",
        "from PIL import Image\n",
        "from sklearn.preprocessing import LabelEncoder\n",
        "from IPython import display\n",
        "from matplotlib import animation\n",
        "from matplotlib.patches import Rectangle\n",
        "from sklearn.decomposition import PCA\n",
        "from sklearn.preprocessing import StandardScaler\n",
        "from sklearn.preprocessing import MinMaxScaler\n",
        "%matplotlib inline"
      ]
    },
    {
      "cell_type": "code",
      "execution_count": null,
      "metadata": {
        "colab": {
          "base_uri": "https://localhost:8080/"
        },
        "id": "FUp1d_FVKO-i",
        "outputId": "43139a5d-c3e8-4142-8a8e-55401f54d461"
      },
      "outputs": [
        {
          "name": "stdout",
          "output_type": "stream",
          "text": [
            "Requirement already satisfied: Pillow in /usr/local/lib/python3.10/dist-packages (9.4.0)\n"
          ]
        }
      ],
      "source": [
        "!pip install Pillow"
      ]
    },
    {
      "cell_type": "code",
      "execution_count": null,
      "metadata": {
        "id": "GlehiQbYSHz-"
      },
      "outputs": [],
      "source": [
        "from google.colab import drive\n",
        "drive.mount('/content/drive')"
      ]
    },
    {
      "cell_type": "code",
      "execution_count": null,
      "metadata": {
        "colab": {
          "base_uri": "https://localhost:8080/"
        },
        "id": "5MV9Z2sLNJZW",
        "outputId": "18a2d1c8-5b40-4701-91cb-95ea7da2295c"
      },
      "outputs": [
        {
          "name": "stdout",
          "output_type": "stream",
          "text": [
            "Cloning into 'CapFingerId'...\n",
            "remote: Enumerating objects: 219, done.\u001b[K\n",
            "remote: Total 219 (delta 0), reused 0 (delta 0), pack-reused 219\u001b[K\n",
            "Receiving objects: 100% (219/219), 130.79 MiB | 13.19 MiB/s, done.\n",
            "Resolving deltas: 100% (6/6), done.\n",
            "Updating files: 100% (205/205), done.\n"
          ]
        }
      ],
      "source": [
        "!git clone https://github.com/interactionlab/CapFingerId.git"
      ]
    },
    {
      "cell_type": "code",
      "execution_count": null,
      "metadata": {
        "id": "9PJ1b0LvwIck"
      },
      "outputs": [],
      "source": [
        "df = pd.read_pickle(\"/content/drive/MyDrive/FingerClassification/data.pkl\")"
      ]
    },
    {
      "cell_type": "code",
      "execution_count": null,
      "metadata": {
        "id": "teq05p3TSPkX"
      },
      "outputs": [],
      "source": [
        "df = \"\"\n",
        "PATH = \"/content/CapFingerId/data/\"\n",
        "\n",
        "for filename in os.listdir(PATH):\n",
        "    if filename.endswith(\".txt\"):\n",
        "        dfTemp = pd.read_csv(PATH + filename, header=None, names=[\"Participant\", \"Handedness\", \"Finger\", \"Task\", \"Ignore\", \"MatrixStr\"], delimiter=\";\")\n",
        "        if (type(df) is str):\n",
        "            df = dfTemp\n",
        "        else:\n",
        "            df = pd.concat([df, dfTemp])\n",
        "    else:\n",
        "        continue\n",
        "\n",
        "\n",
        "# Remove the \"Ignore\" column\n",
        "df = df.drop('Ignore', axis = 1)"
      ]
    },
    {
      "cell_type": "code",
      "execution_count": null,
      "metadata": {
        "colab": {
          "base_uri": "https://localhost:8080/",
          "height": 206
        },
        "id": "7_UmTExXnCeN",
        "outputId": "51563a7a-2eb2-4a2a-f872-edcd2688356b"
      },
      "outputs": [
        {
          "data": {
            "application/vnd.google.colaboratory.intrinsic+json": {
              "type": "dataframe",
              "variable_name": "df"
            },
            "text/html": [
              "\n",
              "  <div id=\"df-3dffd9e0-4188-4076-b239-496530951601\" class=\"colab-df-container\">\n",
              "    <div>\n",
              "<style scoped>\n",
              "    .dataframe tbody tr th:only-of-type {\n",
              "        vertical-align: middle;\n",
              "    }\n",
              "\n",
              "    .dataframe tbody tr th {\n",
              "        vertical-align: top;\n",
              "    }\n",
              "\n",
              "    .dataframe thead th {\n",
              "        text-align: right;\n",
              "    }\n",
              "</style>\n",
              "<table border=\"1\" class=\"dataframe\">\n",
              "  <thead>\n",
              "    <tr style=\"text-align: right;\">\n",
              "      <th></th>\n",
              "      <th>Participant</th>\n",
              "      <th>Handedness</th>\n",
              "      <th>Finger</th>\n",
              "      <th>Task</th>\n",
              "      <th>MatrixStr</th>\n",
              "    </tr>\n",
              "  </thead>\n",
              "  <tbody>\n",
              "    <tr>\n",
              "      <th>0</th>\n",
              "      <td>14</td>\n",
              "      <td>right</td>\n",
              "      <td>ring</td>\n",
              "      <td>TAP</td>\n",
              "      <td>1510247037,185488055,5,224,0,0,1,0,1,3,0,0,0,4...</td>\n",
              "    </tr>\n",
              "    <tr>\n",
              "      <th>1</th>\n",
              "      <td>14</td>\n",
              "      <td>right</td>\n",
              "      <td>ring</td>\n",
              "      <td>TAP</td>\n",
              "      <td>1510247037,255665659,5,224,0,0,1,0,1,3,0,0,0,4...</td>\n",
              "    </tr>\n",
              "    <tr>\n",
              "      <th>2</th>\n",
              "      <td>14</td>\n",
              "      <td>right</td>\n",
              "      <td>ring</td>\n",
              "      <td>TAP</td>\n",
              "      <td>1510247037,255665659,5,224,0,0,1,0,1,3,0,0,0,4...</td>\n",
              "    </tr>\n",
              "    <tr>\n",
              "      <th>3</th>\n",
              "      <td>14</td>\n",
              "      <td>right</td>\n",
              "      <td>ring</td>\n",
              "      <td>TAP</td>\n",
              "      <td>1510247037,326155034,5,224,0,0,1,0,1,3,0,0,0,4...</td>\n",
              "    </tr>\n",
              "    <tr>\n",
              "      <th>4</th>\n",
              "      <td>14</td>\n",
              "      <td>right</td>\n",
              "      <td>ring</td>\n",
              "      <td>TAP</td>\n",
              "      <td>1510247037,397380190,5,224,0,0,1,0,1,3,0,0,0,4...</td>\n",
              "    </tr>\n",
              "  </tbody>\n",
              "</table>\n",
              "</div>\n",
              "    <div class=\"colab-df-buttons\">\n",
              "\n",
              "  <div class=\"colab-df-container\">\n",
              "    <button class=\"colab-df-convert\" onclick=\"convertToInteractive('df-3dffd9e0-4188-4076-b239-496530951601')\"\n",
              "            title=\"Convert this dataframe to an interactive table.\"\n",
              "            style=\"display:none;\">\n",
              "\n",
              "  <svg xmlns=\"http://www.w3.org/2000/svg\" height=\"24px\" viewBox=\"0 -960 960 960\">\n",
              "    <path d=\"M120-120v-720h720v720H120Zm60-500h600v-160H180v160Zm220 220h160v-160H400v160Zm0 220h160v-160H400v160ZM180-400h160v-160H180v160Zm440 0h160v-160H620v160ZM180-180h160v-160H180v160Zm440 0h160v-160H620v160Z\"/>\n",
              "  </svg>\n",
              "    </button>\n",
              "\n",
              "  <style>\n",
              "    .colab-df-container {\n",
              "      display:flex;\n",
              "      gap: 12px;\n",
              "    }\n",
              "\n",
              "    .colab-df-convert {\n",
              "      background-color: #E8F0FE;\n",
              "      border: none;\n",
              "      border-radius: 50%;\n",
              "      cursor: pointer;\n",
              "      display: none;\n",
              "      fill: #1967D2;\n",
              "      height: 32px;\n",
              "      padding: 0 0 0 0;\n",
              "      width: 32px;\n",
              "    }\n",
              "\n",
              "    .colab-df-convert:hover {\n",
              "      background-color: #E2EBFA;\n",
              "      box-shadow: 0px 1px 2px rgba(60, 64, 67, 0.3), 0px 1px 3px 1px rgba(60, 64, 67, 0.15);\n",
              "      fill: #174EA6;\n",
              "    }\n",
              "\n",
              "    .colab-df-buttons div {\n",
              "      margin-bottom: 4px;\n",
              "    }\n",
              "\n",
              "    [theme=dark] .colab-df-convert {\n",
              "      background-color: #3B4455;\n",
              "      fill: #D2E3FC;\n",
              "    }\n",
              "\n",
              "    [theme=dark] .colab-df-convert:hover {\n",
              "      background-color: #434B5C;\n",
              "      box-shadow: 0px 1px 3px 1px rgba(0, 0, 0, 0.15);\n",
              "      filter: drop-shadow(0px 1px 2px rgba(0, 0, 0, 0.3));\n",
              "      fill: #FFFFFF;\n",
              "    }\n",
              "  </style>\n",
              "\n",
              "    <script>\n",
              "      const buttonEl =\n",
              "        document.querySelector('#df-3dffd9e0-4188-4076-b239-496530951601 button.colab-df-convert');\n",
              "      buttonEl.style.display =\n",
              "        google.colab.kernel.accessAllowed ? 'block' : 'none';\n",
              "\n",
              "      async function convertToInteractive(key) {\n",
              "        const element = document.querySelector('#df-3dffd9e0-4188-4076-b239-496530951601');\n",
              "        const dataTable =\n",
              "          await google.colab.kernel.invokeFunction('convertToInteractive',\n",
              "                                                    [key], {});\n",
              "        if (!dataTable) return;\n",
              "\n",
              "        const docLinkHtml = 'Like what you see? Visit the ' +\n",
              "          '<a target=\"_blank\" href=https://colab.research.google.com/notebooks/data_table.ipynb>data table notebook</a>'\n",
              "          + ' to learn more about interactive tables.';\n",
              "        element.innerHTML = '';\n",
              "        dataTable['output_type'] = 'display_data';\n",
              "        await google.colab.output.renderOutput(dataTable, element);\n",
              "        const docLink = document.createElement('div');\n",
              "        docLink.innerHTML = docLinkHtml;\n",
              "        element.appendChild(docLink);\n",
              "      }\n",
              "    </script>\n",
              "  </div>\n",
              "\n",
              "\n",
              "<div id=\"df-e8018c77-0fde-4f55-8f49-faab5cb46d10\">\n",
              "  <button class=\"colab-df-quickchart\" onclick=\"quickchart('df-e8018c77-0fde-4f55-8f49-faab5cb46d10')\"\n",
              "            title=\"Suggest charts\"\n",
              "            style=\"display:none;\">\n",
              "\n",
              "<svg xmlns=\"http://www.w3.org/2000/svg\" height=\"24px\"viewBox=\"0 0 24 24\"\n",
              "     width=\"24px\">\n",
              "    <g>\n",
              "        <path d=\"M19 3H5c-1.1 0-2 .9-2 2v14c0 1.1.9 2 2 2h14c1.1 0 2-.9 2-2V5c0-1.1-.9-2-2-2zM9 17H7v-7h2v7zm4 0h-2V7h2v10zm4 0h-2v-4h2v4z\"/>\n",
              "    </g>\n",
              "</svg>\n",
              "  </button>\n",
              "\n",
              "<style>\n",
              "  .colab-df-quickchart {\n",
              "      --bg-color: #E8F0FE;\n",
              "      --fill-color: #1967D2;\n",
              "      --hover-bg-color: #E2EBFA;\n",
              "      --hover-fill-color: #174EA6;\n",
              "      --disabled-fill-color: #AAA;\n",
              "      --disabled-bg-color: #DDD;\n",
              "  }\n",
              "\n",
              "  [theme=dark] .colab-df-quickchart {\n",
              "      --bg-color: #3B4455;\n",
              "      --fill-color: #D2E3FC;\n",
              "      --hover-bg-color: #434B5C;\n",
              "      --hover-fill-color: #FFFFFF;\n",
              "      --disabled-bg-color: #3B4455;\n",
              "      --disabled-fill-color: #666;\n",
              "  }\n",
              "\n",
              "  .colab-df-quickchart {\n",
              "    background-color: var(--bg-color);\n",
              "    border: none;\n",
              "    border-radius: 50%;\n",
              "    cursor: pointer;\n",
              "    display: none;\n",
              "    fill: var(--fill-color);\n",
              "    height: 32px;\n",
              "    padding: 0;\n",
              "    width: 32px;\n",
              "  }\n",
              "\n",
              "  .colab-df-quickchart:hover {\n",
              "    background-color: var(--hover-bg-color);\n",
              "    box-shadow: 0 1px 2px rgba(60, 64, 67, 0.3), 0 1px 3px 1px rgba(60, 64, 67, 0.15);\n",
              "    fill: var(--button-hover-fill-color);\n",
              "  }\n",
              "\n",
              "  .colab-df-quickchart-complete:disabled,\n",
              "  .colab-df-quickchart-complete:disabled:hover {\n",
              "    background-color: var(--disabled-bg-color);\n",
              "    fill: var(--disabled-fill-color);\n",
              "    box-shadow: none;\n",
              "  }\n",
              "\n",
              "  .colab-df-spinner {\n",
              "    border: 2px solid var(--fill-color);\n",
              "    border-color: transparent;\n",
              "    border-bottom-color: var(--fill-color);\n",
              "    animation:\n",
              "      spin 1s steps(1) infinite;\n",
              "  }\n",
              "\n",
              "  @keyframes spin {\n",
              "    0% {\n",
              "      border-color: transparent;\n",
              "      border-bottom-color: var(--fill-color);\n",
              "      border-left-color: var(--fill-color);\n",
              "    }\n",
              "    20% {\n",
              "      border-color: transparent;\n",
              "      border-left-color: var(--fill-color);\n",
              "      border-top-color: var(--fill-color);\n",
              "    }\n",
              "    30% {\n",
              "      border-color: transparent;\n",
              "      border-left-color: var(--fill-color);\n",
              "      border-top-color: var(--fill-color);\n",
              "      border-right-color: var(--fill-color);\n",
              "    }\n",
              "    40% {\n",
              "      border-color: transparent;\n",
              "      border-right-color: var(--fill-color);\n",
              "      border-top-color: var(--fill-color);\n",
              "    }\n",
              "    60% {\n",
              "      border-color: transparent;\n",
              "      border-right-color: var(--fill-color);\n",
              "    }\n",
              "    80% {\n",
              "      border-color: transparent;\n",
              "      border-right-color: var(--fill-color);\n",
              "      border-bottom-color: var(--fill-color);\n",
              "    }\n",
              "    90% {\n",
              "      border-color: transparent;\n",
              "      border-bottom-color: var(--fill-color);\n",
              "    }\n",
              "  }\n",
              "</style>\n",
              "\n",
              "  <script>\n",
              "    async function quickchart(key) {\n",
              "      const quickchartButtonEl =\n",
              "        document.querySelector('#' + key + ' button');\n",
              "      quickchartButtonEl.disabled = true;  // To prevent multiple clicks.\n",
              "      quickchartButtonEl.classList.add('colab-df-spinner');\n",
              "      try {\n",
              "        const charts = await google.colab.kernel.invokeFunction(\n",
              "            'suggestCharts', [key], {});\n",
              "      } catch (error) {\n",
              "        console.error('Error during call to suggestCharts:', error);\n",
              "      }\n",
              "      quickchartButtonEl.classList.remove('colab-df-spinner');\n",
              "      quickchartButtonEl.classList.add('colab-df-quickchart-complete');\n",
              "    }\n",
              "    (() => {\n",
              "      let quickchartButtonEl =\n",
              "        document.querySelector('#df-e8018c77-0fde-4f55-8f49-faab5cb46d10 button');\n",
              "      quickchartButtonEl.style.display =\n",
              "        google.colab.kernel.accessAllowed ? 'block' : 'none';\n",
              "    })();\n",
              "  </script>\n",
              "</div>\n",
              "\n",
              "    </div>\n",
              "  </div>\n"
            ],
            "text/plain": [
              "   Participant Handedness Finger Task  \\\n",
              "0           14      right   ring  TAP   \n",
              "1           14      right   ring  TAP   \n",
              "2           14      right   ring  TAP   \n",
              "3           14      right   ring  TAP   \n",
              "4           14      right   ring  TAP   \n",
              "\n",
              "                                           MatrixStr  \n",
              "0  1510247037,185488055,5,224,0,0,1,0,1,3,0,0,0,4...  \n",
              "1  1510247037,255665659,5,224,0,0,1,0,1,3,0,0,0,4...  \n",
              "2  1510247037,255665659,5,224,0,0,1,0,1,3,0,0,0,4...  \n",
              "3  1510247037,326155034,5,224,0,0,1,0,1,3,0,0,0,4...  \n",
              "4  1510247037,397380190,5,224,0,0,1,0,1,3,0,0,0,4...  "
            ]
          },
          "execution_count": 5,
          "metadata": {},
          "output_type": "execute_result"
        }
      ],
      "source": [
        "df.head()"
      ]
    },
    {
      "cell_type": "code",
      "execution_count": null,
      "metadata": {
        "id": "z9vEGgk3SS_A"
      },
      "outputs": [],
      "source": [
        "df = df[(df.Finger == \"index\") | (df.Finger == \"thumb\")].copy()\n"
      ]
    },
    {
      "cell_type": "code",
      "execution_count": null,
      "metadata": {
        "colab": {
          "base_uri": "https://localhost:8080/"
        },
        "id": "XFFIhOUIxM1Q",
        "outputId": "13b22a3e-b09a-4c2c-b437-b4b5c4a1dfcf"
      },
      "outputs": [
        {
          "data": {
            "text/plain": [
              "183457"
            ]
          },
          "execution_count": 16,
          "metadata": {},
          "output_type": "execute_result"
        }
      ],
      "source": [
        "len(df)"
      ]
    },
    {
      "cell_type": "code",
      "execution_count": null,
      "metadata": {
        "id": "krzh9HNlT7-u"
      },
      "outputs": [],
      "source": [
        "df = df[df.Task != \"PAUSE\"]"
      ]
    },
    {
      "cell_type": "code",
      "execution_count": null,
      "metadata": {
        "colab": {
          "base_uri": "https://localhost:8080/"
        },
        "id": "FTVBMVPgSYx8",
        "outputId": "cd5750b7-d5ac-482c-8a00-7a92cd838e8e"
      },
      "outputs": [
        {
          "name": "stdout",
          "output_type": "stream",
          "text": [
            "CPU times: user 6min 39s, sys: 6.87 s, total: 6min 46s\n",
            "Wall time: 6min 48s\n"
          ]
        }
      ],
      "source": [
        "%%time\n",
        "temp_var = None\n",
        "def transform_to_matrix(s):\n",
        "    matrix = s.replace(\"\\n\", \"\")\n",
        "    matrix = matrix.split(\",\")\n",
        "\n",
        "    if (len(matrix) != 408):\n",
        "        return -1, -1\n",
        "\n",
        "    matrix = matrix[:407]\n",
        "\n",
        "    # determine timestamp\n",
        "    timestamp = str(matrix[0]) + str(matrix[1][:3])\n",
        "    timestamp = int(timestamp)\n",
        "\n",
        "    matrix = np.array(matrix[2:]).reshape(27, 15)\n",
        "\n",
        "    matrix[matrix==''] = '0'\n",
        "    matrix[matrix=='-'] = '0'\n",
        "\n",
        "    try:\n",
        "        matrix = matrix.astype(int)\n",
        "    except ValueError:\n",
        "        return -1, -1\n",
        "\n",
        "    return matrix, timestamp\n",
        "\n",
        "df['Matrix'] = df.MatrixStr.apply(lambda x : transform_to_matrix(x)[0])\n",
        "df['Timestamp'] = df.MatrixStr.apply(lambda x : transform_to_matrix(x)[1])\n",
        "df = df.drop(['MatrixStr'], axis=1)\n",
        "df = df[~(df.Timestamp == -1)]"
      ]
    },
    {
      "cell_type": "code",
      "execution_count": null,
      "metadata": {
        "id": "d2-HnMSfTDyF"
      },
      "outputs": [],
      "source": [
        "THRESHOLD = 30\n",
        "\n",
        "# Recursive blob detection\n",
        "def blob_detection(matrix, x, y, found):\n",
        "    if x > 0 and x < len(matrix[0]) and y > 0 and y < len(matrix) and matrix[y][x] > THRESHOLD and ((x,y) not in found):\n",
        "        found.append((x, y))\n",
        "        blob_detection(matrix, x + 1, y, found) # right\n",
        "        blob_detection(matrix, x - 1, y, found) # left\n",
        "        blob_detection(matrix, x, y + 1, found) # top\n",
        "        blob_detection(matrix, x, y - 1, found) # down\n",
        "\n",
        "# Returns Blob Coordinates, connected tiles > 30\n",
        "def get_blobs(matrix):\n",
        "    blobs = []\n",
        "    founds = []\n",
        "    for y in range(0, len(matrix)):\n",
        "        for x in range(0, len(matrix[0])):\n",
        "\n",
        "            # blob detection\n",
        "            found = []\n",
        "            blob_detection(matrix, x, y, found)\n",
        "\n",
        "            if (len(found) > 0):\n",
        "                sorted_by_x = sorted(found, key=lambda x: x[0])\n",
        "                sorted_by_y = sorted(found, key=lambda x: x[1])\n",
        "                x_min = sorted_by_x[0][0]\n",
        "                y_min = sorted_by_y[0][1]\n",
        "                x_max = sorted_by_x[len(sorted_by_x) - 1][0]\n",
        "                y_max = sorted_by_y[len(sorted_by_y) - 1][1]\n",
        "\n",
        "                if (x_min - 1, x_max + 1, y_min - 1, y_max + 1) not in blobs and ((x_max - x_min) * (y_max - y_min)) > 1:\n",
        "                    blobs.append((x_min - 1, x_max + 1, y_min - 1, y_max + 1))\n",
        "                    founds.append(len(found))\n",
        "\n",
        "    return blobs\n",
        "\n",
        "# Returns the cutted blob\n",
        "def get_blob_contents(matrix, blob_coordinates):\n",
        "    matrices = []\n",
        "    for c in blob_coordinates:\n",
        "        matrices.append(matrix[c[2]:c[3], c[0]:c[1]])\n",
        "    return matrices\n",
        "\n",
        "\n",
        "# Returns the coordinates of the rectangle containing the touch blob\n",
        "def get_plt_rect(blob_coordinates):\n",
        "    return Rectangle((blob_coordinates[2] - 0.5, blob_coordinates[0]  - 0.5),\n",
        "     (blob_coordinates[1] - blob_coordinates[0]) + 1, (blob_coordinates[3] - blob_coordinates[2]) + 1,\n",
        "                     fill=None, alpha=1, lw=2, color='lime')"
      ]
    },
    {
      "cell_type": "code",
      "execution_count": null,
      "metadata": {
        "colab": {
          "base_uri": "https://localhost:8080/"
        },
        "id": "TKRBjmH8VQ18",
        "outputId": "81170d3f-c2d4-4a6f-cbff-b615eaba64cc"
      },
      "outputs": [
        {
          "name": "stdout",
          "output_type": "stream",
          "text": [
            "CPU times: user 8min 5s, sys: 1.65 s, total: 8min 7s\n",
            "Wall time: 8min 13s\n"
          ]
        }
      ],
      "source": [
        "%%time\n",
        "df['BlobCoords'] = df.Matrix.apply(lambda x : get_blobs(x))\n",
        "df['BlobCount'] = df.BlobCoords.apply(lambda x : len(x))\n",
        "df['Blobs'] = [get_blob_contents(df.Matrix.iloc[i], df.BlobCoords.iloc[i]) for i in range(len(df))]\n",
        "\n",
        "# remove all empty images and images with more than one blob\n",
        "df = df[df.BlobCount == 1]"
      ]
    },
    {
      "cell_type": "code",
      "execution_count": null,
      "metadata": {
        "id": "0a4-Vg5n2Uri"
      },
      "outputs": [],
      "source": [
        "df.tail()"
      ]
    },
    {
      "cell_type": "code",
      "execution_count": null,
      "metadata": {
        "id": "mWfHz0Ssje2q"
      },
      "outputs": [],
      "source": [
        "df['Blobs'] = df['Blobs'].apply(lambda x: np.array(x))\n",
        "df['Blobs'] = df['Blobs'].apply(lambda x: np.squeeze(np.array(x)))"
      ]
    },
    {
      "cell_type": "code",
      "execution_count": null,
      "metadata": {
        "id": "aS7bxr84iNdx"
      },
      "outputs": [],
      "source": [
        "def delete_negative(blobs):\n",
        "    blobs = np.where(blobs < 0, 0, blobs)\n",
        "    return blobs\n",
        "df['Blobs']=df.Blobs.apply(lambda x: delete_negative(x))"
      ]
    },
    {
      "cell_type": "code",
      "execution_count": null,
      "metadata": {
        "id": "TwG8QVB-k-M7"
      },
      "outputs": [],
      "source": [
        "def generate_blob_img(blobs):\n",
        "\n",
        "    # Thêm padding vào blob để đạt kích thước 27x15, với giá trị padding là 0\n",
        "    return np.pad(blobs, ((0, 27 - blobs.shape[0]), (0, 15 - blobs.shape[1])), mode='constant', constant_values=0)\n",
        "\n",
        "\n",
        "df['BlobImage'] = df.Blobs.apply(lambda x : generate_blob_img(x))\n",
        "\n",
        "# Creating a flattened version of the blob image for basic ML approaches\n",
        "df['BlobImgFlattened'] = df.BlobImage.apply(lambda x : x.flatten())"
      ]
    },
    {
      "cell_type": "code",
      "execution_count": null,
      "metadata": {
        "id": "HIy2jiGmjfxK"
      },
      "outputs": [],
      "source": [
        "# Thống kê kích thước và số lượng tương ứng\n",
        "from collections import OrderedDict\n",
        "\n",
        "size_counts = {}\n",
        "\n",
        "for blob in df['Blobs']:\n",
        "    size = blob.shape  # Lấy kích thước của mảng\n",
        "    if size in size_counts:\n",
        "        size_counts[size] += 1\n",
        "    else:\n",
        "        size_counts[size] = 1\n",
        "\n",
        "size_counts\n",
        "\n",
        "sorted_size_counts = OrderedDict(sorted(size_counts.items(), key=lambda x: x[0]))\n",
        "\n",
        "sorted_size_counts"
      ]
    },
    {
      "cell_type": "code",
      "execution_count": null,
      "metadata": {
        "id": "IkeCgGWnshaB"
      },
      "outputs": [],
      "source": [
        "df = df[df['Blobs'].apply(lambda x: x.shape[0] < 10 and x.shape[1] < 10)]"
      ]
    },
    {
      "cell_type": "code",
      "execution_count": null,
      "metadata": {
        "id": "V6gT7sSmkhxH"
      },
      "outputs": [],
      "source": [
        "#Resize with OpenCV dùng bilinear interpolation\n",
        "import cv2\n",
        "import numpy as np\n",
        "\n",
        "def resize_blob_with_opencv(blob):\n",
        "    # Chuyển đổi blob thành mảng NumPy nếu chưa phải\n",
        "    blob_array = blob\n",
        "\n",
        "    blob_array = blob_array.astype(np.float64)\n",
        "\n",
        "    # Sử dụng cv2.resize để thay đổi kích thước mảng về 8x8 với bilinear interpolation\n",
        "    resized_blob = cv2.resize(blob_array, (8, 8), interpolation=cv2.INTER_LINEAR)\n",
        "\n",
        "    return resized_blob\n",
        "\n",
        "df['Resized_Blobs'] = df['Blobs'].apply(resize_blob_with_opencv)\n"
      ]
    },
    {
      "cell_type": "code",
      "execution_count": null,
      "metadata": {
        "id": "ikk3EQCIquwg"
      },
      "outputs": [],
      "source": [
        "df.head()"
      ]
    },
    {
      "cell_type": "markdown",
      "metadata": {
        "id": "aJ7joAvVuKqh"
      },
      "source": [
        "PROCESS WITH HOG"
      ]
    },
    {
      "cell_type": "code",
      "execution_count": null,
      "metadata": {
        "id": "03iVZCFe3Hzg"
      },
      "outputs": [],
      "source": [
        "\n",
        "# Khởi tạo HOGDescriptor\n",
        "hog = cv2.HOGDescriptor(_winSize=(27, 15),\n",
        "                        _blockSize=(15, 15),\n",
        "                        _blockStride=(1, 1),\n",
        "                        _cellSize=(5, 5),\n",
        "                        _nbins=9)\n",
        "\n",
        "def compute_hog(matrix_8x8):\n",
        "    # matrix_normalized = (matrix_8x8 - np.min(matrix_8x8)) / (np.max(matrix_8x8) - np.min(matrix_8x8))\n",
        "    matrix_8x8_uint8 = np.uint8(matrix_8x8)\n",
        "    # Tính toán HOG Descriptors\n",
        "    hog_descriptors = hog.compute(matrix_8x8_uint8)\n",
        "    return hog_descriptors\n",
        "\n",
        "# Tạo cột mới \"HOG\"\n",
        "df['HOG1'] = df['BlobImage'].apply(lambda x: compute_hog(x))"
      ]
    },
    {
      "cell_type": "code",
      "execution_count": null,
      "metadata": {
        "colab": {
          "base_uri": "https://localhost:8080/"
        },
        "id": "abn7WQj4P0cO",
        "outputId": "368a811a-9461-408f-92ea-7b7f772dd813"
      },
      "outputs": [
        {
          "data": {
            "text/plain": [
              "OrderedDict([((27, 15), 95563)])"
            ]
          },
          "execution_count": 50,
          "metadata": {},
          "output_type": "execute_result"
        }
      ],
      "source": [
        "# Thống kê kích thước và số lượng tương ứng\n",
        "from collections import OrderedDict\n",
        "\n",
        "size_counts = {}\n",
        "\n",
        "for blob in df['BlobImage']:\n",
        "    size = blob.shape  # Lấy kích thước của mảng\n",
        "    if size in size_counts:\n",
        "        size_counts[size] += 1\n",
        "    else:\n",
        "        size_counts[size] = 1\n",
        "\n",
        "size_counts\n",
        "\n",
        "sorted_size_counts = OrderedDict(sorted(size_counts.items(), key=lambda x: x[0]))\n",
        "\n",
        "sorted_size_counts"
      ]
    },
    {
      "cell_type": "code",
      "execution_count": null,
      "metadata": {
        "colab": {
          "base_uri": "https://localhost:8080/"
        },
        "id": "eR2yaEIhgMGl",
        "outputId": "b777e9f0-3a5e-4c75-c111-7c41bceb5bab"
      },
      "outputs": [
        {
          "name": "stdout",
          "output_type": "stream",
          "text": [
            "HOG_Vector 0: shape = (900,), dtype = float32\n",
            "HOG_Vector 1: shape = (900,), dtype = float32\n",
            "HOG_Vector 2: shape = (900,), dtype = float32\n",
            "HOG_Vector 3: shape = (900,), dtype = float32\n",
            "HOG_Vector 4: shape = (900,), dtype = float32\n",
            "Blob 0: shape = (12, 12), dtype = int64\n",
            "Blob 1: shape = (12, 12), dtype = int64\n",
            "Blob 2: shape = (12, 12), dtype = int64\n",
            "Blob 3: shape = (12, 12), dtype = int64\n",
            "Blob 4: shape = (12, 12), dtype = int64\n"
          ]
        }
      ],
      "source": [
        "# In ra kích thước và kiểu dữ liệu của 5 blobs đầu tiên\n",
        "for i, blob in enumerate(df['HOG'][:5]):\n",
        "    blob_array = np.array(blob)\n",
        "    print(f\"HOG_Vector {i}: shape = {blob_array.shape}, dtype = {blob_array.dtype}\")\n",
        "for i, blob in enumerate(df['BlobImage'][:5]):\n",
        "    blob_array = np.array(blob)\n",
        "    print(f\"Blob {i}: shape = {blob_array.shape}, dtype = {blob_array.dtype}\")"
      ]
    },
    {
      "cell_type": "code",
      "execution_count": null,
      "metadata": {
        "id": "w2ONSusiKLYf"
      },
      "outputs": [],
      "source": [
        "df = df.drop('R-HOG', axis=1)\n",
        "df = df.drop('C-HOG', axis=1)\n",
        "df = df.drop('CompressHOG', axis=1)"
      ]
    },
    {
      "cell_type": "code",
      "execution_count": null,
      "metadata": {
        "id": "rih665Xx1zQl"
      },
      "outputs": [],
      "source": [
        "df = df.drop('HOG', axis=1)"
      ]
    },
    {
      "cell_type": "code",
      "execution_count": null,
      "metadata": {
        "id": "Zb1CaTc9nT4O"
      },
      "outputs": [],
      "source": [
        "df = df.drop('HOG_new', axis=1)"
      ]
    },
    {
      "cell_type": "code",
      "execution_count": null,
      "metadata": {
        "id": "2Xr7YOvxDA_Q"
      },
      "outputs": [],
      "source": [
        "def blob_normalized(blobs):\n",
        "    blob_scale = (blobs - np.min(blobs))/(np.max(blobs)-np.min(blobs))\n",
        "    return blob_scale\n",
        "\n",
        "df['Blob_Scale'] = df['BlobImage'].apply(lambda x : blob_normalized(x))"
      ]
    },
    {
      "cell_type": "code",
      "execution_count": null,
      "metadata": {
        "colab": {
          "base_uri": "https://localhost:8080/"
        },
        "id": "-zdxOqVBJrpG",
        "outputId": "a26b574d-2503-4029-f2f0-a713e2925419"
      },
      "outputs": [
        {
          "data": {
            "text/plain": [
              "255"
            ]
          },
          "execution_count": 119,
          "metadata": {},
          "output_type": "execute_result"
        }
      ],
      "source": [
        "# Tìm giá trị nhỏ nhất trong tất cả các ma trận trong cột 'BlobImage'\n",
        "min_value = df['Scaled_Blobs'].apply(lambda x: x.max()).max()\n",
        "min_value"
      ]
    },
    {
      "cell_type": "code",
      "execution_count": null,
      "metadata": {
        "colab": {
          "base_uri": "https://localhost:8080/"
        },
        "id": "-lIoY3S4KclY",
        "outputId": "c07242b2-89cf-4d2c-84c9-b9d6ff1be162"
      },
      "outputs": [
        {
          "data": {
            "text/plain": [
              "False"
            ]
          },
          "execution_count": 9,
          "metadata": {},
          "output_type": "execute_result"
        }
      ],
      "source": [
        "has_negative_values = any(cell[cell < 0].any() for cell in df['Blobs'])\n",
        "\n",
        "has_negative_values"
      ]
    },
    {
      "cell_type": "code",
      "execution_count": null,
      "metadata": {
        "id": "cURNzvJAw-UH"
      },
      "outputs": [],
      "source": [
        "df['BlobImage'].iloc[0]"
      ]
    },
    {
      "cell_type": "code",
      "execution_count": null,
      "metadata": {
        "id": "V6YcGQXaDy-8"
      },
      "outputs": [],
      "source": [
        "plt.imshow(df['BlobImage'].iloc[0], cmap='gray')"
      ]
    },
    {
      "cell_type": "code",
      "execution_count": null,
      "metadata": {
        "id": "xtcd12MkTm0W"
      },
      "outputs": [],
      "source": [
        "# Define the size factor for scaling up\n",
        "scale_factor = 5\n",
        "\n",
        "# Create an empty image array based on the provided data\n",
        "data = df.Blobs.iloc[0]\n",
        "# Create a PIL image from the numpy array\n",
        "image = Image.fromarray(data.astype(np.uint8), 'L')\n",
        "\n",
        "# Upscale the image by a factor of 5 using the Lanczos resampling algorithm\n",
        "upscaled_image = image.resize((image.size[0]*scale_factor, image.size[1]*scale_factor), Image.LANCZOS)\n",
        "\n",
        "# Convert the upscaled PIL image to a numpy array for plotting\n",
        "upscaled_image_array = np.array(upscaled_image)\n",
        "\n",
        "\n",
        "\n",
        "# Plot the upscaled image\n",
        "plt.imshow(upscaled_image_array, cmap='gray', aspect='equal')\n",
        "plt.colorbar()\n",
        "plt.axis('off')  # No axis for an upscaled image\n",
        "plt.show()\n",
        "\n"
      ]
    },
    {
      "cell_type": "code",
      "execution_count": null,
      "metadata": {
        "id": "gGAXK_3sMzHA"
      },
      "outputs": [],
      "source": [
        "# Define the size factor for scaling up\n",
        "scale_factor = 5\n",
        "def upscale_image(blob, scale_factor):\n",
        "    # Create a PIL image from the numpy array\n",
        "    image = Image.fromarray(blob.astype(np.uint8), 'L')\n",
        "\n",
        "    # Upscale the image using the Lanczos resampling algorithm\n",
        "    upscaled_image = image.resize(\n",
        "        (image.size[0] * scale_factor, image.size[1] * scale_factor), Image.LANCZOS\n",
        "    )\n",
        "\n",
        "    # Convert the upscaled PIL image to a numpy array for further use\n",
        "    return np.array(upscaled_image)\n",
        "\n",
        "# Now apply this function to each item in the 'Blobs' column\n",
        "df['Scaled_Blobs'] = df['Blobs'].apply(lambda x: upscale_image(x, scale_factor))"
      ]
    },
    {
      "cell_type": "code",
      "execution_count": null,
      "metadata": {
        "id": "txOcezAZh2fy"
      },
      "outputs": [],
      "source": [
        "df.Blobs.iloc[0]"
      ]
    },
    {
      "cell_type": "code",
      "execution_count": null,
      "metadata": {
        "id": "UB9cHLHEc147"
      },
      "outputs": [],
      "source": [
        "upscaled_image_array"
      ]
    },
    {
      "cell_type": "code",
      "execution_count": null,
      "metadata": {
        "id": "By_3IkjTTIlf"
      },
      "outputs": [],
      "source": [
        "df.iloc[2000]"
      ]
    },
    {
      "cell_type": "markdown",
      "metadata": {
        "id": "agIeAPvyn0nE"
      },
      "source": [
        "VÍ DỤ"
      ]
    },
    {
      "cell_type": "code",
      "execution_count": null,
      "metadata": {
        "id": "SfydpmsHn0Pe"
      },
      "outputs": [],
      "source": [
        "img = df.Scaled_Blobs.iloc[0]"
      ]
    },
    {
      "cell_type": "code",
      "execution_count": null,
      "metadata": {
        "colab": {
          "base_uri": "https://localhost:8080/",
          "height": 557
        },
        "id": "Rv-zoI-OrzTU",
        "outputId": "9d34fb47-f286-4d1e-f39c-231f1c4a95ae"
      },
      "outputs": [
        {
          "data": {
            "text/html": [
              "<style>\n",
              "      .ndarray_repr .ndarray_raw_data {\n",
              "        display: none;\n",
              "      }\n",
              "      .ndarray_repr.show_array .ndarray_raw_data {\n",
              "        display: block;\n",
              "      }\n",
              "      .ndarray_repr.show_array .ndarray_image_preview {\n",
              "        display: none;\n",
              "      }\n",
              "      </style>\n",
              "      <div id=\"id-27149364-3697-4b6a-8209-380755656daa\" class=\"ndarray_repr\"><pre>ndarray (15, 20) <button style=\"padding: 0 2px;\">show data</button></pre><img src=\"data:image/png;base64,iVBORw0KGgoAAAANSUhEUgAAABQAAAAPCAAAAADB87CJAAAAkElEQVR4nGXOS1LDUBBD0Su9NskSMsheKdhrhiwg2K+VgQ2Bioan1B9Z1rCHkszZTYcChOwh0tvcmk4BSK7lBlxWbSGy7KrldOPIaW1nL/4adzBIcvGMMQJeEAD9wZKBpBvgc8dlsUS6J8B83/HNImSuAB/3o6kSUp2/njuv3wWEffzIGAY4Dv28NCwI+Yd+AKygNrLoeJ8UAAAAAElFTkSuQmCC\" class=\"ndarray_image_preview\" /><pre class=\"ndarray_raw_data\">array([[  2,   3,   5,   6,   9,  11,  13,  16,  17,  16,  15,  14,  11,\n",
              "          8,   6,   4,   4,   2,   1,   1],\n",
              "       [  2,   3,   5,   7,   9,  12,  15,  18,  21,  22,  22,  21,  19,\n",
              "         15,  12,   8,   6,   4,   2,   1],\n",
              "       [  2,   3,   5,   7,  10,  13,  17,  22,  27,   0,   0,   0,   0,\n",
              "         24,  19,  13,   9,   5,   2,   0],\n",
              "       [  2,   3,   5,   7,  11,  15,  20,  27,   0,   0,   0,   0,   0,\n",
              "          0,   0,   0,   0,   7,   2,   0],\n",
              "       [  1,   3,   5,   8,  12,  17,  24,   0,   0,   0,   0,   0,   0,\n",
              "          0,   0,   0,   0,   0,   2,   0],\n",
              "       [  1,   3,   6,   9,  13,  19,  28,   0,   0,   0,   0,   0,   0,\n",
              "          0,   0,   0,   0,   0,   4,   0],\n",
              "       [  1,   4,   6,   9,  13,  21,  32,   0,   0,   0,   0,   0,   0,\n",
              "          0,   0,   0,   0,   0,   6,   0],\n",
              "       [  1,   4,   6,   9,  13,  21,  33,   0,   0,   0,   0,   0,   0,\n",
              "          0,   0,   0,   0,   0,  10,   1],\n",
              "       [  1,   4,   6,   8,  12,  19,  31,   0,   0,   0,   0, 130,   0,\n",
              "          0,   0,   0,   0,   0,  15,   6],\n",
              "       [  2,   5,   6,   7,  10,  17,  28,   0,   0,   0,   0, 127, 127,\n",
              "          0,   0,   0,   0,   0,  20,  12],\n",
              "       [  3,   5,   5,   7,   9,  14,  23,   0,   0,   0,   0,   0, 120,\n",
              "          0,   0,   0,   0,   0,  25,  17],\n",
              "       [  4,   5,   5,   6,   7,  11,  19,   0,   0,   0,   0,   0,   0,\n",
              "          0,   0,   0,   0,   0,  28,  22],\n",
              "       [  4,   5,   5,   5,   6,   9,  16,   0,   0,   0,   0,   0,   0,\n",
              "          0,   0,   0,   0,   0,  31,  25],\n",
              "       [  4,   5,   5,   5,   5,   7,  14,   0,   0,   0,   0,   0,   0,\n",
              "          0,   0,   0,   0,   0,  33,  28],\n",
              "       [  5,   5,   5,   4,   5,   6,  12,   0,   0,   0,   0,   0,   0,\n",
              "          0,   0,   0,   0,   0,  35,  30]], dtype=uint8)</pre></div><script>\n",
              "      (() => {\n",
              "      const titles = ['show data', 'hide data'];\n",
              "      let index = 0\n",
              "      document.querySelector('#id-27149364-3697-4b6a-8209-380755656daa button').onclick = (e) => {\n",
              "        document.querySelector('#id-27149364-3697-4b6a-8209-380755656daa').classList.toggle('show_array');\n",
              "        index = (++index) % 2;\n",
              "        document.querySelector('#id-27149364-3697-4b6a-8209-380755656daa button').textContent = titles[index];\n",
              "        e.preventDefault();\n",
              "        e.stopPropagation();\n",
              "      }\n",
              "      })();\n",
              "    </script>"
            ],
            "text/plain": [
              "array([[  2,   3,   5,   6,   9,  11,  13,  16,  17,  16,  15,  14,  11,\n",
              "          8,   6,   4,   4,   2,   1,   1],\n",
              "       [  2,   3,   5,   7,   9,  12,  15,  18,  21,  22,  22,  21,  19,\n",
              "         15,  12,   8,   6,   4,   2,   1],\n",
              "       [  2,   3,   5,   7,  10,  13,  17,  22,  27,   0,   0,   0,   0,\n",
              "         24,  19,  13,   9,   5,   2,   0],\n",
              "       [  2,   3,   5,   7,  11,  15,  20,  27,   0,   0,   0,   0,   0,\n",
              "          0,   0,   0,   0,   7,   2,   0],\n",
              "       [  1,   3,   5,   8,  12,  17,  24,   0,   0,   0,   0,   0,   0,\n",
              "          0,   0,   0,   0,   0,   2,   0],\n",
              "       [  1,   3,   6,   9,  13,  19,  28,   0,   0,   0,   0,   0,   0,\n",
              "          0,   0,   0,   0,   0,   4,   0],\n",
              "       [  1,   4,   6,   9,  13,  21,  32,   0,   0,   0,   0,   0,   0,\n",
              "          0,   0,   0,   0,   0,   6,   0],\n",
              "       [  1,   4,   6,   9,  13,  21,  33,   0,   0,   0,   0,   0,   0,\n",
              "          0,   0,   0,   0,   0,  10,   1],\n",
              "       [  1,   4,   6,   8,  12,  19,  31,   0,   0,   0,   0, 130,   0,\n",
              "          0,   0,   0,   0,   0,  15,   6],\n",
              "       [  2,   5,   6,   7,  10,  17,  28,   0,   0,   0,   0, 127, 127,\n",
              "          0,   0,   0,   0,   0,  20,  12],\n",
              "       [  3,   5,   5,   7,   9,  14,  23,   0,   0,   0,   0,   0, 120,\n",
              "          0,   0,   0,   0,   0,  25,  17],\n",
              "       [  4,   5,   5,   6,   7,  11,  19,   0,   0,   0,   0,   0,   0,\n",
              "          0,   0,   0,   0,   0,  28,  22],\n",
              "       [  4,   5,   5,   5,   6,   9,  16,   0,   0,   0,   0,   0,   0,\n",
              "          0,   0,   0,   0,   0,  31,  25],\n",
              "       [  4,   5,   5,   5,   5,   7,  14,   0,   0,   0,   0,   0,   0,\n",
              "          0,   0,   0,   0,   0,  33,  28],\n",
              "       [  5,   5,   5,   4,   5,   6,  12,   0,   0,   0,   0,   0,   0,\n",
              "          0,   0,   0,   0,   0,  35,  30]], dtype=uint8)"
            ]
          },
          "execution_count": 154,
          "metadata": {},
          "output_type": "execute_result"
        }
      ],
      "source": [
        "df.Scaled_Blobs.iloc[0]\n",
        "# df.Blobs.iloc[0]"
      ]
    },
    {
      "cell_type": "markdown",
      "metadata": {
        "id": "SRj9WCNxmxLK"
      },
      "source": [
        "Otsu Binarization"
      ]
    },
    {
      "cell_type": "code",
      "execution_count": null,
      "metadata": {
        "colab": {
          "base_uri": "https://localhost:8080/"
        },
        "id": "AQlPBsPQSp92",
        "outputId": "956a2406-de83-4dca-f9af-51930e62702c"
      },
      "outputs": [
        {
          "name": "stdout",
          "output_type": "stream",
          "text": [
            "0 8\n",
            "{'m00': 108.5, 'm10': 1502.1666666666665, 'm01': 1389.1666666666665, 'm20': 21697.75, 'm11': 19299.708333333332, 'm02': 18791.75, 'm30': 325433.05000000005, 'm21': 279327.01666666666, 'm12': 261753.35, 'm03': 266721.55, 'mu20': 900.4717101894566, 'mu11': 66.898553507428, 'mu02': 1005.7220942140339, 'mu30': 97.06874366343254, 'mu21': -329.9104846772516, 'mu12': -128.7416082469772, 'mu03': 370.3617349494016, 'nu20': 0.07649104548318772, 'nu11': 0.005682732995597953, 'nu02': 0.08543159499790048, 'nu30': 0.0007915986834448972, 'nu21': -0.002690430466790542, 'nu12': -0.0010498918987377163, 'nu03': 0.003020311695810681}\n"
          ]
        }
      ],
      "source": [
        "\n",
        "# Áp dụng ngưỡng để chuyển đổi ảnh sang ảnh nhị phân\n",
        "# Áp dụng Otsu's binarization\n",
        "ret, thresh = cv.threshold(img, 0, 255, cv.THRESH_BINARY + cv.THRESH_OTSU)\n",
        "print(cv.THRESH_BINARY, cv.THRESH_OTSU)\n",
        "# Tìm các đường viền\n",
        "contours, hierarchy = cv.findContours(thresh, cv.RETR_TREE, cv.CHAIN_APPROX_SIMPLE)\n",
        "\n",
        "# Chọn đường viền đầu tiên và tính các moment\n",
        "cnt = contours[0]\n",
        "M = cv.moments(cnt)\n",
        "print(M)\n"
      ]
    },
    {
      "cell_type": "markdown",
      "metadata": {
        "id": "m0zU3TINmuRT"
      },
      "source": [
        "Adaptive Threshold"
      ]
    },
    {
      "cell_type": "code",
      "execution_count": null,
      "metadata": {
        "id": "8bu4y_RKkcdA"
      },
      "outputs": [],
      "source": [
        "thresh = cv2.adaptiveThreshold(img, 255, cv2.ADAPTIVE_THRESH_MEAN_C, cv2.THRESH_BINARY, 11, 2)"
      ]
    },
    {
      "cell_type": "code",
      "execution_count": null,
      "metadata": {
        "id": "Tos7ieSqnGUH"
      },
      "outputs": [],
      "source": [
        "# Tạo một màu khác, ví dụ: màu đỏ (BGR)\n",
        "color = (0, 0, 255)  # BGR color for red\n",
        "\n",
        "# Tìm contour trong ảnh nhị phân\n",
        "contours, _ = cv2.findContours(thresh, cv2.RETR_EXTERNAL, cv2.CHAIN_APPROX_SIMPLE)\n",
        "\n",
        "# Chọn contour lớn nhất\n",
        "largest_contour = max(contours, key=cv2.contourArea)\n",
        "\n",
        "# Tìm elip bao xung quanh contour lớn nhất\n",
        "ellipse = cv2.fitEllipse(largest_contour)\n",
        "\n",
        "# Sao chép ảnh gốc để vẽ elip lên đó\n",
        "img_with_ellipse = cv2.cvtColor(img, cv2.COLOR_GRAY2BGR)  # Convert to BGR for color image\n",
        "\n",
        "# Vẽ elip lên ảnh gốc với màu đã chọn\n",
        "cv2.ellipse(img_with_ellipse, ellipse, color, 2)"
      ]
    },
    {
      "cell_type": "code",
      "execution_count": null,
      "metadata": {
        "colab": {
          "base_uri": "https://localhost:8080/"
        },
        "id": "c-HsSCBDnelc",
        "outputId": "cb23ac29-3187-4f84-c38b-c60be8b5022b"
      },
      "outputs": [
        {
          "name": "stdout",
          "output_type": "stream",
          "text": [
            "Độ dài trục lớn của elip: 18.344289779663086\n",
            "Độ dài trục nhỏ của elip: 20.378353118896484\n",
            "Góc xoay của elip (theta): 60.531524658203125\n"
          ]
        }
      ],
      "source": [
        "# Lấy thông tin của elip từ contour lớn nhất\n",
        "major_axis, minor_axis = ellipse[1]\n",
        "angle = ellipse[2]\n",
        "\n",
        "# In ra thông tin\n",
        "print(\"Độ dài trục lớn của elip:\", major_axis)\n",
        "print(\"Độ dài trục nhỏ của elip:\", minor_axis)\n",
        "print(\"Góc xoay của elip (theta):\", angle)"
      ]
    },
    {
      "cell_type": "code",
      "execution_count": null,
      "metadata": {
        "colab": {
          "base_uri": "https://localhost:8080/",
          "height": 268
        },
        "id": "3xR7lt08lOYq",
        "outputId": "a3fd2dbd-72a6-4e34-f4a9-bd9ddaf7ca30"
      },
      "outputs": [
        {
          "data": {
            "image/png": "[encoded data removed]",
            "text/plain": [
              "<Figure size 1500x500 with 3 Axes>"
            ]
          },
          "metadata": {},
          "output_type": "display_data"
        }
      ],
      "source": [
        "import matplotlib.pyplot as plt\n",
        "\n",
        "# Đặt kích thước của hình ảnh được hiển thị\n",
        "plt.figure(figsize=(15, 5))\n",
        "\n",
        "# Hiển thị ảnh gốc\n",
        "plt.subplot(1, 3, 1)\n",
        "plt.imshow(img, cmap='gray')\n",
        "plt.title('Original Image')\n",
        "plt.axis('off')\n",
        "\n",
        "# Hiển thị ảnh nhị phân\n",
        "plt.subplot(1, 3, 2)\n",
        "plt.imshow(thresh, cmap='gray')\n",
        "plt.title('Binary Image')\n",
        "plt.axis('off')\n",
        "\n",
        "# Hiển thị ảnh gốc với elip bao xung quanh\n",
        "plt.subplot(1, 3, 3)\n",
        "plt.imshow(img_with_ellipse)\n",
        "plt.axis('off')\n",
        "plt.title('Image with Ellipse')\n",
        "plt.show()\n",
        "\n",
        "\n",
        "plt.show()\n"
      ]
    },
    {
      "cell_type": "code",
      "execution_count": null,
      "metadata": {
        "colab": {
          "base_uri": "https://localhost:8080/"
        },
        "id": "nb0QE8d4mT_l",
        "outputId": "fb93810c-c83e-470d-f575-49e0e3da2178"
      },
      "outputs": [
        {
          "name": "stdout",
          "output_type": "stream",
          "text": [
            "0\n"
          ]
        }
      ],
      "source": [
        "# Hàm để kiểm tra xem có thể tìm contour và fit elip được không\n",
        "def check_contour_and_ellipse(img):\n",
        "    # Áp dụng adaptive thresholding\n",
        "    thresh = cv2.adaptiveThreshold(img, 255, cv2.ADAPTIVE_THRESH_MEAN_C, cv2.THRESH_BINARY, 11, 2)\n",
        "\n",
        "    # Tìm contour trong ảnh nhị phân\n",
        "    contours, _ = cv2.findContours(thresh, cv2.RETR_EXTERNAL, cv2.CHAIN_APPROX_SIMPLE)\n",
        "\n",
        "    # Nếu không tìm thấy contour hoặc không đủ điểm để fit elip\n",
        "    if len(contours) == 0 or cv2.contourArea(max(contours, key=cv2.contourArea)) < 5:\n",
        "        return False\n",
        "    else:\n",
        "        return True\n",
        "count = 0\n",
        "# Duyệt qua toàn bộ DataFrame\n",
        "for img_array in df['Scaled_Blobs']:\n",
        "    # Kiểm tra contour và elip cho mỗi mảng numpy trong cột 'Scaled_Blobs'\n",
        "    if check_contour_and_ellipse(img_array):\n",
        "        continue\n",
        "    else:\n",
        "        count = count + 1\n",
        "print(count)"
      ]
    },
    {
      "cell_type": "code",
      "execution_count": null,
      "metadata": {
        "colab": {
          "base_uri": "https://localhost:8080/"
        },
        "id": "1fTyEfyTsTLP",
        "outputId": "e400ead7-fae0-4d83-d183-89c1fe012c80"
      },
      "outputs": [
        {
          "data": {
            "text/plain": [
              "11.165919303894043"
            ]
          },
          "execution_count": 161,
          "metadata": {},
          "output_type": "execute_result"
        }
      ],
      "source": [
        "df.Angle.iloc[0]"
      ]
    },
    {
      "cell_type": "code",
      "execution_count": null,
      "metadata": {
        "id": "Ke63k8rAsLnF"
      },
      "outputs": [],
      "source": [
        "df.iloc[0]"
      ]
    },
    {
      "cell_type": "code",
      "execution_count": null,
      "metadata": {
        "id": "6wB5YRdkW440"
      },
      "outputs": [],
      "source": [
        "# Tìm đường viền lớn nhất dựa trên diện tích\n",
        "largest_contour = max(contours, key=cv.contourArea)\n",
        "\n",
        "# Đơn giản hóa đường viền để loại bỏ các chi tiết không cần thiết\n",
        "epsilon = 0.01 * cv.arcLength(largest_contour, True)\n",
        "approx = cv.approxPolyDP(largest_contour, epsilon, True)\n",
        "\n",
        "    # Kiểm tra đường viền sau khi đơn giản có đủ điểm để khớp elip không\n",
        "if len(approx) >= 5:\n",
        "    ellipse = cv.fitEllipse(approx)\n",
        "    img_color = cv.cvtColor(img, cv.COLOR_GRAY2BGR)\n",
        "    cv.ellipse(img_color, ellipse, (0, 268, 0), 2)\n",
        "\n",
        "        # Hiển thị hình ảnh\n",
        "    plt.imshow(cv.cvtColor(img_color, cv.COLOR_BGR2RGB))\n",
        "    plt.axis('off')\n",
        "    plt.show()\n",
        "else:\n",
        "    print(\"Không đủ điểm để khớp elip.\")\n",
        "    # Hiển thị ảnh gốc\n",
        "    plt.imshow(img, cmap='gray')\n",
        "    plt.show()"
      ]
    },
    {
      "cell_type": "code",
      "execution_count": null,
      "metadata": {
        "colab": {
          "background_save": true
        },
        "id": "ZlIzcU-do-qb",
        "outputId": "f445660c-49f1-4970-a2b9-9133f0b3b215"
      },
      "outputs": [
        {
          "data": {
            "application/vnd.google.colaboratory.intrinsic+json": {
              "type": "dataframe",
              "variable_name": "df"
            },
            "text/html": [
              "\n",
              "  <div id=\"df-f99cdcf2-80e4-4d90-befd-84ac88a4ea8f\" class=\"colab-df-container\">\n",
              "    <div>\n",
              "<style scoped>\n",
              "    .dataframe tbody tr th:only-of-type {\n",
              "        vertical-align: middle;\n",
              "    }\n",
              "\n",
              "    .dataframe tbody tr th {\n",
              "        vertical-align: top;\n",
              "    }\n",
              "\n",
              "    .dataframe thead th {\n",
              "        text-align: right;\n",
              "    }\n",
              "</style>\n",
              "<table border=\"1\" class=\"dataframe\">\n",
              "  <thead>\n",
              "    <tr style=\"text-align: right;\">\n",
              "      <th></th>\n",
              "      <th>Participant</th>\n",
              "      <th>Handedness</th>\n",
              "      <th>Finger</th>\n",
              "      <th>Task</th>\n",
              "      <th>Matrix</th>\n",
              "      <th>Timestamp</th>\n",
              "      <th>BlobCoords</th>\n",
              "      <th>BlobCount</th>\n",
              "      <th>Blobs</th>\n",
              "      <th>BlobImage</th>\n",
              "      <th>BlobImgFlattened</th>\n",
              "      <th>Scaled_Blobs</th>\n",
              "      <th>Major_Axis</th>\n",
              "      <th>Minor_Axis</th>\n",
              "      <th>Area</th>\n",
              "      <th>Angle</th>\n",
              "    </tr>\n",
              "  </thead>\n",
              "  <tbody>\n",
              "    <tr>\n",
              "      <th>26</th>\n",
              "      <td>7</td>\n",
              "      <td>right</td>\n",
              "      <td>index</td>\n",
              "      <td>SCROLL</td>\n",
              "      <td>[[0, -1, 0, -3, 0, 0, 2, 1, 0, 1, -2, 2, 0, 1,...</td>\n",
              "      <td>1509965139675</td>\n",
              "      <td>[(9, 13, 11, 16)]</td>\n",
              "      <td>1</td>\n",
              "      <td>[[4, 9, 13, 5], [5, 31, 57, 15], [13, 120, 220...</td>\n",
              "      <td>[[4, 9, 13, 5, 0, 0, 0, 0, 0, 0, 0, 0, 0, 0, 0...</td>\n",
              "      <td>[4, 9, 13, 5, 0, 0, 0, 0, 0, 0, 0, 0, 0, 0, 0,...</td>\n",
              "      <td>[[3, 4, 4, 5, 5, 6, 7, 9, 11, 11, 12, 13, 12, ...</td>\n",
              "      <td>9.804294</td>\n",
              "      <td>14.024021</td>\n",
              "      <td>107.988808</td>\n",
              "      <td>42.690639</td>\n",
              "    </tr>\n",
              "    <tr>\n",
              "      <th>27</th>\n",
              "      <td>7</td>\n",
              "      <td>right</td>\n",
              "      <td>index</td>\n",
              "      <td>SCROLL</td>\n",
              "      <td>[[0, -1, 0, -3, 0, 0, 2, 1, 0, 1, -2, 2, 0, 1,...</td>\n",
              "      <td>1509965139675</td>\n",
              "      <td>[(9, 13, 11, 16)]</td>\n",
              "      <td>1</td>\n",
              "      <td>[[4, 9, 13, 5], [5, 31, 57, 15], [13, 120, 220...</td>\n",
              "      <td>[[4, 9, 13, 5, 0, 0, 0, 0, 0, 0, 0, 0, 0, 0, 0...</td>\n",
              "      <td>[4, 9, 13, 5, 0, 0, 0, 0, 0, 0, 0, 0, 0, 0, 0,...</td>\n",
              "      <td>[[3, 4, 4, 5, 5, 6, 7, 9, 11, 11, 12, 13, 12, ...</td>\n",
              "      <td>10.345570</td>\n",
              "      <td>12.890965</td>\n",
              "      <td>104.744140</td>\n",
              "      <td>47.160843</td>\n",
              "    </tr>\n",
              "    <tr>\n",
              "      <th>28</th>\n",
              "      <td>7</td>\n",
              "      <td>right</td>\n",
              "      <td>index</td>\n",
              "      <td>SCROLL</td>\n",
              "      <td>[[0, -1, 0, -3, 0, 0, 2, 1, 0, 1, -2, 2, 0, 1,...</td>\n",
              "      <td>1509965139745</td>\n",
              "      <td>[(8, 11, 11, 15)]</td>\n",
              "      <td>1</td>\n",
              "      <td>[[4, 14, 12], [14, 78, 83], [18, 124, 140], [9...</td>\n",
              "      <td>[[4, 14, 12, 0, 0, 0, 0, 0, 0, 0, 0, 0, 0, 0, ...</td>\n",
              "      <td>[4, 14, 12, 0, 0, 0, 0, 0, 0, 0, 0, 0, 0, 0, 0...</td>\n",
              "      <td>[[2, 2, 2, 3, 2, 4, 4, 4, 4, 2, 3, 2, 1, 0, 0]...</td>\n",
              "      <td>10.345570</td>\n",
              "      <td>12.890965</td>\n",
              "      <td>104.744140</td>\n",
              "      <td>47.160843</td>\n",
              "    </tr>\n",
              "    <tr>\n",
              "      <th>29</th>\n",
              "      <td>7</td>\n",
              "      <td>right</td>\n",
              "      <td>index</td>\n",
              "      <td>SCROLL</td>\n",
              "      <td>[[0, -1, 0, -3, 0, 0, 2, 1, 0, 1, -2, 2, 0, 1,...</td>\n",
              "      <td>1509965139817</td>\n",
              "      <td>[(6, 10, 10, 14)]</td>\n",
              "      <td>1</td>\n",
              "      <td>[[6, 8, 15, 9], [15, 46, 69, 13], [23, 151, 23...</td>\n",
              "      <td>[[6, 8, 15, 9, 0, 0, 0, 0, 0, 0, 0, 0, 0, 0, 0...</td>\n",
              "      <td>[6, 8, 15, 9, 0, 0, 0, 0, 0, 0, 0, 0, 0, 0, 0,...</td>\n",
              "      <td>[[5, 5, 5, 5, 4, 4, 5, 6, 7, 9, 11, 12, 13, 12...</td>\n",
              "      <td>9.906662</td>\n",
              "      <td>13.497671</td>\n",
              "      <td>105.020981</td>\n",
              "      <td>54.622498</td>\n",
              "    </tr>\n",
              "    <tr>\n",
              "      <th>30</th>\n",
              "      <td>7</td>\n",
              "      <td>right</td>\n",
              "      <td>index</td>\n",
              "      <td>SCROLL</td>\n",
              "      <td>[[0, -1, 0, -3, 0, 0, 2, 1, 0, 1, -2, 2, 0, 1,...</td>\n",
              "      <td>1509965139885</td>\n",
              "      <td>[(4, 8, 10, 14)]</td>\n",
              "      <td>1</td>\n",
              "      <td>[[5, 11, 23, 9], [9, 50, 155, 52], [13, 86, 23...</td>\n",
              "      <td>[[5, 11, 23, 9, 0, 0, 0, 0, 0, 0, 0, 0, 0, 0, ...</td>\n",
              "      <td>[5, 11, 23, 9, 0, 0, 0, 0, 0, 0, 0, 0, 0, 0, 0...</td>\n",
              "      <td>[[4, 5, 4, 4, 5, 6, 5, 5, 4, 4, 3, 2, 2, 2, 2,...</td>\n",
              "      <td>8.511100</td>\n",
              "      <td>14.011619</td>\n",
              "      <td>93.662096</td>\n",
              "      <td>77.459496</td>\n",
              "    </tr>\n",
              "  </tbody>\n",
              "</table>\n",
              "</div>\n",
              "    <div class=\"colab-df-buttons\">\n",
              "\n",
              "  <div class=\"colab-df-container\">\n",
              "    <button class=\"colab-df-convert\" onclick=\"convertToInteractive('df-f99cdcf2-80e4-4d90-befd-84ac88a4ea8f')\"\n",
              "            title=\"Convert this dataframe to an interactive table.\"\n",
              "            style=\"display:none;\">\n",
              "\n",
              "  <svg xmlns=\"http://www.w3.org/2000/svg\" height=\"24px\" viewBox=\"0 -960 960 960\">\n",
              "    <path d=\"M120-120v-720h720v720H120Zm60-500h600v-160H180v160Zm220 220h160v-160H400v160Zm0 220h160v-160H400v160ZM180-400h160v-160H180v160Zm440 0h160v-160H620v160ZM180-180h160v-160H180v160Zm440 0h160v-160H620v160Z\"/>\n",
              "  </svg>\n",
              "    </button>\n",
              "\n",
              "  <style>\n",
              "    .colab-df-container {\n",
              "      display:flex;\n",
              "      gap: 12px;\n",
              "    }\n",
              "\n",
              "    .colab-df-convert {\n",
              "      background-color: #E8F0FE;\n",
              "      border: none;\n",
              "      border-radius: 50%;\n",
              "      cursor: pointer;\n",
              "      display: none;\n",
              "      fill: #1967D2;\n",
              "      height: 32px;\n",
              "      padding: 0 0 0 0;\n",
              "      width: 32px;\n",
              "    }\n",
              "\n",
              "    .colab-df-convert:hover {\n",
              "      background-color: #E2EBFA;\n",
              "      box-shadow: 0px 1px 2px rgba(60, 64, 67, 0.3), 0px 1px 3px 1px rgba(60, 64, 67, 0.15);\n",
              "      fill: #174EA6;\n",
              "    }\n",
              "\n",
              "    .colab-df-buttons div {\n",
              "      margin-bottom: 4px;\n",
              "    }\n",
              "\n",
              "    [theme=dark] .colab-df-convert {\n",
              "      background-color: #3B4455;\n",
              "      fill: #D2E3FC;\n",
              "    }\n",
              "\n",
              "    [theme=dark] .colab-df-convert:hover {\n",
              "      background-color: #434B5C;\n",
              "      box-shadow: 0px 1px 3px 1px rgba(0, 0, 0, 0.15);\n",
              "      filter: drop-shadow(0px 1px 2px rgba(0, 0, 0, 0.3));\n",
              "      fill: #FFFFFF;\n",
              "    }\n",
              "  </style>\n",
              "\n",
              "    <script>\n",
              "      const buttonEl =\n",
              "        document.querySelector('#df-f99cdcf2-80e4-4d90-befd-84ac88a4ea8f button.colab-df-convert');\n",
              "      buttonEl.style.display =\n",
              "        google.colab.kernel.accessAllowed ? 'block' : 'none';\n",
              "\n",
              "      async function convertToInteractive(key) {\n",
              "        const element = document.querySelector('#df-f99cdcf2-80e4-4d90-befd-84ac88a4ea8f');\n",
              "        const dataTable =\n",
              "          await google.colab.kernel.invokeFunction('convertToInteractive',\n",
              "                                                    [key], {});\n",
              "        if (!dataTable) return;\n",
              "\n",
              "        const docLinkHtml = 'Like what you see? Visit the ' +\n",
              "          '<a target=\"_blank\" href=https://colab.research.google.com/notebooks/data_table.ipynb>data table notebook</a>'\n",
              "          + ' to learn more about interactive tables.';\n",
              "        element.innerHTML = '';\n",
              "        dataTable['output_type'] = 'display_data';\n",
              "        await google.colab.output.renderOutput(dataTable, element);\n",
              "        const docLink = document.createElement('div');\n",
              "        docLink.innerHTML = docLinkHtml;\n",
              "        element.appendChild(docLink);\n",
              "      }\n",
              "    </script>\n",
              "  </div>\n",
              "\n",
              "\n",
              "<div id=\"df-ff37594c-4ed0-4f2b-95cd-ac8cabc13554\">\n",
              "  <button class=\"colab-df-quickchart\" onclick=\"quickchart('df-ff37594c-4ed0-4f2b-95cd-ac8cabc13554')\"\n",
              "            title=\"Suggest charts\"\n",
              "            style=\"display:none;\">\n",
              "\n",
              "<svg xmlns=\"http://www.w3.org/2000/svg\" height=\"24px\"viewBox=\"0 0 24 24\"\n",
              "     width=\"24px\">\n",
              "    <g>\n",
              "        <path d=\"M19 3H5c-1.1 0-2 .9-2 2v14c0 1.1.9 2 2 2h14c1.1 0 2-.9 2-2V5c0-1.1-.9-2-2-2zM9 17H7v-7h2v7zm4 0h-2V7h2v10zm4 0h-2v-4h2v4z\"/>\n",
              "    </g>\n",
              "</svg>\n",
              "  </button>\n",
              "\n",
              "<style>\n",
              "  .colab-df-quickchart {\n",
              "      --bg-color: #E8F0FE;\n",
              "      --fill-color: #1967D2;\n",
              "      --hover-bg-color: #E2EBFA;\n",
              "      --hover-fill-color: #174EA6;\n",
              "      --disabled-fill-color: #AAA;\n",
              "      --disabled-bg-color: #DDD;\n",
              "  }\n",
              "\n",
              "  [theme=dark] .colab-df-quickchart {\n",
              "      --bg-color: #3B4455;\n",
              "      --fill-color: #D2E3FC;\n",
              "      --hover-bg-color: #434B5C;\n",
              "      --hover-fill-color: #FFFFFF;\n",
              "      --disabled-bg-color: #3B4455;\n",
              "      --disabled-fill-color: #666;\n",
              "  }\n",
              "\n",
              "  .colab-df-quickchart {\n",
              "    background-color: var(--bg-color);\n",
              "    border: none;\n",
              "    border-radius: 50%;\n",
              "    cursor: pointer;\n",
              "    display: none;\n",
              "    fill: var(--fill-color);\n",
              "    height: 32px;\n",
              "    padding: 0;\n",
              "    width: 32px;\n",
              "  }\n",
              "\n",
              "  .colab-df-quickchart:hover {\n",
              "    background-color: var(--hover-bg-color);\n",
              "    box-shadow: 0 1px 2px rgba(60, 64, 67, 0.3), 0 1px 3px 1px rgba(60, 64, 67, 0.15);\n",
              "    fill: var(--button-hover-fill-color);\n",
              "  }\n",
              "\n",
              "  .colab-df-quickchart-complete:disabled,\n",
              "  .colab-df-quickchart-complete:disabled:hover {\n",
              "    background-color: var(--disabled-bg-color);\n",
              "    fill: var(--disabled-fill-color);\n",
              "    box-shadow: none;\n",
              "  }\n",
              "\n",
              "  .colab-df-spinner {\n",
              "    border: 2px solid var(--fill-color);\n",
              "    border-color: transparent;\n",
              "    border-bottom-color: var(--fill-color);\n",
              "    animation:\n",
              "      spin 1s steps(1) infinite;\n",
              "  }\n",
              "\n",
              "  @keyframes spin {\n",
              "    0% {\n",
              "      border-color: transparent;\n",
              "      border-bottom-color: var(--fill-color);\n",
              "      border-left-color: var(--fill-color);\n",
              "    }\n",
              "    20% {\n",
              "      border-color: transparent;\n",
              "      border-left-color: var(--fill-color);\n",
              "      border-top-color: var(--fill-color);\n",
              "    }\n",
              "    30% {\n",
              "      border-color: transparent;\n",
              "      border-left-color: var(--fill-color);\n",
              "      border-top-color: var(--fill-color);\n",
              "      border-right-color: var(--fill-color);\n",
              "    }\n",
              "    40% {\n",
              "      border-color: transparent;\n",
              "      border-right-color: var(--fill-color);\n",
              "      border-top-color: var(--fill-color);\n",
              "    }\n",
              "    60% {\n",
              "      border-color: transparent;\n",
              "      border-right-color: var(--fill-color);\n",
              "    }\n",
              "    80% {\n",
              "      border-color: transparent;\n",
              "      border-right-color: var(--fill-color);\n",
              "      border-bottom-color: var(--fill-color);\n",
              "    }\n",
              "    90% {\n",
              "      border-color: transparent;\n",
              "      border-bottom-color: var(--fill-color);\n",
              "    }\n",
              "  }\n",
              "</style>\n",
              "\n",
              "  <script>\n",
              "    async function quickchart(key) {\n",
              "      const quickchartButtonEl =\n",
              "        document.querySelector('#' + key + ' button');\n",
              "      quickchartButtonEl.disabled = true;  // To prevent multiple clicks.\n",
              "      quickchartButtonEl.classList.add('colab-df-spinner');\n",
              "      try {\n",
              "        const charts = await google.colab.kernel.invokeFunction(\n",
              "            'suggestCharts', [key], {});\n",
              "      } catch (error) {\n",
              "        console.error('Error during call to suggestCharts:', error);\n",
              "      }\n",
              "      quickchartButtonEl.classList.remove('colab-df-spinner');\n",
              "      quickchartButtonEl.classList.add('colab-df-quickchart-complete');\n",
              "    }\n",
              "    (() => {\n",
              "      let quickchartButtonEl =\n",
              "        document.querySelector('#df-ff37594c-4ed0-4f2b-95cd-ac8cabc13554 button');\n",
              "      quickchartButtonEl.style.display =\n",
              "        google.colab.kernel.accessAllowed ? 'block' : 'none';\n",
              "    })();\n",
              "  </script>\n",
              "</div>\n",
              "\n",
              "    </div>\n",
              "  </div>\n"
            ],
            "text/plain": [
              "    Participant Handedness Finger    Task  \\\n",
              "26            7      right  index  SCROLL   \n",
              "27            7      right  index  SCROLL   \n",
              "28            7      right  index  SCROLL   \n",
              "29            7      right  index  SCROLL   \n",
              "30            7      right  index  SCROLL   \n",
              "\n",
              "                                               Matrix      Timestamp  \\\n",
              "26  [[0, -1, 0, -3, 0, 0, 2, 1, 0, 1, -2, 2, 0, 1,...  1509965139675   \n",
              "27  [[0, -1, 0, -3, 0, 0, 2, 1, 0, 1, -2, 2, 0, 1,...  1509965139675   \n",
              "28  [[0, -1, 0, -3, 0, 0, 2, 1, 0, 1, -2, 2, 0, 1,...  1509965139745   \n",
              "29  [[0, -1, 0, -3, 0, 0, 2, 1, 0, 1, -2, 2, 0, 1,...  1509965139817   \n",
              "30  [[0, -1, 0, -3, 0, 0, 2, 1, 0, 1, -2, 2, 0, 1,...  1509965139885   \n",
              "\n",
              "           BlobCoords  BlobCount  \\\n",
              "26  [(9, 13, 11, 16)]          1   \n",
              "27  [(9, 13, 11, 16)]          1   \n",
              "28  [(8, 11, 11, 15)]          1   \n",
              "29  [(6, 10, 10, 14)]          1   \n",
              "30   [(4, 8, 10, 14)]          1   \n",
              "\n",
              "                                                Blobs  \\\n",
              "26  [[4, 9, 13, 5], [5, 31, 57, 15], [13, 120, 220...   \n",
              "27  [[4, 9, 13, 5], [5, 31, 57, 15], [13, 120, 220...   \n",
              "28  [[4, 14, 12], [14, 78, 83], [18, 124, 140], [9...   \n",
              "29  [[6, 8, 15, 9], [15, 46, 69, 13], [23, 151, 23...   \n",
              "30  [[5, 11, 23, 9], [9, 50, 155, 52], [13, 86, 23...   \n",
              "\n",
              "                                            BlobImage  \\\n",
              "26  [[4, 9, 13, 5, 0, 0, 0, 0, 0, 0, 0, 0, 0, 0, 0...   \n",
              "27  [[4, 9, 13, 5, 0, 0, 0, 0, 0, 0, 0, 0, 0, 0, 0...   \n",
              "28  [[4, 14, 12, 0, 0, 0, 0, 0, 0, 0, 0, 0, 0, 0, ...   \n",
              "29  [[6, 8, 15, 9, 0, 0, 0, 0, 0, 0, 0, 0, 0, 0, 0...   \n",
              "30  [[5, 11, 23, 9, 0, 0, 0, 0, 0, 0, 0, 0, 0, 0, ...   \n",
              "\n",
              "                                     BlobImgFlattened  \\\n",
              "26  [4, 9, 13, 5, 0, 0, 0, 0, 0, 0, 0, 0, 0, 0, 0,...   \n",
              "27  [4, 9, 13, 5, 0, 0, 0, 0, 0, 0, 0, 0, 0, 0, 0,...   \n",
              "28  [4, 14, 12, 0, 0, 0, 0, 0, 0, 0, 0, 0, 0, 0, 0...   \n",
              "29  [6, 8, 15, 9, 0, 0, 0, 0, 0, 0, 0, 0, 0, 0, 0,...   \n",
              "30  [5, 11, 23, 9, 0, 0, 0, 0, 0, 0, 0, 0, 0, 0, 0...   \n",
              "\n",
              "                                         Scaled_Blobs  Major_Axis  Minor_Axis  \\\n",
              "26  [[3, 4, 4, 5, 5, 6, 7, 9, 11, 11, 12, 13, 12, ...    9.804294   14.024021   \n",
              "27  [[3, 4, 4, 5, 5, 6, 7, 9, 11, 11, 12, 13, 12, ...   10.345570   12.890965   \n",
              "28  [[2, 2, 2, 3, 2, 4, 4, 4, 4, 2, 3, 2, 1, 0, 0]...   10.345570   12.890965   \n",
              "29  [[5, 5, 5, 5, 4, 4, 5, 6, 7, 9, 11, 12, 13, 12...    9.906662   13.497671   \n",
              "30  [[4, 5, 4, 4, 5, 6, 5, 5, 4, 4, 3, 2, 2, 2, 2,...    8.511100   14.011619   \n",
              "\n",
              "          Area      Angle  \n",
              "26  107.988808  42.690639  \n",
              "27  104.744140  47.160843  \n",
              "28  104.744140  47.160843  \n",
              "29  105.020981  54.622498  \n",
              "30   93.662096  77.459496  "
            ]
          },
          "execution_count": 13,
          "metadata": {},
          "output_type": "execute_result"
        }
      ],
      "source": [
        "# Hàm tính diện tích của elip\n",
        "def calculate_area(a, b):\n",
        "    return math.pi * a * b\n",
        "\n",
        "# Hàm để xác định các thông số của elip từ ảnh xám\n",
        "def find_ellipse_params(img):\n",
        "    # Áp dụng adaptive thresholding\n",
        "    thresh = cv2.adaptiveThreshold(img, 255, cv2.ADAPTIVE_THRESH_MEAN_C, cv2.THRESH_BINARY, 11, 2)\n",
        "\n",
        "    # Tìm contour trong ảnh nhị phân\n",
        "    contours, _ = cv2.findContours(thresh, cv2.RETR_EXTERNAL, cv2.CHAIN_APPROX_SIMPLE)\n",
        "\n",
        "    # Nếu tìm thấy contour\n",
        "    if len(contours) > 0:\n",
        "        # Tìm elip bao xung quanh contour\n",
        "        ellipse = cv2.fitEllipse(max(contours, key=cv2.contourArea))\n",
        "        # Trả về các thông số của elip\n",
        "        major_axis = ellipse[1][0]\n",
        "        minor_axis = ellipse[1][1]\n",
        "        area = calculate_area(major_axis / 2, minor_axis / 2)\n",
        "        angle = ellipse[2]\n",
        "        return major_axis, minor_axis, area, angle\n",
        "    else:\n",
        "        return None, None, None, None\n",
        "\n",
        "# Tạo các cột mới trong DataFrame để lưu thông tin của elip\n",
        "df['Major_Axis'] = np.nan\n",
        "df['Minor_Axis'] = np.nan\n",
        "df['Area'] = np.nan\n",
        "df['Angle'] = np.nan\n",
        "\n",
        "# Duyệt qua toàn bộ DataFrame\n",
        "for index, row in df.iterrows():\n",
        "    # Xác định các thông số của elip cho mỗi ảnh trong cột 'Scaled_Blobs'\n",
        "    major_axis, minor_axis, area, angle = find_ellipse_params(row['Scaled_Blobs'])\n",
        "    # Lưu các thông số vào DataFrame\n",
        "    df.at[index, 'Major_Axis'] = major_axis\n",
        "    df.at[index, 'Minor_Axis'] = minor_axis\n",
        "    df.at[index, 'Area'] = area\n",
        "    df.at[index, 'Angle'] = angle\n",
        "\n",
        "# Hiển thị DataFrame sau khi đã thêm thông tin về elip\n",
        "df.head()\n"
      ]
    },
    {
      "cell_type": "code",
      "execution_count": null,
      "metadata": {
        "id": "CXi8XFj2tosC"
      },
      "outputs": [],
      "source": [
        "# Hàm tính diện tích của elip\n",
        "def calculate_area(a, b):\n",
        "    return math.pi * a * b\n",
        "# Khởi tạo biến count bên ngoài hàm để theo dõi số lần không tìm thấy contour\n",
        "\n",
        "count = 0\n",
        "\n",
        "def find_ellipse_params(img):\n",
        "    global count\n",
        "\n",
        "    # Áp dụng adaptive thresholding\n",
        "    thresh = cv2.adaptiveThreshold(img, 255, cv2.ADAPTIVE_THRESH_MEAN_C, cv2.THRESH_BINARY, 11, 2)\n",
        "\n",
        "    # Tìm contour trong ảnh nhị phân\n",
        "    contours, _ = cv2.findContours(thresh, cv2.RETR_EXTERNAL, cv2.CHAIN_APPROX_SIMPLE)\n",
        "\n",
        "    # Nếu không tìm thấy contour\n",
        "    if not contours:\n",
        "        count += 1  # Tăng biến count lên 1\n",
        "\n",
        "    # Chọn contour lớn nhất\n",
        "    largest_contour = max(contours, key=cv2.contourArea)\n",
        "\n",
        "    # Tìm elip bao xung quanh contour lớn nhất\n",
        "    ellipse = cv2.fitEllipse(largest_contour)\n",
        "\n",
        "    # Trả về các thông số của elip\n",
        "    major_axis = ellipse[1][0]\n",
        "    minor_axis = ellipse[1][1]\n",
        "    area = calculate_area(major_axis / 2, minor_axis / 2)\n",
        "    angle = ellipse[2]\n",
        "\n",
        "    return major_axis, minor_axis, area, angle\n",
        "# Tạo các cột mới trong DataFrame để lưu thông tin của elip\n",
        "df['Major_Axis'] = np.nan\n",
        "df['Minor_Axis'] = np.nan\n",
        "df['Area'] = np.nan\n",
        "df['Angle'] = np.nan\n",
        "\n",
        "# Duyệt qua toàn bộ DataFrame\n",
        "for index, row in df.iterrows():\n",
        "    # Xác định các thông số của elip cho mỗi ảnh trong cột 'Scaled_Blobs'\n",
        "    major_axis, minor_axis, area, angle = find_ellipse_params(row['Scaled_Blobs'])\n",
        "    # Lưu các thông số vào DataFrame\n",
        "    df.at[index, 'Major_Axis'] = major_axis\n",
        "    df.at[index, 'Minor_Axis'] = minor_axis\n",
        "    df.at[index, 'Area'] = area\n",
        "    df.at[index, 'Angle'] = angle"
      ]
    },
    {
      "cell_type": "code",
      "execution_count": null,
      "metadata": {
        "id": "N7zzHd5JvwjW",
        "colab": {
          "base_uri": "https://localhost:8080/",
          "height": 886
        },
        "outputId": "f290ec6e-79fb-4279-9b91-ec5feb4abddf"
      },
      "outputs": [
        {
          "output_type": "execute_result",
          "data": {
            "text/plain": [
              "    Participant Handedness Finger    Task  \\\n",
              "26            7      right  index  SCROLL   \n",
              "27            7      right  index  SCROLL   \n",
              "28            7      right  index  SCROLL   \n",
              "29            7      right  index  SCROLL   \n",
              "30            7      right  index  SCROLL   \n",
              "\n",
              "                                               Matrix      Timestamp  \\\n",
              "26  [[0, -1, 0, -3, 0, 0, 2, 1, 0, 1, -2, 2, 0, 1,...  1509965139675   \n",
              "27  [[0, -1, 0, -3, 0, 0, 2, 1, 0, 1, -2, 2, 0, 1,...  1509965139675   \n",
              "28  [[0, -1, 0, -3, 0, 0, 2, 1, 0, 1, -2, 2, 0, 1,...  1509965139745   \n",
              "29  [[0, -1, 0, -3, 0, 0, 2, 1, 0, 1, -2, 2, 0, 1,...  1509965139817   \n",
              "30  [[0, -1, 0, -3, 0, 0, 2, 1, 0, 1, -2, 2, 0, 1,...  1509965139885   \n",
              "\n",
              "           BlobCoords  BlobCount  \\\n",
              "26  [(9, 13, 11, 16)]          1   \n",
              "27  [(9, 13, 11, 16)]          1   \n",
              "28  [(8, 11, 11, 15)]          1   \n",
              "29  [(6, 10, 10, 14)]          1   \n",
              "30   [(4, 8, 10, 14)]          1   \n",
              "\n",
              "                                                Blobs  \\\n",
              "26  [[4, 9, 13, 5], [5, 31, 57, 15], [13, 120, 220...   \n",
              "27  [[4, 9, 13, 5], [5, 31, 57, 15], [13, 120, 220...   \n",
              "28  [[4, 14, 12], [14, 78, 83], [18, 124, 140], [9...   \n",
              "29  [[6, 8, 15, 9], [15, 46, 69, 13], [23, 151, 23...   \n",
              "30  [[5, 11, 23, 9], [9, 50, 155, 52], [13, 86, 23...   \n",
              "\n",
              "                                            BlobImage  \\\n",
              "26  [[4, 9, 13, 5, 0, 0, 0, 0, 0, 0, 0, 0, 0, 0, 0...   \n",
              "27  [[4, 9, 13, 5, 0, 0, 0, 0, 0, 0, 0, 0, 0, 0, 0...   \n",
              "28  [[4, 14, 12, 0, 0, 0, 0, 0, 0, 0, 0, 0, 0, 0, ...   \n",
              "29  [[6, 8, 15, 9, 0, 0, 0, 0, 0, 0, 0, 0, 0, 0, 0...   \n",
              "30  [[5, 11, 23, 9, 0, 0, 0, 0, 0, 0, 0, 0, 0, 0, ...   \n",
              "\n",
              "                                     BlobImgFlattened  \\\n",
              "26  [4, 9, 13, 5, 0, 0, 0, 0, 0, 0, 0, 0, 0, 0, 0,...   \n",
              "27  [4, 9, 13, 5, 0, 0, 0, 0, 0, 0, 0, 0, 0, 0, 0,...   \n",
              "28  [4, 14, 12, 0, 0, 0, 0, 0, 0, 0, 0, 0, 0, 0, 0...   \n",
              "29  [6, 8, 15, 9, 0, 0, 0, 0, 0, 0, 0, 0, 0, 0, 0,...   \n",
              "30  [5, 11, 23, 9, 0, 0, 0, 0, 0, 0, 0, 0, 0, 0, 0...   \n",
              "\n",
              "                                         Scaled_Blobs  Major_Axis  Minor_Axis  \\\n",
              "26  [[3, 4, 4, 5, 5, 6, 7, 9, 11, 11, 12, 13, 12, ...    9.804294   14.024021   \n",
              "27  [[3, 4, 4, 5, 5, 6, 7, 9, 11, 11, 12, 13, 12, ...   10.345570   12.890965   \n",
              "28  [[2, 2, 2, 3, 2, 4, 4, 4, 4, 2, 3, 2, 1, 0, 0]...   10.345570   12.890965   \n",
              "29  [[5, 5, 5, 5, 4, 4, 5, 6, 7, 9, 11, 12, 13, 12...    9.906662   13.497671   \n",
              "30  [[4, 5, 4, 4, 5, 6, 5, 5, 4, 4, 3, 2, 2, 2, 2,...    8.511100   14.011619   \n",
              "\n",
              "          Area      Angle  \n",
              "26  107.988808  42.690639  \n",
              "27  104.744140  47.160843  \n",
              "28  104.744140  47.160843  \n",
              "29  105.020981  54.622498  \n",
              "30   93.662096  77.459496  "
            ],
            "text/html": [
              "\n",
              "  <div id=\"df-db129a3a-1f6d-4633-aa76-268d602e72c9\" class=\"colab-df-container\">\n",
              "    <div>\n",
              "<style scoped>\n",
              "    .dataframe tbody tr th:only-of-type {\n",
              "        vertical-align: middle;\n",
              "    }\n",
              "\n",
              "    .dataframe tbody tr th {\n",
              "        vertical-align: top;\n",
              "    }\n",
              "\n",
              "    .dataframe thead th {\n",
              "        text-align: right;\n",
              "    }\n",
              "</style>\n",
              "<table border=\"1\" class=\"dataframe\">\n",
              "  <thead>\n",
              "    <tr style=\"text-align: right;\">\n",
              "      <th></th>\n",
              "      <th>Participant</th>\n",
              "      <th>Handedness</th>\n",
              "      <th>Finger</th>\n",
              "      <th>Task</th>\n",
              "      <th>Matrix</th>\n",
              "      <th>Timestamp</th>\n",
              "      <th>BlobCoords</th>\n",
              "      <th>BlobCount</th>\n",
              "      <th>Blobs</th>\n",
              "      <th>BlobImage</th>\n",
              "      <th>BlobImgFlattened</th>\n",
              "      <th>Scaled_Blobs</th>\n",
              "      <th>Major_Axis</th>\n",
              "      <th>Minor_Axis</th>\n",
              "      <th>Area</th>\n",
              "      <th>Angle</th>\n",
              "    </tr>\n",
              "  </thead>\n",
              "  <tbody>\n",
              "    <tr>\n",
              "      <th>26</th>\n",
              "      <td>7</td>\n",
              "      <td>right</td>\n",
              "      <td>index</td>\n",
              "      <td>SCROLL</td>\n",
              "      <td>[[0, -1, 0, -3, 0, 0, 2, 1, 0, 1, -2, 2, 0, 1,...</td>\n",
              "      <td>1509965139675</td>\n",
              "      <td>[(9, 13, 11, 16)]</td>\n",
              "      <td>1</td>\n",
              "      <td>[[4, 9, 13, 5], [5, 31, 57, 15], [13, 120, 220...</td>\n",
              "      <td>[[4, 9, 13, 5, 0, 0, 0, 0, 0, 0, 0, 0, 0, 0, 0...</td>\n",
              "      <td>[4, 9, 13, 5, 0, 0, 0, 0, 0, 0, 0, 0, 0, 0, 0,...</td>\n",
              "      <td>[[3, 4, 4, 5, 5, 6, 7, 9, 11, 11, 12, 13, 12, ...</td>\n",
              "      <td>9.804294</td>\n",
              "      <td>14.024021</td>\n",
              "      <td>107.988808</td>\n",
              "      <td>42.690639</td>\n",
              "    </tr>\n",
              "    <tr>\n",
              "      <th>27</th>\n",
              "      <td>7</td>\n",
              "      <td>right</td>\n",
              "      <td>index</td>\n",
              "      <td>SCROLL</td>\n",
              "      <td>[[0, -1, 0, -3, 0, 0, 2, 1, 0, 1, -2, 2, 0, 1,...</td>\n",
              "      <td>1509965139675</td>\n",
              "      <td>[(9, 13, 11, 16)]</td>\n",
              "      <td>1</td>\n",
              "      <td>[[4, 9, 13, 5], [5, 31, 57, 15], [13, 120, 220...</td>\n",
              "      <td>[[4, 9, 13, 5, 0, 0, 0, 0, 0, 0, 0, 0, 0, 0, 0...</td>\n",
              "      <td>[4, 9, 13, 5, 0, 0, 0, 0, 0, 0, 0, 0, 0, 0, 0,...</td>\n",
              "      <td>[[3, 4, 4, 5, 5, 6, 7, 9, 11, 11, 12, 13, 12, ...</td>\n",
              "      <td>10.345570</td>\n",
              "      <td>12.890965</td>\n",
              "      <td>104.744140</td>\n",
              "      <td>47.160843</td>\n",
              "    </tr>\n",
              "    <tr>\n",
              "      <th>28</th>\n",
              "      <td>7</td>\n",
              "      <td>right</td>\n",
              "      <td>index</td>\n",
              "      <td>SCROLL</td>\n",
              "      <td>[[0, -1, 0, -3, 0, 0, 2, 1, 0, 1, -2, 2, 0, 1,...</td>\n",
              "      <td>1509965139745</td>\n",
              "      <td>[(8, 11, 11, 15)]</td>\n",
              "      <td>1</td>\n",
              "      <td>[[4, 14, 12], [14, 78, 83], [18, 124, 140], [9...</td>\n",
              "      <td>[[4, 14, 12, 0, 0, 0, 0, 0, 0, 0, 0, 0, 0, 0, ...</td>\n",
              "      <td>[4, 14, 12, 0, 0, 0, 0, 0, 0, 0, 0, 0, 0, 0, 0...</td>\n",
              "      <td>[[2, 2, 2, 3, 2, 4, 4, 4, 4, 2, 3, 2, 1, 0, 0]...</td>\n",
              "      <td>10.345570</td>\n",
              "      <td>12.890965</td>\n",
              "      <td>104.744140</td>\n",
              "      <td>47.160843</td>\n",
              "    </tr>\n",
              "    <tr>\n",
              "      <th>29</th>\n",
              "      <td>7</td>\n",
              "      <td>right</td>\n",
              "      <td>index</td>\n",
              "      <td>SCROLL</td>\n",
              "      <td>[[0, -1, 0, -3, 0, 0, 2, 1, 0, 1, -2, 2, 0, 1,...</td>\n",
              "      <td>1509965139817</td>\n",
              "      <td>[(6, 10, 10, 14)]</td>\n",
              "      <td>1</td>\n",
              "      <td>[[6, 8, 15, 9], [15, 46, 69, 13], [23, 151, 23...</td>\n",
              "      <td>[[6, 8, 15, 9, 0, 0, 0, 0, 0, 0, 0, 0, 0, 0, 0...</td>\n",
              "      <td>[6, 8, 15, 9, 0, 0, 0, 0, 0, 0, 0, 0, 0, 0, 0,...</td>\n",
              "      <td>[[5, 5, 5, 5, 4, 4, 5, 6, 7, 9, 11, 12, 13, 12...</td>\n",
              "      <td>9.906662</td>\n",
              "      <td>13.497671</td>\n",
              "      <td>105.020981</td>\n",
              "      <td>54.622498</td>\n",
              "    </tr>\n",
              "    <tr>\n",
              "      <th>30</th>\n",
              "      <td>7</td>\n",
              "      <td>right</td>\n",
              "      <td>index</td>\n",
              "      <td>SCROLL</td>\n",
              "      <td>[[0, -1, 0, -3, 0, 0, 2, 1, 0, 1, -2, 2, 0, 1,...</td>\n",
              "      <td>1509965139885</td>\n",
              "      <td>[(4, 8, 10, 14)]</td>\n",
              "      <td>1</td>\n",
              "      <td>[[5, 11, 23, 9], [9, 50, 155, 52], [13, 86, 23...</td>\n",
              "      <td>[[5, 11, 23, 9, 0, 0, 0, 0, 0, 0, 0, 0, 0, 0, ...</td>\n",
              "      <td>[5, 11, 23, 9, 0, 0, 0, 0, 0, 0, 0, 0, 0, 0, 0...</td>\n",
              "      <td>[[4, 5, 4, 4, 5, 6, 5, 5, 4, 4, 3, 2, 2, 2, 2,...</td>\n",
              "      <td>8.511100</td>\n",
              "      <td>14.011619</td>\n",
              "      <td>93.662096</td>\n",
              "      <td>77.459496</td>\n",
              "    </tr>\n",
              "  </tbody>\n",
              "</table>\n",
              "</div>\n",
              "    <div class=\"colab-df-buttons\">\n",
              "\n",
              "  <div class=\"colab-df-container\">\n",
              "    <button class=\"colab-df-convert\" onclick=\"convertToInteractive('df-db129a3a-1f6d-4633-aa76-268d602e72c9')\"\n",
              "            title=\"Convert this dataframe to an interactive table.\"\n",
              "            style=\"display:none;\">\n",
              "\n",
              "  <svg xmlns=\"http://www.w3.org/2000/svg\" height=\"24px\" viewBox=\"0 -960 960 960\">\n",
              "    <path d=\"M120-120v-720h720v720H120Zm60-500h600v-160H180v160Zm220 220h160v-160H400v160Zm0 220h160v-160H400v160ZM180-400h160v-160H180v160Zm440 0h160v-160H620v160ZM180-180h160v-160H180v160Zm440 0h160v-160H620v160Z\"/>\n",
              "  </svg>\n",
              "    </button>\n",
              "\n",
              "  <style>\n",
              "    .colab-df-container {\n",
              "      display:flex;\n",
              "      gap: 12px;\n",
              "    }\n",
              "\n",
              "    .colab-df-convert {\n",
              "      background-color: #E8F0FE;\n",
              "      border: none;\n",
              "      border-radius: 50%;\n",
              "      cursor: pointer;\n",
              "      display: none;\n",
              "      fill: #1967D2;\n",
              "      height: 32px;\n",
              "      padding: 0 0 0 0;\n",
              "      width: 32px;\n",
              "    }\n",
              "\n",
              "    .colab-df-convert:hover {\n",
              "      background-color: #E2EBFA;\n",
              "      box-shadow: 0px 1px 2px rgba(60, 64, 67, 0.3), 0px 1px 3px 1px rgba(60, 64, 67, 0.15);\n",
              "      fill: #174EA6;\n",
              "    }\n",
              "\n",
              "    .colab-df-buttons div {\n",
              "      margin-bottom: 4px;\n",
              "    }\n",
              "\n",
              "    [theme=dark] .colab-df-convert {\n",
              "      background-color: #3B4455;\n",
              "      fill: #D2E3FC;\n",
              "    }\n",
              "\n",
              "    [theme=dark] .colab-df-convert:hover {\n",
              "      background-color: #434B5C;\n",
              "      box-shadow: 0px 1px 3px 1px rgba(0, 0, 0, 0.15);\n",
              "      filter: drop-shadow(0px 1px 2px rgba(0, 0, 0, 0.3));\n",
              "      fill: #FFFFFF;\n",
              "    }\n",
              "  </style>\n",
              "\n",
              "    <script>\n",
              "      const buttonEl =\n",
              "        document.querySelector('#df-db129a3a-1f6d-4633-aa76-268d602e72c9 button.colab-df-convert');\n",
              "      buttonEl.style.display =\n",
              "        google.colab.kernel.accessAllowed ? 'block' : 'none';\n",
              "\n",
              "      async function convertToInteractive(key) {\n",
              "        const element = document.querySelector('#df-db129a3a-1f6d-4633-aa76-268d602e72c9');\n",
              "        const dataTable =\n",
              "          await google.colab.kernel.invokeFunction('convertToInteractive',\n",
              "                                                    [key], {});\n",
              "        if (!dataTable) return;\n",
              "\n",
              "        const docLinkHtml = 'Like what you see? Visit the ' +\n",
              "          '<a target=\"_blank\" href=https://colab.research.google.com/notebooks/data_table.ipynb>data table notebook</a>'\n",
              "          + ' to learn more about interactive tables.';\n",
              "        element.innerHTML = '';\n",
              "        dataTable['output_type'] = 'display_data';\n",
              "        await google.colab.output.renderOutput(dataTable, element);\n",
              "        const docLink = document.createElement('div');\n",
              "        docLink.innerHTML = docLinkHtml;\n",
              "        element.appendChild(docLink);\n",
              "      }\n",
              "    </script>\n",
              "  </div>\n",
              "\n",
              "\n",
              "<div id=\"df-eb82a0ce-601c-42ea-8374-96cb99999369\">\n",
              "  <button class=\"colab-df-quickchart\" onclick=\"quickchart('df-eb82a0ce-601c-42ea-8374-96cb99999369')\"\n",
              "            title=\"Suggest charts\"\n",
              "            style=\"display:none;\">\n",
              "\n",
              "<svg xmlns=\"http://www.w3.org/2000/svg\" height=\"24px\"viewBox=\"0 0 24 24\"\n",
              "     width=\"24px\">\n",
              "    <g>\n",
              "        <path d=\"M19 3H5c-1.1 0-2 .9-2 2v14c0 1.1.9 2 2 2h14c1.1 0 2-.9 2-2V5c0-1.1-.9-2-2-2zM9 17H7v-7h2v7zm4 0h-2V7h2v10zm4 0h-2v-4h2v4z\"/>\n",
              "    </g>\n",
              "</svg>\n",
              "  </button>\n",
              "\n",
              "<style>\n",
              "  .colab-df-quickchart {\n",
              "      --bg-color: #E8F0FE;\n",
              "      --fill-color: #1967D2;\n",
              "      --hover-bg-color: #E2EBFA;\n",
              "      --hover-fill-color: #174EA6;\n",
              "      --disabled-fill-color: #AAA;\n",
              "      --disabled-bg-color: #DDD;\n",
              "  }\n",
              "\n",
              "  [theme=dark] .colab-df-quickchart {\n",
              "      --bg-color: #3B4455;\n",
              "      --fill-color: #D2E3FC;\n",
              "      --hover-bg-color: #434B5C;\n",
              "      --hover-fill-color: #FFFFFF;\n",
              "      --disabled-bg-color: #3B4455;\n",
              "      --disabled-fill-color: #666;\n",
              "  }\n",
              "\n",
              "  .colab-df-quickchart {\n",
              "    background-color: var(--bg-color);\n",
              "    border: none;\n",
              "    border-radius: 50%;\n",
              "    cursor: pointer;\n",
              "    display: none;\n",
              "    fill: var(--fill-color);\n",
              "    height: 32px;\n",
              "    padding: 0;\n",
              "    width: 32px;\n",
              "  }\n",
              "\n",
              "  .colab-df-quickchart:hover {\n",
              "    background-color: var(--hover-bg-color);\n",
              "    box-shadow: 0 1px 2px rgba(60, 64, 67, 0.3), 0 1px 3px 1px rgba(60, 64, 67, 0.15);\n",
              "    fill: var(--button-hover-fill-color);\n",
              "  }\n",
              "\n",
              "  .colab-df-quickchart-complete:disabled,\n",
              "  .colab-df-quickchart-complete:disabled:hover {\n",
              "    background-color: var(--disabled-bg-color);\n",
              "    fill: var(--disabled-fill-color);\n",
              "    box-shadow: none;\n",
              "  }\n",
              "\n",
              "  .colab-df-spinner {\n",
              "    border: 2px solid var(--fill-color);\n",
              "    border-color: transparent;\n",
              "    border-bottom-color: var(--fill-color);\n",
              "    animation:\n",
              "      spin 1s steps(1) infinite;\n",
              "  }\n",
              "\n",
              "  @keyframes spin {\n",
              "    0% {\n",
              "      border-color: transparent;\n",
              "      border-bottom-color: var(--fill-color);\n",
              "      border-left-color: var(--fill-color);\n",
              "    }\n",
              "    20% {\n",
              "      border-color: transparent;\n",
              "      border-left-color: var(--fill-color);\n",
              "      border-top-color: var(--fill-color);\n",
              "    }\n",
              "    30% {\n",
              "      border-color: transparent;\n",
              "      border-left-color: var(--fill-color);\n",
              "      border-top-color: var(--fill-color);\n",
              "      border-right-color: var(--fill-color);\n",
              "    }\n",
              "    40% {\n",
              "      border-color: transparent;\n",
              "      border-right-color: var(--fill-color);\n",
              "      border-top-color: var(--fill-color);\n",
              "    }\n",
              "    60% {\n",
              "      border-color: transparent;\n",
              "      border-right-color: var(--fill-color);\n",
              "    }\n",
              "    80% {\n",
              "      border-color: transparent;\n",
              "      border-right-color: var(--fill-color);\n",
              "      border-bottom-color: var(--fill-color);\n",
              "    }\n",
              "    90% {\n",
              "      border-color: transparent;\n",
              "      border-bottom-color: var(--fill-color);\n",
              "    }\n",
              "  }\n",
              "</style>\n",
              "\n",
              "  <script>\n",
              "    async function quickchart(key) {\n",
              "      const quickchartButtonEl =\n",
              "        document.querySelector('#' + key + ' button');\n",
              "      quickchartButtonEl.disabled = true;  // To prevent multiple clicks.\n",
              "      quickchartButtonEl.classList.add('colab-df-spinner');\n",
              "      try {\n",
              "        const charts = await google.colab.kernel.invokeFunction(\n",
              "            'suggestCharts', [key], {});\n",
              "      } catch (error) {\n",
              "        console.error('Error during call to suggestCharts:', error);\n",
              "      }\n",
              "      quickchartButtonEl.classList.remove('colab-df-spinner');\n",
              "      quickchartButtonEl.classList.add('colab-df-quickchart-complete');\n",
              "    }\n",
              "    (() => {\n",
              "      let quickchartButtonEl =\n",
              "        document.querySelector('#df-eb82a0ce-601c-42ea-8374-96cb99999369 button');\n",
              "      quickchartButtonEl.style.display =\n",
              "        google.colab.kernel.accessAllowed ? 'block' : 'none';\n",
              "    })();\n",
              "  </script>\n",
              "</div>\n",
              "\n",
              "    </div>\n",
              "  </div>\n"
            ],
            "application/vnd.google.colaboratory.intrinsic+json": {
              "type": "dataframe",
              "variable_name": "df"
            }
          },
          "metadata": {},
          "execution_count": 15
        }
      ],
      "source": [
        "df.head()"
      ]
    },
    {
      "cell_type": "code",
      "execution_count": null,
      "metadata": {
        "id": "6GgG0DXvT2Ul"
      },
      "outputs": [],
      "source": [
        "plt.imshow(img, cmap='gray')"
      ]
    },
    {
      "cell_type": "code",
      "execution_count": null,
      "metadata": {
        "colab": {
          "base_uri": "https://localhost:8080/"
        },
        "id": "zNNnsfIw2Dyp",
        "outputId": "bbfb7cf3-d595-4a86-e9b3-548955277e14"
      },
      "outputs": [
        {
          "data": {
            "text/plain": [
              "455709"
            ]
          },
          "execution_count": 16,
          "metadata": {},
          "output_type": "execute_result"
        }
      ],
      "source": [
        "len(df)"
      ]
    },
    {
      "cell_type": "code",
      "execution_count": null,
      "metadata": {
        "id": "JaK0H0hhJYyN"
      },
      "outputs": [],
      "source": [
        "df.to_pickle('/content/drive/MyDrive/FingerClassification/Data/fulldata.pkl')"
      ]
    }
  ],
  "metadata": {
    "colab": {
      "provenance": [],
      "mount_file_id": "13RrGd-ym-gmdiWNXOoFGWKoKTLPo_RPA",
      "authorship_tag": "ABX9TyO/VU96vhoEKiSK3oVkmH+y",
      "include_colab_link": true
    },
    "kernelspec": {
      "display_name": "Python 3",
      "name": "python3"
    },
    "language_info": {
      "name": "python"
    }
  },
  "nbformat": 4,
  "nbformat_minor": 0
}